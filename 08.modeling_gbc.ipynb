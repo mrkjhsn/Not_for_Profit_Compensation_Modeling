{
 "cells": [
  {
   "cell_type": "markdown",
   "metadata": {},
   "source": [
    "## Gradient Boost Classifier:\n",
    "\n",
    "Using a combination of governance characteristics and organizational characteristics (revenue, assets, ect.) I will predict salary using a Gradient Boost Classifier model."
   ]
  },
  {
   "cell_type": "code",
   "execution_count": 34,
   "metadata": {},
   "outputs": [],
   "source": [
    "import numpy as np\n",
    "import pandas as pd\n",
    "pd.set_option('display.max_columns', None)\n",
    "\n",
    "import matplotlib.pyplot as plt\n",
    "import seaborn as sns\n",
    "plt.style.use('ggplot')\n",
    "\n",
    "from sklearn.svm import SVC\n",
    "from sklearn.decomposition import PCA\n",
    "from sklearn.model_selection import train_test_split\n",
    "from sklearn.metrics import confusion_matrix\n",
    "from sklearn.metrics import classification_report\n",
    "from sklearn.preprocessing import StandardScaler\n",
    "from sklearn.linear_model import LogisticRegression\n",
    "from sklearn import ensemble\n",
    "from sklearn.model_selection import cross_val_score\n",
    "from sklearn.model_selection import GridSearchCV\n",
    "\n",
    "from sklearn.multiclass import OneVsRestClassifier\n",
    "from sklearn.preprocessing import label_binarize\n",
    "from scipy import stats\n",
    "from scipy.special import boxcox, inv_boxcox\n",
    "from sklearn.metrics import precision_recall_curve\n",
    "from sklearn.metrics import average_precision_score\n",
    "from sklearn.metrics import roc_curve, auc\n",
    "from sklearn.metrics import roc_auc_score\n",
    "from numpy import interp\n",
    "import joblib\n",
    "\n",
    "from sklearn.metrics import mean_squared_error\n"
   ]
  },
  {
   "cell_type": "markdown",
   "metadata": {},
   "source": [
    "## IMPORT DATA"
   ]
  },
  {
   "cell_type": "code",
   "execution_count": 3,
   "metadata": {},
   "outputs": [],
   "source": [
    "# import modeling dataset\n",
    "features = pd.get_dummies(pd.read_csv('02.data/model_dataset_features_eng.csv'))\n",
    "X = features.drop(['reportable_comp'], axis=1)\n",
    "\n",
    "y = pd.read_csv('02.data/target_categories_box_cox.csv', header=None, squeeze=True)"
   ]
  },
  {
   "cell_type": "code",
   "execution_count": 4,
   "metadata": {},
   "outputs": [
    {
     "data": {
      "text/plain": [
       "True"
      ]
     },
     "execution_count": 4,
     "metadata": {},
     "output_type": "execute_result"
    }
   ],
   "source": [
    "# verify the size of target and\n",
    "# feature datasets are the same\n",
    "X.shape[0] == y.shape[0]"
   ]
  },
  {
   "cell_type": "markdown",
   "metadata": {},
   "source": [
    "## Gradient Boost Classifier\n",
    "<a id='gbc'></a>"
   ]
  },
  {
   "cell_type": "code",
   "execution_count": 5,
   "metadata": {},
   "outputs": [],
   "source": [
    "X_train, X_test, y_train, y_test = train_test_split(X, y, test_size = 0.2)"
   ]
  },
  {
   "cell_type": "code",
   "execution_count": 10,
   "metadata": {},
   "outputs": [],
   "source": [
    "# randomly choose 10K rows\n",
    "# to parameter tune on\n",
    "feature_sample = pd.concat([\n",
    "    X_train,\n",
    "    y_train\n",
    "], axis=1).sample(n=10000)\n",
    "\n",
    "X_train_sample = feature_sample.drop(0, axis=1)\n",
    "y_train_sample = feature_sample.loc[:, 0]"
   ]
  },
  {
   "cell_type": "code",
   "execution_count": 11,
   "metadata": {},
   "outputs": [
    {
     "data": {
      "text/plain": [
       "GridSearchCV(cv=3, error_score='raise-deprecating',\n",
       "             estimator=GradientBoostingClassifier(criterion='friedman_mse',\n",
       "                                                  init=None, learning_rate=0.1,\n",
       "                                                  loss='deviance', max_depth=3,\n",
       "                                                  max_features=None,\n",
       "                                                  max_leaf_nodes=None,\n",
       "                                                  min_impurity_decrease=0.0,\n",
       "                                                  min_impurity_split=None,\n",
       "                                                  min_samples_leaf=1,\n",
       "                                                  min_samples_split=2,\n",
       "                                                  min_weight_fraction_leaf=0.0,\n",
       "                                                  n_estimators=100,\n",
       "                                                  n_iter_no_change=None,\n",
       "                                                  presort='auto',\n",
       "                                                  random_state=None,\n",
       "                                                  subsample=1.0, tol=0.0001,\n",
       "                                                  validation_fraction=0.1,\n",
       "                                                  verbose=0, warm_start=False),\n",
       "             iid='warn', n_jobs=None,\n",
       "             param_grid={'learning_rate': [0.5, 0.25, 0.1, 0.05, 0.01],\n",
       "                         'max_depth': [3, 10, 20],\n",
       "                         'n_estimators': [10, 20, 50, 100, 200]},\n",
       "             pre_dispatch='2*n_jobs', refit=True, return_train_score=False,\n",
       "             scoring=None, verbose=0)"
      ]
     },
     "execution_count": 11,
     "metadata": {},
     "output_type": "execute_result"
    }
   ],
   "source": [
    "gbc = ensemble.GradientBoostingClassifier()\n",
    "\n",
    "param_grid = { \n",
    "    'learning_rate': [0.5, 0.25, 0.1, 0.05, 0.01],\n",
    "    'n_estimators': [10, 20, 50, 100, 200],\n",
    "    'max_depth' : [3, 10, 20]\n",
    "}\n",
    "\n",
    "cv_gbc = GridSearchCV(estimator=gbc, param_grid=param_grid, cv=3)\n",
    "cv_gbc.fit(X_train_sample, y_train_sample)"
   ]
  },
  {
   "cell_type": "code",
   "execution_count": 13,
   "metadata": {},
   "outputs": [
    {
     "data": {
      "text/plain": [
       "{'learning_rate': 0.1, 'max_depth': 3, 'n_estimators': 100}"
      ]
     },
     "execution_count": 13,
     "metadata": {},
     "output_type": "execute_result"
    }
   ],
   "source": [
    "cv_gbc.best_params_"
   ]
  },
  {
   "cell_type": "code",
   "execution_count": 7,
   "metadata": {},
   "outputs": [
    {
     "data": {
      "text/plain": [
       "['08.models/gbc_params.pkl']"
      ]
     },
     "execution_count": 7,
     "metadata": {},
     "output_type": "execute_result"
    }
   ],
   "source": [
    "# save best parameters\n",
    "joblib.dump({'learning_rate': 0.1, \n",
    " 'max_depth': 3, \n",
    " 'n_estimators': 100}, '08.models/gbc_params.pkl')"
   ]
  },
  {
   "cell_type": "code",
   "execution_count": 13,
   "metadata": {},
   "outputs": [],
   "source": [
    "gbc = ensemble.GradientBoostingClassifier(**joblib.load('08.models/gbc_params.pkl'))"
   ]
  },
  {
   "cell_type": "code",
   "execution_count": 14,
   "metadata": {},
   "outputs": [
    {
     "data": {
      "text/plain": [
       "GradientBoostingClassifier(criterion='friedman_mse', init=None,\n",
       "                           learning_rate=0.1, loss='deviance', max_depth=3,\n",
       "                           max_features=None, max_leaf_nodes=None,\n",
       "                           min_impurity_decrease=0.0, min_impurity_split=None,\n",
       "                           min_samples_leaf=1, min_samples_split=2,\n",
       "                           min_weight_fraction_leaf=0.0, n_estimators=100,\n",
       "                           n_iter_no_change=None, presort='auto',\n",
       "                           random_state=None, subsample=1.0, tol=0.0001,\n",
       "                           validation_fraction=0.1, verbose=0,\n",
       "                           warm_start=False)"
      ]
     },
     "execution_count": 14,
     "metadata": {},
     "output_type": "execute_result"
    }
   ],
   "source": [
    "gbc.fit(X_train, y_train)"
   ]
  },
  {
   "cell_type": "code",
   "execution_count": 16,
   "metadata": {},
   "outputs": [
    {
     "data": {
      "text/plain": [
       "['08.models/gbc_model.pkl']"
      ]
     },
     "execution_count": 16,
     "metadata": {},
     "output_type": "execute_result"
    }
   ],
   "source": [
    "# save model\n",
    "joblib.dump(gbc, '08.models/gbc_model.pkl')"
   ]
  },
  {
   "cell_type": "code",
   "execution_count": 8,
   "metadata": {},
   "outputs": [],
   "source": [
    "# load model from pickel\n",
    "gbc = joblib.load('08.models/gbc_model.pkl')"
   ]
  },
  {
   "cell_type": "code",
   "execution_count": 18,
   "metadata": {},
   "outputs": [
    {
     "data": {
      "text/plain": [
       "array([0.24541118, 0.24874255, 0.25501789, 0.25022045, 0.24893661])"
      ]
     },
     "execution_count": 18,
     "metadata": {},
     "output_type": "execute_result"
    }
   ],
   "source": [
    "# train model\n",
    "cross_val_score(gbc, X_train, y_train, cv=5)"
   ]
  },
  {
   "cell_type": "code",
   "execution_count": 19,
   "metadata": {},
   "outputs": [
    {
     "data": {
      "text/plain": [
       "0.282774429773154"
      ]
     },
     "execution_count": 19,
     "metadata": {},
     "output_type": "execute_result"
    }
   ],
   "source": [
    "gbc.score(X_train, y_train)"
   ]
  },
  {
   "cell_type": "code",
   "execution_count": 17,
   "metadata": {},
   "outputs": [
    {
     "data": {
      "text/plain": [
       "0.2550304941293615"
      ]
     },
     "execution_count": 17,
     "metadata": {},
     "output_type": "execute_result"
    }
   ],
   "source": [
    "# test model on unseen data\n",
    "gbc.score(X_test, y_test)"
   ]
  },
  {
   "cell_type": "code",
   "execution_count": 21,
   "metadata": {},
   "outputs": [],
   "source": [
    "# predict categores\n",
    "pred = gbc.predict(X_test)"
   ]
  },
  {
   "cell_type": "code",
   "execution_count": 22,
   "metadata": {},
   "outputs": [],
   "source": [
    "# create confusion matrix and\n",
    "# normalize the matrix to more accurately \n",
    "# compare which predictions the model is getting wrong\n",
    "norm_conf_matrix = confusion_matrix(y_test, pred) / \\\n",
    "confusion_matrix(y_test, pred).sum(axis=1, keepdims=True)"
   ]
  },
  {
   "cell_type": "code",
   "execution_count": 33,
   "metadata": {},
   "outputs": [
    {
     "data": {
      "image/png": "[encoded data removed]",
      "text/plain": [
       "<Figure size 720x720 with 2 Axes>"
      ]
     },
     "metadata": {
      "needs_background": "light"
     },
     "output_type": "display_data"
    }
   ],
   "source": [
    "# display only the diagonal values\n",
    "# representing values the model correctly predicted\n",
    "plt.figure(figsize=(10, 10))\n",
    "\n",
    "sns.heatmap(np.where(np.diagflat(np.diagonal(norm_conf_matrix))\n",
    "            ==0, np.nan, np.diagflat(np.diagonal(norm_conf_matrix))),\n",
    "            cmap='BuPu',\n",
    "            annot=True,\n",
    "            square=True,\n",
    "            );\n",
    "plt.ylabel('Actual')\n",
    "plt.xlabel('Predicted')\n",
    "plt.title('Correct Predictions');"
   ]
  },
  {
   "cell_type": "code",
   "execution_count": 32,
   "metadata": {},
   "outputs": [
    {
     "data": {
      "image/png": "[encoded data removed]",
      "text/plain": [
       "<Figure size 720x720 with 2 Axes>"
      ]
     },
     "metadata": {
      "needs_background": "light"
     },
     "output_type": "display_data"
    }
   ],
   "source": [
    "# compare correct and incorrect predictions\n",
    "plt.figure(figsize=(10, 10))\n",
    "# np.fill_diagonal(norm_conf_matrix, 0)\n",
    "\n",
    "ax = sns.heatmap(norm_conf_matrix, \n",
    "                 square=True, annot=True, \n",
    "                 cmap='BuPu')\n",
    "\n",
    "plt.ylabel('Actual Categories')\n",
    "plt.xlabel('Predicted Categories')\n",
    "\n",
    "plt.title('Normalized Confustion Matrix')\n",
    "plt.tight_layout()\n",
    "plt.savefig('03.visualizations/heat_map_gbc.png');"
   ]
  },
  {
   "cell_type": "code",
   "execution_count": 35,
   "metadata": {},
   "outputs": [
    {
     "name": "stdout",
     "output_type": "stream",
     "text": [
      "              precision    recall  f1-score   support\n",
      "\n",
      "           0      0.380     0.360     0.370      1155\n",
      "           1      0.303     0.324     0.313      2285\n",
      "           2      0.271     0.289     0.280      2956\n",
      "           3      0.228     0.289     0.255      3263\n",
      "           4      0.230     0.115     0.154      3131\n",
      "           5      0.216     0.230     0.223      3139\n",
      "           6      0.234     0.357     0.283      3042\n",
      "           7      0.260     0.210     0.233      2495\n",
      "           8      0.280     0.201     0.234      1730\n",
      "           9      0.317     0.165     0.217       907\n",
      "\n",
      "    accuracy                          0.255     24103\n",
      "   macro avg      0.272     0.254     0.256     24103\n",
      "weighted avg      0.258     0.255     0.250     24103\n",
      "\n"
     ]
    }
   ],
   "source": [
    "print(classification_report(y_test, pred, digits=3))"
   ]
  },
  {
   "cell_type": "code",
   "execution_count": 27,
   "metadata": {},
   "outputs": [],
   "source": [
    "f_importances = pd.Series(gbc.feature_importances_, \n",
    "          X_train.columns).sort_values(ascending=False)"
   ]
  },
  {
   "cell_type": "code",
   "execution_count": 31,
   "metadata": {},
   "outputs": [
    {
     "data": {
      "image/png": "[encoded data removed]",
      "text/plain": [
       "<Figure size 576x576 with 1 Axes>"
      ]
     },
     "metadata": {
      "needs_background": "light"
     },
     "output_type": "display_data"
    }
   ],
   "source": [
    "f_importances.plot(kind='barh', figsize=(8, 8))\n",
    "\n",
    "plt.title('Feature Importances')\n",
    "\n",
    "plt.tight_layout()\n",
    "\n",
    "plt.savefig('03.visualizations/gbc_feature_importance.png');"
   ]
  },
  {
   "cell_type": "markdown",
   "metadata": {},
   "source": [
    "## Examining classification results "
   ]
  },
  {
   "cell_type": "markdown",
   "metadata": {},
   "source": [
    "### 1. Compare category assignment salaries against actual salaries and compute MSE(mean squared error)"
   ]
  },
  {
   "cell_type": "code",
   "execution_count": 33,
   "metadata": {},
   "outputs": [],
   "source": [
    "# import dict with mean salary for each category\n",
    "category_median_salary = pd.read_csv('02.data/category_median_salary.csv', squeeze=True).to_dict()"
   ]
  },
  {
   "cell_type": "code",
   "execution_count": 34,
   "metadata": {},
   "outputs": [
    {
     "data": {
      "text/plain": [
       "0        187775.0\n",
       "1         85079.0\n",
       "2         85079.0\n",
       "3        101667.5\n",
       "4        152129.0\n",
       "           ...   \n",
       "24098    152129.0\n",
       "24099    101667.5\n",
       "24100    187775.0\n",
       "24101    152129.0\n",
       "24102    333669.0\n",
       "Length: 24103, dtype: float64"
      ]
     },
     "execution_count": 34,
     "metadata": {},
     "output_type": "execute_result"
    }
   ],
   "source": [
    "# access median salary for each category within dictionary\n",
    "pd.Series(pred).apply(lambda x: category_median_salary[x])"
   ]
  },
  {
   "cell_type": "code",
   "execution_count": 37,
   "metadata": {},
   "outputs": [
    {
     "data": {
      "text/plain": [
       "177270.67978156684"
      ]
     },
     "execution_count": 37,
     "metadata": {},
     "output_type": "execute_result"
    }
   ],
   "source": [
    "np.sqrt(mean_squared_error(y_test, pd.Series(pred).apply(lambda x: category_median_salary[x])))"
   ]
  },
  {
   "cell_type": "markdown",
   "metadata": {},
   "source": [
    "### 2. Compare composite salaries against actual salaries and compute MSE(mean squared error)"
   ]
  },
  {
   "cell_type": "code",
   "execution_count": 39,
   "metadata": {},
   "outputs": [],
   "source": [
    "# examine probability of assignment\n",
    "# to specific categories\n",
    "prob_pred = pd.DataFrame(gbc.predict_proba(X_test))"
   ]
  },
  {
   "cell_type": "code",
   "execution_count": 40,
   "metadata": {},
   "outputs": [
    {
     "data": {
      "text/html": [
       "<div>\n",
       "<style scoped>\n",
       "    .dataframe tbody tr th:only-of-type {\n",
       "        vertical-align: middle;\n",
       "    }\n",
       "\n",
       "    .dataframe tbody tr th {\n",
       "        vertical-align: top;\n",
       "    }\n",
       "\n",
       "    .dataframe thead th {\n",
       "        text-align: right;\n",
       "    }\n",
       "</style>\n",
       "<table border=\"1\" class=\"dataframe\">\n",
       "  <thead>\n",
       "    <tr style=\"text-align: right;\">\n",
       "      <th></th>\n",
       "      <th>0</th>\n",
       "      <th>1</th>\n",
       "      <th>2</th>\n",
       "      <th>3</th>\n",
       "      <th>4</th>\n",
       "      <th>5</th>\n",
       "      <th>6</th>\n",
       "      <th>7</th>\n",
       "      <th>8</th>\n",
       "      <th>9</th>\n",
       "    </tr>\n",
       "  </thead>\n",
       "  <tbody>\n",
       "    <tr>\n",
       "      <td>0</td>\n",
       "      <td>0.001774</td>\n",
       "      <td>0.018043</td>\n",
       "      <td>0.041709</td>\n",
       "      <td>0.083034</td>\n",
       "      <td>0.154682</td>\n",
       "      <td>0.176835</td>\n",
       "      <td>0.229508</td>\n",
       "      <td>0.146426</td>\n",
       "      <td>0.105346</td>\n",
       "      <td>0.042643</td>\n",
       "    </tr>\n",
       "    <tr>\n",
       "      <td>1</td>\n",
       "      <td>0.030113</td>\n",
       "      <td>0.115326</td>\n",
       "      <td>0.203852</td>\n",
       "      <td>0.201319</td>\n",
       "      <td>0.178350</td>\n",
       "      <td>0.131144</td>\n",
       "      <td>0.069374</td>\n",
       "      <td>0.041216</td>\n",
       "      <td>0.026350</td>\n",
       "      <td>0.002954</td>\n",
       "    </tr>\n",
       "    <tr>\n",
       "      <td>2</td>\n",
       "      <td>0.002249</td>\n",
       "      <td>0.063606</td>\n",
       "      <td>0.234924</td>\n",
       "      <td>0.234051</td>\n",
       "      <td>0.189921</td>\n",
       "      <td>0.145838</td>\n",
       "      <td>0.076126</td>\n",
       "      <td>0.031245</td>\n",
       "      <td>0.017943</td>\n",
       "      <td>0.004097</td>\n",
       "    </tr>\n",
       "    <tr>\n",
       "      <td>3</td>\n",
       "      <td>0.002091</td>\n",
       "      <td>0.036134</td>\n",
       "      <td>0.152543</td>\n",
       "      <td>0.207026</td>\n",
       "      <td>0.203924</td>\n",
       "      <td>0.187365</td>\n",
       "      <td>0.130536</td>\n",
       "      <td>0.057097</td>\n",
       "      <td>0.017375</td>\n",
       "      <td>0.005909</td>\n",
       "    </tr>\n",
       "    <tr>\n",
       "      <td>4</td>\n",
       "      <td>0.002378</td>\n",
       "      <td>0.012751</td>\n",
       "      <td>0.073072</td>\n",
       "      <td>0.148667</td>\n",
       "      <td>0.178554</td>\n",
       "      <td>0.253317</td>\n",
       "      <td>0.196828</td>\n",
       "      <td>0.085904</td>\n",
       "      <td>0.036579</td>\n",
       "      <td>0.011951</td>\n",
       "    </tr>\n",
       "    <tr>\n",
       "      <td>...</td>\n",
       "      <td>...</td>\n",
       "      <td>...</td>\n",
       "      <td>...</td>\n",
       "      <td>...</td>\n",
       "      <td>...</td>\n",
       "      <td>...</td>\n",
       "      <td>...</td>\n",
       "      <td>...</td>\n",
       "      <td>...</td>\n",
       "      <td>...</td>\n",
       "    </tr>\n",
       "    <tr>\n",
       "      <td>24098</td>\n",
       "      <td>0.060568</td>\n",
       "      <td>0.065452</td>\n",
       "      <td>0.074778</td>\n",
       "      <td>0.148999</td>\n",
       "      <td>0.170301</td>\n",
       "      <td>0.182052</td>\n",
       "      <td>0.151408</td>\n",
       "      <td>0.109392</td>\n",
       "      <td>0.030664</td>\n",
       "      <td>0.006388</td>\n",
       "    </tr>\n",
       "    <tr>\n",
       "      <td>24099</td>\n",
       "      <td>0.002366</td>\n",
       "      <td>0.013693</td>\n",
       "      <td>0.154760</td>\n",
       "      <td>0.301490</td>\n",
       "      <td>0.213528</td>\n",
       "      <td>0.184458</td>\n",
       "      <td>0.073075</td>\n",
       "      <td>0.032969</td>\n",
       "      <td>0.018825</td>\n",
       "      <td>0.004836</td>\n",
       "    </tr>\n",
       "    <tr>\n",
       "      <td>24100</td>\n",
       "      <td>0.006078</td>\n",
       "      <td>0.046732</td>\n",
       "      <td>0.050499</td>\n",
       "      <td>0.077877</td>\n",
       "      <td>0.113555</td>\n",
       "      <td>0.126456</td>\n",
       "      <td>0.368146</td>\n",
       "      <td>0.176804</td>\n",
       "      <td>0.027957</td>\n",
       "      <td>0.005894</td>\n",
       "    </tr>\n",
       "    <tr>\n",
       "      <td>24101</td>\n",
       "      <td>0.012426</td>\n",
       "      <td>0.019972</td>\n",
       "      <td>0.031422</td>\n",
       "      <td>0.062543</td>\n",
       "      <td>0.116821</td>\n",
       "      <td>0.182286</td>\n",
       "      <td>0.178606</td>\n",
       "      <td>0.161667</td>\n",
       "      <td>0.125418</td>\n",
       "      <td>0.108838</td>\n",
       "    </tr>\n",
       "    <tr>\n",
       "      <td>24102</td>\n",
       "      <td>0.000863</td>\n",
       "      <td>0.010024</td>\n",
       "      <td>0.017087</td>\n",
       "      <td>0.018122</td>\n",
       "      <td>0.029291</td>\n",
       "      <td>0.063330</td>\n",
       "      <td>0.169441</td>\n",
       "      <td>0.234657</td>\n",
       "      <td>0.271258</td>\n",
       "      <td>0.185927</td>\n",
       "    </tr>\n",
       "  </tbody>\n",
       "</table>\n",
       "<p>24103 rows × 10 columns</p>\n",
       "</div>"
      ],
      "text/plain": [
       "              0         1         2         3         4         5         6  \\\n",
       "0      0.001774  0.018043  0.041709  0.083034  0.154682  0.176835  0.229508   \n",
       "1      0.030113  0.115326  0.203852  0.201319  0.178350  0.131144  0.069374   \n",
       "2      0.002249  0.063606  0.234924  0.234051  0.189921  0.145838  0.076126   \n",
       "3      0.002091  0.036134  0.152543  0.207026  0.203924  0.187365  0.130536   \n",
       "4      0.002378  0.012751  0.073072  0.148667  0.178554  0.253317  0.196828   \n",
       "...         ...       ...       ...       ...       ...       ...       ...   \n",
       "24098  0.060568  0.065452  0.074778  0.148999  0.170301  0.182052  0.151408   \n",
       "24099  0.002366  0.013693  0.154760  0.301490  0.213528  0.184458  0.073075   \n",
       "24100  0.006078  0.046732  0.050499  0.077877  0.113555  0.126456  0.368146   \n",
       "24101  0.012426  0.019972  0.031422  0.062543  0.116821  0.182286  0.178606   \n",
       "24102  0.000863  0.010024  0.017087  0.018122  0.029291  0.063330  0.169441   \n",
       "\n",
       "              7         8         9  \n",
       "0      0.146426  0.105346  0.042643  \n",
       "1      0.041216  0.026350  0.002954  \n",
       "2      0.031245  0.017943  0.004097  \n",
       "3      0.057097  0.017375  0.005909  \n",
       "4      0.085904  0.036579  0.011951  \n",
       "...         ...       ...       ...  \n",
       "24098  0.109392  0.030664  0.006388  \n",
       "24099  0.032969  0.018825  0.004836  \n",
       "24100  0.176804  0.027957  0.005894  \n",
       "24101  0.161667  0.125418  0.108838  \n",
       "24102  0.234657  0.271258  0.185927  \n",
       "\n",
       "[24103 rows x 10 columns]"
      ]
     },
     "execution_count": 40,
     "metadata": {},
     "output_type": "execute_result"
    }
   ],
   "source": [
    "prob_pred"
   ]
  },
  {
   "cell_type": "code",
   "execution_count": 41,
   "metadata": {},
   "outputs": [],
   "source": [
    "# import dict with mean salary for each category\n",
    "category_median_salary = pd.read_csv('02.data/category_median_salary.csv', squeeze=True).to_dict()"
   ]
  },
  {
   "cell_type": "code",
   "execution_count": 42,
   "metadata": {},
   "outputs": [
    {
     "data": {
      "text/plain": [
       "{0: 60000.0,\n",
       " 1: 72000.0,\n",
       " 2: 85079.0,\n",
       " 3: 101667.5,\n",
       " 4: 122761.0,\n",
       " 5: 152129.0,\n",
       " 6: 187775.0,\n",
       " 7: 241712.0,\n",
       " 8: 333669.0,\n",
       " 9: 537557.5}"
      ]
     },
     "execution_count": 42,
     "metadata": {},
     "output_type": "execute_result"
    }
   ],
   "source": [
    "# examine dictionary to make sure it looks as it should\n",
    "category_median_salary"
   ]
  },
  {
   "cell_type": "code",
   "execution_count": 44,
   "metadata": {},
   "outputs": [],
   "source": [
    "# multipy each column probability by \n",
    "# the median value for that salary category\n",
    "frac_salary = pd.DataFrame(prob_pred)\n",
    "\n",
    "for column in frac_salary.columns:\n",
    "    frac_salary[column] = frac_salary[column] * category_median_salary[column]"
   ]
  },
  {
   "cell_type": "code",
   "execution_count": 45,
   "metadata": {},
   "outputs": [
    {
     "data": {
      "text/html": [
       "<div>\n",
       "<style scoped>\n",
       "    .dataframe tbody tr th:only-of-type {\n",
       "        vertical-align: middle;\n",
       "    }\n",
       "\n",
       "    .dataframe tbody tr th {\n",
       "        vertical-align: top;\n",
       "    }\n",
       "\n",
       "    .dataframe thead th {\n",
       "        text-align: right;\n",
       "    }\n",
       "</style>\n",
       "<table border=\"1\" class=\"dataframe\">\n",
       "  <thead>\n",
       "    <tr style=\"text-align: right;\">\n",
       "      <th></th>\n",
       "      <th>0</th>\n",
       "      <th>1</th>\n",
       "      <th>2</th>\n",
       "      <th>3</th>\n",
       "      <th>4</th>\n",
       "      <th>5</th>\n",
       "      <th>6</th>\n",
       "      <th>7</th>\n",
       "      <th>8</th>\n",
       "      <th>9</th>\n",
       "    </tr>\n",
       "  </thead>\n",
       "  <tbody>\n",
       "    <tr>\n",
       "      <td>0</td>\n",
       "      <td>106.414390</td>\n",
       "      <td>1299.086014</td>\n",
       "      <td>3548.546981</td>\n",
       "      <td>8441.889446</td>\n",
       "      <td>18988.933399</td>\n",
       "      <td>26901.780677</td>\n",
       "      <td>43095.929983</td>\n",
       "      <td>35392.942767</td>\n",
       "      <td>35150.698276</td>\n",
       "      <td>22922.805311</td>\n",
       "    </tr>\n",
       "    <tr>\n",
       "      <td>1</td>\n",
       "      <td>1806.781413</td>\n",
       "      <td>8303.478777</td>\n",
       "      <td>17343.566247</td>\n",
       "      <td>20467.633725</td>\n",
       "      <td>21894.445133</td>\n",
       "      <td>19950.824114</td>\n",
       "      <td>13026.772951</td>\n",
       "      <td>9962.326670</td>\n",
       "      <td>8792.333626</td>\n",
       "      <td>1588.069808</td>\n",
       "    </tr>\n",
       "    <tr>\n",
       "      <td>2</td>\n",
       "      <td>134.932559</td>\n",
       "      <td>4579.623213</td>\n",
       "      <td>19987.082734</td>\n",
       "      <td>23795.344235</td>\n",
       "      <td>23314.939840</td>\n",
       "      <td>22186.220063</td>\n",
       "      <td>14294.539046</td>\n",
       "      <td>7552.280264</td>\n",
       "      <td>5987.137034</td>\n",
       "      <td>2202.377926</td>\n",
       "    </tr>\n",
       "    <tr>\n",
       "      <td>3</td>\n",
       "      <td>125.483791</td>\n",
       "      <td>2601.683033</td>\n",
       "      <td>12978.165740</td>\n",
       "      <td>21047.804159</td>\n",
       "      <td>25033.921812</td>\n",
       "      <td>28503.586034</td>\n",
       "      <td>24511.351980</td>\n",
       "      <td>13801.000749</td>\n",
       "      <td>5797.492720</td>\n",
       "      <td>3176.666106</td>\n",
       "    </tr>\n",
       "    <tr>\n",
       "      <td>4</td>\n",
       "      <td>142.664993</td>\n",
       "      <td>918.049891</td>\n",
       "      <td>6216.929886</td>\n",
       "      <td>15114.567272</td>\n",
       "      <td>21919.406614</td>\n",
       "      <td>38536.902741</td>\n",
       "      <td>36959.357255</td>\n",
       "      <td>20764.063567</td>\n",
       "      <td>12205.238801</td>\n",
       "      <td>6424.226461</td>\n",
       "    </tr>\n",
       "    <tr>\n",
       "      <td>...</td>\n",
       "      <td>...</td>\n",
       "      <td>...</td>\n",
       "      <td>...</td>\n",
       "      <td>...</td>\n",
       "      <td>...</td>\n",
       "      <td>...</td>\n",
       "      <td>...</td>\n",
       "      <td>...</td>\n",
       "      <td>...</td>\n",
       "      <td>...</td>\n",
       "    </tr>\n",
       "    <tr>\n",
       "      <td>24098</td>\n",
       "      <td>3634.069329</td>\n",
       "      <td>4712.515904</td>\n",
       "      <td>6362.053480</td>\n",
       "      <td>15148.308666</td>\n",
       "      <td>20906.288092</td>\n",
       "      <td>27695.376571</td>\n",
       "      <td>28430.559501</td>\n",
       "      <td>26441.420106</td>\n",
       "      <td>10231.489139</td>\n",
       "      <td>3433.790611</td>\n",
       "    </tr>\n",
       "    <tr>\n",
       "      <td>24099</td>\n",
       "      <td>141.947743</td>\n",
       "      <td>985.867494</td>\n",
       "      <td>13166.826685</td>\n",
       "      <td>30651.686306</td>\n",
       "      <td>26212.946584</td>\n",
       "      <td>28061.409926</td>\n",
       "      <td>13721.690031</td>\n",
       "      <td>7969.064224</td>\n",
       "      <td>6281.407512</td>\n",
       "      <td>2599.678905</td>\n",
       "    </tr>\n",
       "    <tr>\n",
       "      <td>24100</td>\n",
       "      <td>364.701591</td>\n",
       "      <td>3364.726725</td>\n",
       "      <td>4296.432441</td>\n",
       "      <td>7917.583876</td>\n",
       "      <td>13940.090035</td>\n",
       "      <td>19237.651660</td>\n",
       "      <td>69128.702805</td>\n",
       "      <td>42735.641604</td>\n",
       "      <td>9328.497671</td>\n",
       "      <td>3168.413458</td>\n",
       "    </tr>\n",
       "    <tr>\n",
       "      <td>24101</td>\n",
       "      <td>745.559374</td>\n",
       "      <td>1437.962428</td>\n",
       "      <td>2673.353191</td>\n",
       "      <td>6358.564768</td>\n",
       "      <td>14341.026709</td>\n",
       "      <td>27731.039020</td>\n",
       "      <td>33537.784784</td>\n",
       "      <td>39076.937722</td>\n",
       "      <td>41848.265384</td>\n",
       "      <td>58506.913070</td>\n",
       "    </tr>\n",
       "    <tr>\n",
       "      <td>24102</td>\n",
       "      <td>51.791101</td>\n",
       "      <td>721.747663</td>\n",
       "      <td>1453.736986</td>\n",
       "      <td>1842.412894</td>\n",
       "      <td>3595.746835</td>\n",
       "      <td>9634.278544</td>\n",
       "      <td>31816.792501</td>\n",
       "      <td>56719.498299</td>\n",
       "      <td>90510.257399</td>\n",
       "      <td>99946.657600</td>\n",
       "    </tr>\n",
       "  </tbody>\n",
       "</table>\n",
       "<p>24103 rows × 10 columns</p>\n",
       "</div>"
      ],
      "text/plain": [
       "                 0            1             2             3             4  \\\n",
       "0       106.414390  1299.086014   3548.546981   8441.889446  18988.933399   \n",
       "1      1806.781413  8303.478777  17343.566247  20467.633725  21894.445133   \n",
       "2       134.932559  4579.623213  19987.082734  23795.344235  23314.939840   \n",
       "3       125.483791  2601.683033  12978.165740  21047.804159  25033.921812   \n",
       "4       142.664993   918.049891   6216.929886  15114.567272  21919.406614   \n",
       "...            ...          ...           ...           ...           ...   \n",
       "24098  3634.069329  4712.515904   6362.053480  15148.308666  20906.288092   \n",
       "24099   141.947743   985.867494  13166.826685  30651.686306  26212.946584   \n",
       "24100   364.701591  3364.726725   4296.432441   7917.583876  13940.090035   \n",
       "24101   745.559374  1437.962428   2673.353191   6358.564768  14341.026709   \n",
       "24102    51.791101   721.747663   1453.736986   1842.412894   3595.746835   \n",
       "\n",
       "                  5             6             7             8             9  \n",
       "0      26901.780677  43095.929983  35392.942767  35150.698276  22922.805311  \n",
       "1      19950.824114  13026.772951   9962.326670   8792.333626   1588.069808  \n",
       "2      22186.220063  14294.539046   7552.280264   5987.137034   2202.377926  \n",
       "3      28503.586034  24511.351980  13801.000749   5797.492720   3176.666106  \n",
       "4      38536.902741  36959.357255  20764.063567  12205.238801   6424.226461  \n",
       "...             ...           ...           ...           ...           ...  \n",
       "24098  27695.376571  28430.559501  26441.420106  10231.489139   3433.790611  \n",
       "24099  28061.409926  13721.690031   7969.064224   6281.407512   2599.678905  \n",
       "24100  19237.651660  69128.702805  42735.641604   9328.497671   3168.413458  \n",
       "24101  27731.039020  33537.784784  39076.937722  41848.265384  58506.913070  \n",
       "24102   9634.278544  31816.792501  56719.498299  90510.257399  99946.657600  \n",
       "\n",
       "[24103 rows x 10 columns]"
      ]
     },
     "execution_count": 45,
     "metadata": {},
     "output_type": "execute_result"
    }
   ],
   "source": [
    "frac_salary"
   ]
  },
  {
   "cell_type": "code",
   "execution_count": 46,
   "metadata": {},
   "outputs": [
    {
     "data": {
      "text/plain": [
       "174944.693747964"
      ]
     },
     "execution_count": 46,
     "metadata": {},
     "output_type": "execute_result"
    }
   ],
   "source": [
    "np.sqrt(mean_squared_error(y_test, frac_salary.sum(axis=1)))"
   ]
  },
  {
   "cell_type": "markdown",
   "metadata": {},
   "source": [
    "### 3. Compare category assignment for top two categories against actual salaries and compute MSE(mean squared error)"
   ]
  },
  {
   "cell_type": "code",
   "execution_count": 47,
   "metadata": {},
   "outputs": [],
   "source": [
    "# find top two percents\n",
    "top_two_prob = pd.DataFrame(prob_pred).apply(lambda x: pd.Series(x.nlargest(2)), axis=1)"
   ]
  },
  {
   "cell_type": "code",
   "execution_count": 48,
   "metadata": {},
   "outputs": [],
   "source": [
    "# prorate percentages to 100% total\n",
    "top_two_prob = top_two_prob.div(top_two_prob.sum(axis=1), axis=0)"
   ]
  },
  {
   "cell_type": "code",
   "execution_count": 49,
   "metadata": {},
   "outputs": [],
   "source": [
    "# multiply each percent by \n",
    "# corresponding median category level\n",
    "for column in top_two_prob.columns:\n",
    "    top_two_prob[column] = top_two_prob[column] * category_median_salary[column]"
   ]
  },
  {
   "cell_type": "code",
   "execution_count": 50,
   "metadata": {},
   "outputs": [
    {
     "data": {
      "text/plain": [
       "218936.26685505893"
      ]
     },
     "execution_count": 50,
     "metadata": {},
     "output_type": "execute_result"
    }
   ],
   "source": [
    "np.sqrt(mean_squared_error(y_test, top_two_prob.sum(axis=1)))"
   ]
  },
  {
   "cell_type": "markdown",
   "metadata": {},
   "source": [
    "### Comparison between all methods"
   ]
  },
  {
   "cell_type": "code",
   "execution_count": 51,
   "metadata": {},
   "outputs": [
    {
     "data": {
      "image/png": "[encoded data removed]",
      "text/plain": [
       "<Figure size 576x288 with 1 Axes>"
      ]
     },
     "metadata": {},
     "output_type": "display_data"
    }
   ],
   "source": [
    "# combine adjustments to be able to plot\n",
    "# and visualize differences between each\n",
    "ax = pd.DataFrame(index=['Category Predictions',\n",
    "    'Prediction Confidence Prorated - All',\n",
    "    'Prediction Confidence Prorated - Top Two Categories'],\n",
    "data=[np.sqrt(mean_squared_error(y_test, pd.Series(pred).apply(lambda x: category_median_salary[x]))),\n",
    "np.sqrt(mean_squared_error(y_test, frac_salary.sum(axis=1))),\n",
    "np.sqrt(mean_squared_error(y_test, top_two_prob.sum(axis=1)))]).plot(kind='bar',\n",
    "                                                                      figsize=(8,4), \n",
    "                                                                    legend=False)\n",
    "\n",
    "plt.ylim((pd.DataFrame(index=['Category Predictions',\n",
    "    'Prediction Confidence Prorated - All',\n",
    "    'Prediction Confidence Prorated - Top Two Categories'],\n",
    "data=[np.sqrt(mean_squared_error(y_test, pd.Series(pred).apply(lambda x: category_median_salary[x]))),\n",
    "np.sqrt(mean_squared_error(y_test, frac_salary.sum(axis=1))),\n",
    "np.sqrt(mean_squared_error(y_test, top_two_prob.sum(axis=1)))]).min() - 10000).values,\n",
    "         (pd.DataFrame(index=['Category Predictions',\n",
    "    'Prediction Confidence Prorated - All',\n",
    "    'Prediction Confidence Prorated - Top Two Categories'],\n",
    "data=[np.sqrt(mean_squared_error(y_test, pd.Series(pred).apply(lambda x: category_median_salary[x]))),\n",
    "np.sqrt(mean_squared_error(y_test, frac_salary.sum(axis=1))),\n",
    "np.sqrt(mean_squared_error(y_test, top_two_prob.sum(axis=1)))]).max() + 10000).values)\n",
    "\n",
    "plt.title('Prediction MSE')\n",
    "plt.ylabel('Salary')\n",
    "plt.xticks(rotation=10, horizontalalignment=\"right\")\n",
    "\n",
    "plt.tight_layout()\n",
    "plt.savefig('03.visualizations/classification_adjust.png');"
   ]
  },
  {
   "cell_type": "markdown",
   "metadata": {},
   "source": [
    "The difference is actually quite small, nevertheless there is some benefit to adjusting based on the probability of assignment."
   ]
  }
 ],
 "metadata": {
  "kernelspec": {
   "display_name": "Python 3",
   "language": "python",
   "name": "python3"
  },
  "language_info": {
   "codemirror_mode": {
    "name": "ipython",
    "version": 3
   },
   "file_extension": ".py",
   "mimetype": "text/x-python",
   "name": "python",
   "nbconvert_exporter": "python",
   "pygments_lexer": "ipython3",
   "version": "3.7.3"
  }
 },
 "nbformat": 4,
 "nbformat_minor": 4
}
