{
 "cells": [
  {
   "cell_type": "markdown",
   "metadata": {},
   "source": [
    "### How much such a not-for-profit organization pay it's top management?  Not-for-profit organizations devoted to specific causes have a huge amount of variablity (revenue, number of volunteers, ect.).  How much should not-for-profits award their top managment?\n",
    "### Data source:\n",
    "\n",
    "The data for this project was aquired from Open990(https://www.open990.org/catalog/), an organization that aggregates and provides not-for-profit tax return data made public by the IRS.  This dataset has great documentation about what the attributes mean, however this only includes data for 1 year(2016).  The organization that provides this data also provides analytics services with this data for a fee. (https://appliednonprofitresearch.com/customdata/)\n",
    "\n",
    "overview of data provided by open990\n",
    "https://medium.com/@open990/the-irs-990-e-file-dataset-getting-to-the-chocolatey-center-of-data-deliciousness-90f66097a600\n",
    "\n",
    "NTEE Descriptions have a huge amount of specificity https://learn.guidestar.org/help/ntee-codes\n",
    "Based on NTEE categories, what salary should be paid for top positions?"
   ]
  },
  {
   "cell_type": "markdown",
   "metadata": {},
   "source": [
    "### Research questions to consider:\n",
    "\n",
    "1. What should a not-for-profit be paying it's top management?  \n",
    "1. By using a model to establish this amount I can also identify organizations who are likely paying their management more than they should.\n",
    "\n",
    "\n",
    "\n",
    "### Other things to consider:\n",
    "Title is included for each position being paid.  Since this is a fill in the blank field, there is a high amount of variability.  Examining the text of this field could be interesting.  For instance it might bring to light organizations with segregation of duties concerns \"Clerk, Treas., Dir.\""
   ]
  },
  {
   "cell_type": "markdown",
   "metadata": {},
   "source": [
    "### Process:\n",
    "1. Use governance characteristics to cluster orgs.\n",
    "1. Use cluster information from above to then predict Trustee or director salary"
   ]
  },
  {
   "cell_type": "code",
   "execution_count": 169,
   "metadata": {},
   "outputs": [],
   "source": [
    "import numpy as np\n",
    "import pandas as pd\n",
    "pd.set_option('display.max_columns', None)\n",
    "\n",
    "import matplotlib.pyplot as plt\n",
    "import seaborn as sns\n",
    "plt.style.use('ggplot')\n",
    "# plt.style.use('bmh')\n"
   ]
  },
  {
   "cell_type": "markdown",
   "metadata": {},
   "source": [
    "## IMPORT DATA & PREPROCESS"
   ]
  },
  {
   "cell_type": "code",
   "execution_count": 6,
   "metadata": {},
   "outputs": [],
   "source": [
    "df_original = pd.read_csv('data_sets/Compensation_charities_Open990.csv', \n",
    "                 header=1, nrows=5)"
   ]
  },
  {
   "cell_type": "code",
   "execution_count": 7,
   "metadata": {},
   "outputs": [
    {
     "data": {
      "text/html": [
       "<div>\n",
       "<style scoped>\n",
       "    .dataframe tbody tr th:only-of-type {\n",
       "        vertical-align: middle;\n",
       "    }\n",
       "\n",
       "    .dataframe tbody tr th {\n",
       "        vertical-align: top;\n",
       "    }\n",
       "\n",
       "    .dataframe thead th {\n",
       "        text-align: right;\n",
       "    }\n",
       "</style>\n",
       "<table border=\"1\" class=\"dataframe\">\n",
       "  <thead>\n",
       "    <tr style=\"text-align: right;\">\n",
       "      <th></th>\n",
       "      <th>EIN</th>\n",
       "      <th>Period</th>\n",
       "      <th>Person ID</th>\n",
       "      <th>Title</th>\n",
       "      <th>Hours</th>\n",
       "      <th>Hours related org</th>\n",
       "      <th>Trustee or director</th>\n",
       "      <th>Institutional trustee</th>\n",
       "      <th>Officer</th>\n",
       "      <th>Key employee</th>\n",
       "      <th>Highest compensated</th>\n",
       "      <th>Former</th>\n",
       "      <th>Reportable comp</th>\n",
       "      <th>Reportable comp related org</th>\n",
       "      <th>Other comp all</th>\n",
       "      <th>Health and benefits</th>\n",
       "      <th>Other comp</th>\n",
       "      <th>Base</th>\n",
       "      <th>Base related org</th>\n",
       "      <th>Bonus</th>\n",
       "      <th>Bonus related org</th>\n",
       "      <th>Other</th>\n",
       "      <th>Other related org</th>\n",
       "      <th>Retire</th>\n",
       "      <th>Retire related org</th>\n",
       "      <th>Nontax benefit</th>\n",
       "      <th>Nontax benefit related org</th>\n",
       "      <th>Sum comp</th>\n",
       "      <th>Sum comp related org</th>\n",
       "      <th>Prior deferred</th>\n",
       "      <th>Prior deferred related org</th>\n",
       "      <th>Org name</th>\n",
       "      <th>Subsection</th>\n",
       "      <th>NTEE code</th>\n",
       "      <th>NTEE description</th>\n",
       "      <th>Street</th>\n",
       "      <th>City</th>\n",
       "      <th>State</th>\n",
       "      <th>ZIP</th>\n",
       "      <th>Formation yr</th>\n",
       "      <th>Phone</th>\n",
       "      <th>Website</th>\n",
       "      <th>Assets</th>\n",
       "      <th>Liabilities</th>\n",
       "      <th>Expenses</th>\n",
       "      <th>Revenue</th>\n",
       "      <th>Form type</th>\n",
       "      <th>Efile ID</th>\n",
       "    </tr>\n",
       "  </thead>\n",
       "  <tbody>\n",
       "    <tr>\n",
       "      <td>0</td>\n",
       "      <td>10877614</td>\n",
       "      <td>201712</td>\n",
       "      <td>y7drw7umAm8SK9fWY7aFCA</td>\n",
       "      <td>BOARD MEMBER</td>\n",
       "      <td>1.0</td>\n",
       "      <td>NaN</td>\n",
       "      <td>True</td>\n",
       "      <td>NaN</td>\n",
       "      <td>NaN</td>\n",
       "      <td>NaN</td>\n",
       "      <td>NaN</td>\n",
       "      <td>NaN</td>\n",
       "      <td>0</td>\n",
       "      <td>0</td>\n",
       "      <td>0</td>\n",
       "      <td>NaN</td>\n",
       "      <td>NaN</td>\n",
       "      <td>NaN</td>\n",
       "      <td>NaN</td>\n",
       "      <td>NaN</td>\n",
       "      <td>NaN</td>\n",
       "      <td>NaN</td>\n",
       "      <td>NaN</td>\n",
       "      <td>NaN</td>\n",
       "      <td>NaN</td>\n",
       "      <td>NaN</td>\n",
       "      <td>NaN</td>\n",
       "      <td>NaN</td>\n",
       "      <td>NaN</td>\n",
       "      <td>NaN</td>\n",
       "      <td>NaN</td>\n",
       "      <td>HEART CHANGE MINISTRIES INC</td>\n",
       "      <td>501(c)(3)</td>\n",
       "      <td>G43</td>\n",
       "      <td>Heart and Circulatory System Diseases, Disorders</td>\n",
       "      <td>4201 E 16TH ST</td>\n",
       "      <td>INDIANAPOLIS</td>\n",
       "      <td>IN</td>\n",
       "      <td>46201</td>\n",
       "      <td>2006</td>\n",
       "      <td>3174960916</td>\n",
       "      <td>WWW.HEARTCHANGEINDY.ORG</td>\n",
       "      <td>2112293</td>\n",
       "      <td>92283</td>\n",
       "      <td>500749</td>\n",
       "      <td>1792933</td>\n",
       "      <td>990</td>\n",
       "      <td>201803199349308805</td>\n",
       "    </tr>\n",
       "  </tbody>\n",
       "</table>\n",
       "</div>"
      ],
      "text/plain": [
       "        EIN  Period               Person ID         Title  Hours  \\\n",
       "0  10877614  201712  y7drw7umAm8SK9fWY7aFCA  BOARD MEMBER    1.0   \n",
       "\n",
       "   Hours related org  Trustee or director  Institutional trustee  Officer  \\\n",
       "0                NaN                 True                    NaN      NaN   \n",
       "\n",
       "   Key employee  Highest compensated  Former  Reportable comp  \\\n",
       "0           NaN                  NaN     NaN                0   \n",
       "\n",
       "   Reportable comp related org  Other comp all  Health and benefits  \\\n",
       "0                            0               0                  NaN   \n",
       "\n",
       "   Other comp  Base  Base related org  Bonus  Bonus related org  Other  \\\n",
       "0         NaN   NaN               NaN    NaN                NaN    NaN   \n",
       "\n",
       "   Other related org  Retire  Retire related org  Nontax benefit  \\\n",
       "0                NaN     NaN                 NaN             NaN   \n",
       "\n",
       "   Nontax benefit related org  Sum comp  Sum comp related org  Prior deferred  \\\n",
       "0                         NaN       NaN                   NaN             NaN   \n",
       "\n",
       "   Prior deferred related org                     Org name Subsection  \\\n",
       "0                         NaN  HEART CHANGE MINISTRIES INC  501(c)(3)   \n",
       "\n",
       "  NTEE code                                  NTEE description          Street  \\\n",
       "0       G43  Heart and Circulatory System Diseases, Disorders  4201 E 16TH ST   \n",
       "\n",
       "           City State    ZIP  Formation yr       Phone  \\\n",
       "0  INDIANAPOLIS    IN  46201          2006  3174960916   \n",
       "\n",
       "                   Website   Assets  Liabilities  Expenses  Revenue  \\\n",
       "0  WWW.HEARTCHANGEINDY.ORG  2112293        92283    500749  1792933   \n",
       "\n",
       "   Form type            Efile ID  \n",
       "0        990  201803199349308805  "
      ]
     },
     "execution_count": 7,
     "metadata": {},
     "output_type": "execute_result"
    }
   ],
   "source": [
    "df_original.head(1)"
   ]
  },
  {
   "cell_type": "code",
   "execution_count": 15,
   "metadata": {},
   "outputs": [],
   "source": [
    "# import columns that interest me\n",
    "cols = ['EIN',\n",
    "       'Period',\n",
    "       'Title',\n",
    "#         'Hours', this isn't particularly helpful since it would be hard to verify\n",
    "       'Trustee or director',\n",
    "       'Institutional trustee',\n",
    "        'Officer',\n",
    "        'Key employee',\n",
    "        'Highest compensated',\n",
    "        'Reportable comp',\n",
    "#        'Sum comp', many of these are nan\n",
    "        'Org name',\n",
    "        'Subsection',\n",
    "        'NTEE code',\n",
    "        'NTEE description',\n",
    "       'State',\n",
    "       'Formation yr',\n",
    "       'Assets',\n",
    "        'Liabilities',\n",
    "        'Expenses',\n",
    "        'Revenue']\n",
    "\n",
    "df = pd.read_csv('data_sets/Compensation_charities_Open990.csv', \n",
    "                 header=1,\n",
    "                usecols=cols)"
   ]
  },
  {
   "cell_type": "code",
   "execution_count": 16,
   "metadata": {},
   "outputs": [
    {
     "data": {
      "text/plain": [
       "(3990749, 19)"
      ]
     },
     "execution_count": 16,
     "metadata": {},
     "output_type": "execute_result"
    }
   ],
   "source": [
    "df.shape"
   ]
  },
  {
   "cell_type": "code",
   "execution_count": 17,
   "metadata": {},
   "outputs": [],
   "source": [
    "# convert column labels to lower case and remove spaces from column names\n",
    "df.columns = df.columns.str.replace(' ', '_')\n",
    "df.columns = map(str.lower, df.columns)"
   ]
  },
  {
   "cell_type": "code",
   "execution_count": 18,
   "metadata": {},
   "outputs": [
    {
     "data": {
      "text/html": [
       "<div>\n",
       "<style scoped>\n",
       "    .dataframe tbody tr th:only-of-type {\n",
       "        vertical-align: middle;\n",
       "    }\n",
       "\n",
       "    .dataframe tbody tr th {\n",
       "        vertical-align: top;\n",
       "    }\n",
       "\n",
       "    .dataframe thead th {\n",
       "        text-align: right;\n",
       "    }\n",
       "</style>\n",
       "<table border=\"1\" class=\"dataframe\">\n",
       "  <thead>\n",
       "    <tr style=\"text-align: right;\">\n",
       "      <th></th>\n",
       "      <th>ein</th>\n",
       "      <th>period</th>\n",
       "      <th>title</th>\n",
       "      <th>trustee_or_director</th>\n",
       "      <th>institutional_trustee</th>\n",
       "      <th>officer</th>\n",
       "      <th>key_employee</th>\n",
       "      <th>highest_compensated</th>\n",
       "      <th>reportable_comp</th>\n",
       "      <th>org_name</th>\n",
       "      <th>subsection</th>\n",
       "      <th>ntee_code</th>\n",
       "      <th>ntee_description</th>\n",
       "      <th>state</th>\n",
       "      <th>formation_yr</th>\n",
       "      <th>assets</th>\n",
       "      <th>liabilities</th>\n",
       "      <th>expenses</th>\n",
       "      <th>revenue</th>\n",
       "    </tr>\n",
       "  </thead>\n",
       "  <tbody>\n",
       "    <tr>\n",
       "      <td>0</td>\n",
       "      <td>10877614</td>\n",
       "      <td>201712</td>\n",
       "      <td>BOARD MEMBER</td>\n",
       "      <td>True</td>\n",
       "      <td>NaN</td>\n",
       "      <td>NaN</td>\n",
       "      <td>NaN</td>\n",
       "      <td>NaN</td>\n",
       "      <td>0.0</td>\n",
       "      <td>HEART CHANGE MINISTRIES INC</td>\n",
       "      <td>501(c)(3)</td>\n",
       "      <td>G43</td>\n",
       "      <td>Heart and Circulatory System Diseases, Disorders</td>\n",
       "      <td>IN</td>\n",
       "      <td>2006.0</td>\n",
       "      <td>2112293</td>\n",
       "      <td>92283.0</td>\n",
       "      <td>500749.0</td>\n",
       "      <td>1792933.0</td>\n",
       "    </tr>\n",
       "    <tr>\n",
       "      <td>1</td>\n",
       "      <td>10877614</td>\n",
       "      <td>201712</td>\n",
       "      <td>BOARD MEMBER</td>\n",
       "      <td>True</td>\n",
       "      <td>NaN</td>\n",
       "      <td>NaN</td>\n",
       "      <td>NaN</td>\n",
       "      <td>NaN</td>\n",
       "      <td>0.0</td>\n",
       "      <td>HEART CHANGE MINISTRIES INC</td>\n",
       "      <td>501(c)(3)</td>\n",
       "      <td>G43</td>\n",
       "      <td>Heart and Circulatory System Diseases, Disorders</td>\n",
       "      <td>IN</td>\n",
       "      <td>2006.0</td>\n",
       "      <td>2112293</td>\n",
       "      <td>92283.0</td>\n",
       "      <td>500749.0</td>\n",
       "      <td>1792933.0</td>\n",
       "    </tr>\n",
       "    <tr>\n",
       "      <td>2</td>\n",
       "      <td>10877614</td>\n",
       "      <td>201712</td>\n",
       "      <td>BOARD MEMBER</td>\n",
       "      <td>True</td>\n",
       "      <td>NaN</td>\n",
       "      <td>NaN</td>\n",
       "      <td>NaN</td>\n",
       "      <td>NaN</td>\n",
       "      <td>0.0</td>\n",
       "      <td>HEART CHANGE MINISTRIES INC</td>\n",
       "      <td>501(c)(3)</td>\n",
       "      <td>G43</td>\n",
       "      <td>Heart and Circulatory System Diseases, Disorders</td>\n",
       "      <td>IN</td>\n",
       "      <td>2006.0</td>\n",
       "      <td>2112293</td>\n",
       "      <td>92283.0</td>\n",
       "      <td>500749.0</td>\n",
       "      <td>1792933.0</td>\n",
       "    </tr>\n",
       "    <tr>\n",
       "      <td>3</td>\n",
       "      <td>10877614</td>\n",
       "      <td>201712</td>\n",
       "      <td>BOARD MEMBER</td>\n",
       "      <td>True</td>\n",
       "      <td>NaN</td>\n",
       "      <td>NaN</td>\n",
       "      <td>NaN</td>\n",
       "      <td>NaN</td>\n",
       "      <td>0.0</td>\n",
       "      <td>HEART CHANGE MINISTRIES INC</td>\n",
       "      <td>501(c)(3)</td>\n",
       "      <td>G43</td>\n",
       "      <td>Heart and Circulatory System Diseases, Disorders</td>\n",
       "      <td>IN</td>\n",
       "      <td>2006.0</td>\n",
       "      <td>2112293</td>\n",
       "      <td>92283.0</td>\n",
       "      <td>500749.0</td>\n",
       "      <td>1792933.0</td>\n",
       "    </tr>\n",
       "    <tr>\n",
       "      <td>4</td>\n",
       "      <td>10877614</td>\n",
       "      <td>201712</td>\n",
       "      <td>BOARD MEMBER</td>\n",
       "      <td>True</td>\n",
       "      <td>NaN</td>\n",
       "      <td>NaN</td>\n",
       "      <td>NaN</td>\n",
       "      <td>NaN</td>\n",
       "      <td>0.0</td>\n",
       "      <td>HEART CHANGE MINISTRIES INC</td>\n",
       "      <td>501(c)(3)</td>\n",
       "      <td>G43</td>\n",
       "      <td>Heart and Circulatory System Diseases, Disorders</td>\n",
       "      <td>IN</td>\n",
       "      <td>2006.0</td>\n",
       "      <td>2112293</td>\n",
       "      <td>92283.0</td>\n",
       "      <td>500749.0</td>\n",
       "      <td>1792933.0</td>\n",
       "    </tr>\n",
       "  </tbody>\n",
       "</table>\n",
       "</div>"
      ],
      "text/plain": [
       "        ein  period         title trustee_or_director institutional_trustee  \\\n",
       "0  10877614  201712  BOARD MEMBER                True                   NaN   \n",
       "1  10877614  201712  BOARD MEMBER                True                   NaN   \n",
       "2  10877614  201712  BOARD MEMBER                True                   NaN   \n",
       "3  10877614  201712  BOARD MEMBER                True                   NaN   \n",
       "4  10877614  201712  BOARD MEMBER                True                   NaN   \n",
       "\n",
       "  officer key_employee highest_compensated  reportable_comp  \\\n",
       "0     NaN          NaN                 NaN              0.0   \n",
       "1     NaN          NaN                 NaN              0.0   \n",
       "2     NaN          NaN                 NaN              0.0   \n",
       "3     NaN          NaN                 NaN              0.0   \n",
       "4     NaN          NaN                 NaN              0.0   \n",
       "\n",
       "                      org_name subsection ntee_code  \\\n",
       "0  HEART CHANGE MINISTRIES INC  501(c)(3)       G43   \n",
       "1  HEART CHANGE MINISTRIES INC  501(c)(3)       G43   \n",
       "2  HEART CHANGE MINISTRIES INC  501(c)(3)       G43   \n",
       "3  HEART CHANGE MINISTRIES INC  501(c)(3)       G43   \n",
       "4  HEART CHANGE MINISTRIES INC  501(c)(3)       G43   \n",
       "\n",
       "                                   ntee_description state  formation_yr  \\\n",
       "0  Heart and Circulatory System Diseases, Disorders    IN        2006.0   \n",
       "1  Heart and Circulatory System Diseases, Disorders    IN        2006.0   \n",
       "2  Heart and Circulatory System Diseases, Disorders    IN        2006.0   \n",
       "3  Heart and Circulatory System Diseases, Disorders    IN        2006.0   \n",
       "4  Heart and Circulatory System Diseases, Disorders    IN        2006.0   \n",
       "\n",
       "    assets  liabilities  expenses    revenue  \n",
       "0  2112293      92283.0  500749.0  1792933.0  \n",
       "1  2112293      92283.0  500749.0  1792933.0  \n",
       "2  2112293      92283.0  500749.0  1792933.0  \n",
       "3  2112293      92283.0  500749.0  1792933.0  \n",
       "4  2112293      92283.0  500749.0  1792933.0  "
      ]
     },
     "execution_count": 18,
     "metadata": {},
     "output_type": "execute_result"
    }
   ],
   "source": [
    "df.head()"
   ]
  },
  {
   "cell_type": "code",
   "execution_count": 26,
   "metadata": {},
   "outputs": [
    {
     "data": {
      "text/plain": [
       "True    2501613\n",
       "NaN     1489136\n",
       "Name: trustee_or_director, dtype: int64"
      ]
     },
     "execution_count": 26,
     "metadata": {},
     "output_type": "execute_result"
    }
   ],
   "source": [
    "df.trustee_or_director.value_counts(dropna=False)"
   ]
  },
  {
   "cell_type": "code",
   "execution_count": 33,
   "metadata": {},
   "outputs": [
    {
     "data": {
      "text/plain": [
       "<matplotlib.axes._subplots.AxesSubplot at 0x241129e2a58>"
      ]
     },
     "execution_count": 33,
     "metadata": {},
     "output_type": "execute_result"
    },
    {
     "data": {
      "image/png": "[encoded data removed]",
      "text/plain": [
       "<Figure size 432x288 with 1 Axes>"
      ]
     },
     "metadata": {
      "needs_background": "light"
     },
     "output_type": "display_data"
    }
   ],
   "source": [
    "# what is the distribution\n",
    "# based on the person receiving the compensation?\n",
    "df.iloc[:, 3:8].notnull().sum().plot(kind='bar')"
   ]
  },
  {
   "cell_type": "markdown",
   "metadata": {},
   "source": [
    "Trustee or director is the position with the highest number of rows in the dataset."
   ]
  },
  {
   "cell_type": "code",
   "execution_count": 45,
   "metadata": {},
   "outputs": [],
   "source": [
    "# remove positions I will not focus on at this time\n",
    "# df.drop(['institutional_trustee',\n",
    "#          'officer',\n",
    "#          'key_employee',\n",
    "#          'highest_compensated'], axis=1, inplace=True)"
   ]
  },
  {
   "cell_type": "code",
   "execution_count": 50,
   "metadata": {},
   "outputs": [
    {
     "data": {
      "text/plain": [
       "(40178, 15)"
      ]
     },
     "execution_count": 50,
     "metadata": {},
     "output_type": "execute_result"
    }
   ],
   "source": [
    "# how many trustees or directors\n",
    "# received at least some compensation \n",
    "# in 2017?\n",
    "df[(df.trustee_or_director == True) &\n",
    "  (df.reportable_comp > 0) &\n",
    "  (df.period.apply(lambda x: str(x)[0:4]) == '2017')\n",
    "  ].shape"
   ]
  },
  {
   "cell_type": "code",
   "execution_count": 48,
   "metadata": {},
   "outputs": [],
   "source": [
    "# subset dataset to focus analysis\n",
    "df = df[(df.trustee_or_director == True) &\n",
    "  (df.reportable_comp > 0) &\n",
    "  (df.period.apply(lambda x: str(x)[0:4]) == '2017')\n",
    "  ]"
   ]
  },
  {
   "cell_type": "code",
   "execution_count": 46,
   "metadata": {},
   "outputs": [
    {
     "data": {
      "text/plain": [
       "ein                      int64\n",
       "period                   int64\n",
       "title                   object\n",
       "trustee_or_director     object\n",
       "reportable_comp        float64\n",
       "org_name                object\n",
       "subsection              object\n",
       "ntee_code               object\n",
       "ntee_description        object\n",
       "state                   object\n",
       "formation_yr           float64\n",
       "assets                   int64\n",
       "liabilities            float64\n",
       "expenses               float64\n",
       "revenue                float64\n",
       "dtype: object"
      ]
     },
     "execution_count": 46,
     "metadata": {},
     "output_type": "execute_result"
    }
   ],
   "source": [
    "# examine data types\n",
    "df.dtypes"
   ]
  },
  {
   "cell_type": "code",
   "execution_count": 51,
   "metadata": {},
   "outputs": [
    {
     "data": {
      "text/plain": [
       "ein                       0\n",
       "period                    0\n",
       "title                   268\n",
       "trustee_or_director       0\n",
       "reportable_comp           0\n",
       "org_name                  0\n",
       "subsection                0\n",
       "ntee_code                81\n",
       "ntee_description         81\n",
       "state                   115\n",
       "formation_yr           2253\n",
       "assets                    0\n",
       "liabilities               0\n",
       "expenses                  0\n",
       "revenue                   0\n",
       "dtype: int64"
      ]
     },
     "execution_count": 51,
     "metadata": {},
     "output_type": "execute_result"
    }
   ],
   "source": [
    "# examine for nan values\n",
    "df.isna().sum()"
   ]
  },
  {
   "cell_type": "code",
   "execution_count": 52,
   "metadata": {},
   "outputs": [
    {
     "name": "stderr",
     "output_type": "stream",
     "text": [
      "C:\\Users\\mrkjh\\AppData\\Roaming\\Python\\Python37\\site-packages\\ipykernel_launcher.py:2: SettingWithCopyWarning: \n",
      "A value is trying to be set on a copy of a slice from a DataFrame\n",
      "\n",
      "See the caveats in the documentation: http://pandas.pydata.org/pandas-docs/stable/user_guide/indexing.html#returning-a-view-versus-a-copy\n",
      "  \n"
     ]
    }
   ],
   "source": [
    "# drop rows with missing values in these columns\n",
    "df.dropna(subset=['ntee_code'], inplace=True)"
   ]
  },
  {
   "cell_type": "code",
   "execution_count": 53,
   "metadata": {},
   "outputs": [
    {
     "data": {
      "text/plain": [
       "(40097, 15)"
      ]
     },
     "execution_count": 53,
     "metadata": {},
     "output_type": "execute_result"
    }
   ],
   "source": [
    "df.shape"
   ]
  },
  {
   "cell_type": "code",
   "execution_count": 56,
   "metadata": {},
   "outputs": [
    {
     "data": {
      "text/plain": [
       "ein                    0.000000\n",
       "period                 0.000000\n",
       "title                  0.006684\n",
       "trustee_or_director    0.000000\n",
       "reportable_comp        0.000000\n",
       "org_name               0.000000\n",
       "subsection             0.000000\n",
       "ntee_code              0.000000\n",
       "ntee_description       0.000000\n",
       "state                  0.002868\n",
       "formation_yr           0.054767\n",
       "assets                 0.000000\n",
       "liabilities            0.000000\n",
       "expenses               0.000000\n",
       "revenue                0.000000\n",
       "dtype: float64"
      ]
     },
     "execution_count": 56,
     "metadata": {},
     "output_type": "execute_result"
    }
   ],
   "source": [
    "# the small percentage of missing values \n",
    "# in these columns is acceptable to me\n",
    "df.isna().mean()"
   ]
  },
  {
   "cell_type": "code",
   "execution_count": 76,
   "metadata": {},
   "outputs": [
    {
     "data": {
      "text/html": [
       "<div>\n",
       "<style scoped>\n",
       "    .dataframe tbody tr th:only-of-type {\n",
       "        vertical-align: middle;\n",
       "    }\n",
       "\n",
       "    .dataframe tbody tr th {\n",
       "        vertical-align: top;\n",
       "    }\n",
       "\n",
       "    .dataframe thead th {\n",
       "        text-align: right;\n",
       "    }\n",
       "</style>\n",
       "<table border=\"1\" class=\"dataframe\">\n",
       "  <thead>\n",
       "    <tr style=\"text-align: right;\">\n",
       "      <th></th>\n",
       "      <th>ein</th>\n",
       "      <th>period</th>\n",
       "      <th>title</th>\n",
       "      <th>trustee_or_director</th>\n",
       "      <th>reportable_comp</th>\n",
       "      <th>org_name</th>\n",
       "      <th>subsection</th>\n",
       "      <th>ntee_code</th>\n",
       "      <th>ntee_description</th>\n",
       "      <th>state</th>\n",
       "      <th>formation_yr</th>\n",
       "      <th>assets</th>\n",
       "      <th>liabilities</th>\n",
       "      <th>expenses</th>\n",
       "      <th>revenue</th>\n",
       "      <th>ntee_letter</th>\n",
       "    </tr>\n",
       "  </thead>\n",
       "  <tbody>\n",
       "    <tr>\n",
       "      <td>4433</td>\n",
       "      <td>10782751</td>\n",
       "      <td>201712</td>\n",
       "      <td>PRES/DIR-PPAC (AS OF 8/2017)</td>\n",
       "      <td>True</td>\n",
       "      <td>414659.0</td>\n",
       "      <td>Nationwide Children's Hospital Group Return</td>\n",
       "      <td>501(c)(3)</td>\n",
       "      <td>E24</td>\n",
       "      <td>Hospital, Specialty</td>\n",
       "      <td>OH</td>\n",
       "      <td>NaN</td>\n",
       "      <td>4436425403</td>\n",
       "      <td>1.025159e+09</td>\n",
       "      <td>1.625978e+09</td>\n",
       "      <td>1.993501e+09</td>\n",
       "      <td>E</td>\n",
       "    </tr>\n",
       "    <tr>\n",
       "      <td>4437</td>\n",
       "      <td>10782751</td>\n",
       "      <td>201712</td>\n",
       "      <td>DIRECTOR - NCH</td>\n",
       "      <td>True</td>\n",
       "      <td>857183.0</td>\n",
       "      <td>Nationwide Children's Hospital Group Return</td>\n",
       "      <td>501(c)(3)</td>\n",
       "      <td>E24</td>\n",
       "      <td>Hospital, Specialty</td>\n",
       "      <td>OH</td>\n",
       "      <td>NaN</td>\n",
       "      <td>4436425403</td>\n",
       "      <td>1.025159e+09</td>\n",
       "      <td>1.625978e+09</td>\n",
       "      <td>1.993501e+09</td>\n",
       "      <td>E</td>\n",
       "    </tr>\n",
       "    <tr>\n",
       "      <td>4446</td>\n",
       "      <td>10782751</td>\n",
       "      <td>201712</td>\n",
       "      <td>PRES / DIRECTOR - CCFA</td>\n",
       "      <td>True</td>\n",
       "      <td>299907.0</td>\n",
       "      <td>Nationwide Children's Hospital Group Return</td>\n",
       "      <td>501(c)(3)</td>\n",
       "      <td>E24</td>\n",
       "      <td>Hospital, Specialty</td>\n",
       "      <td>OH</td>\n",
       "      <td>NaN</td>\n",
       "      <td>4436425403</td>\n",
       "      <td>1.025159e+09</td>\n",
       "      <td>1.625978e+09</td>\n",
       "      <td>1.993501e+09</td>\n",
       "      <td>E</td>\n",
       "    </tr>\n",
       "    <tr>\n",
       "      <td>4468</td>\n",
       "      <td>10782751</td>\n",
       "      <td>201712</td>\n",
       "      <td>DIRECTOR - CRI</td>\n",
       "      <td>True</td>\n",
       "      <td>577439.0</td>\n",
       "      <td>Nationwide Children's Hospital Group Return</td>\n",
       "      <td>501(c)(3)</td>\n",
       "      <td>E24</td>\n",
       "      <td>Hospital, Specialty</td>\n",
       "      <td>OH</td>\n",
       "      <td>NaN</td>\n",
       "      <td>4436425403</td>\n",
       "      <td>1.025159e+09</td>\n",
       "      <td>1.625978e+09</td>\n",
       "      <td>1.993501e+09</td>\n",
       "      <td>E</td>\n",
       "    </tr>\n",
       "    <tr>\n",
       "      <td>4480</td>\n",
       "      <td>10782751</td>\n",
       "      <td>201712</td>\n",
       "      <td>DIRECTOR - CSA</td>\n",
       "      <td>True</td>\n",
       "      <td>1073393.0</td>\n",
       "      <td>Nationwide Children's Hospital Group Return</td>\n",
       "      <td>501(c)(3)</td>\n",
       "      <td>E24</td>\n",
       "      <td>Hospital, Specialty</td>\n",
       "      <td>OH</td>\n",
       "      <td>NaN</td>\n",
       "      <td>4436425403</td>\n",
       "      <td>1.025159e+09</td>\n",
       "      <td>1.625978e+09</td>\n",
       "      <td>1.993501e+09</td>\n",
       "      <td>E</td>\n",
       "    </tr>\n",
       "    <tr>\n",
       "      <td>...</td>\n",
       "      <td>...</td>\n",
       "      <td>...</td>\n",
       "      <td>...</td>\n",
       "      <td>...</td>\n",
       "      <td>...</td>\n",
       "      <td>...</td>\n",
       "      <td>...</td>\n",
       "      <td>...</td>\n",
       "      <td>...</td>\n",
       "      <td>...</td>\n",
       "      <td>...</td>\n",
       "      <td>...</td>\n",
       "      <td>...</td>\n",
       "      <td>...</td>\n",
       "      <td>...</td>\n",
       "      <td>...</td>\n",
       "    </tr>\n",
       "    <tr>\n",
       "      <td>3986856</td>\n",
       "      <td>990078610</td>\n",
       "      <td>201712</td>\n",
       "      <td>TRUSTEE KAUA</td>\n",
       "      <td>True</td>\n",
       "      <td>2816.0</td>\n",
       "      <td>INTERNATIONAL LONGSHORE &amp; WAREHOUSE UNION LOCA...</td>\n",
       "      <td>501(c)(5)</td>\n",
       "      <td>J40</td>\n",
       "      <td>Labor Unions, Organizations</td>\n",
       "      <td>HI</td>\n",
       "      <td>NaN</td>\n",
       "      <td>31372448</td>\n",
       "      <td>5.560000e+04</td>\n",
       "      <td>1.360652e+07</td>\n",
       "      <td>1.737957e+07</td>\n",
       "      <td>J</td>\n",
       "    </tr>\n",
       "    <tr>\n",
       "      <td>3986857</td>\n",
       "      <td>990078610</td>\n",
       "      <td>201712</td>\n",
       "      <td>LEB PINEAPPL</td>\n",
       "      <td>True</td>\n",
       "      <td>3229.0</td>\n",
       "      <td>INTERNATIONAL LONGSHORE &amp; WAREHOUSE UNION LOCA...</td>\n",
       "      <td>501(c)(5)</td>\n",
       "      <td>J40</td>\n",
       "      <td>Labor Unions, Organizations</td>\n",
       "      <td>HI</td>\n",
       "      <td>NaN</td>\n",
       "      <td>31372448</td>\n",
       "      <td>5.560000e+04</td>\n",
       "      <td>1.360652e+07</td>\n",
       "      <td>1.737957e+07</td>\n",
       "      <td>J</td>\n",
       "    </tr>\n",
       "    <tr>\n",
       "      <td>3986858</td>\n",
       "      <td>990078610</td>\n",
       "      <td>201712</td>\n",
       "      <td>IEB LONGSHOR</td>\n",
       "      <td>True</td>\n",
       "      <td>6103.0</td>\n",
       "      <td>INTERNATIONAL LONGSHORE &amp; WAREHOUSE UNION LOCA...</td>\n",
       "      <td>501(c)(5)</td>\n",
       "      <td>J40</td>\n",
       "      <td>Labor Unions, Organizations</td>\n",
       "      <td>HI</td>\n",
       "      <td>NaN</td>\n",
       "      <td>31372448</td>\n",
       "      <td>5.560000e+04</td>\n",
       "      <td>1.360652e+07</td>\n",
       "      <td>1.737957e+07</td>\n",
       "      <td>J</td>\n",
       "    </tr>\n",
       "    <tr>\n",
       "      <td>3986859</td>\n",
       "      <td>990078610</td>\n",
       "      <td>201712</td>\n",
       "      <td>LEB PINEAPPL</td>\n",
       "      <td>True</td>\n",
       "      <td>2793.0</td>\n",
       "      <td>INTERNATIONAL LONGSHORE &amp; WAREHOUSE UNION LOCA...</td>\n",
       "      <td>501(c)(5)</td>\n",
       "      <td>J40</td>\n",
       "      <td>Labor Unions, Organizations</td>\n",
       "      <td>HI</td>\n",
       "      <td>NaN</td>\n",
       "      <td>31372448</td>\n",
       "      <td>5.560000e+04</td>\n",
       "      <td>1.360652e+07</td>\n",
       "      <td>1.737957e+07</td>\n",
       "      <td>J</td>\n",
       "    </tr>\n",
       "    <tr>\n",
       "      <td>3986860</td>\n",
       "      <td>990078610</td>\n",
       "      <td>201712</td>\n",
       "      <td>LEB HAWAII</td>\n",
       "      <td>True</td>\n",
       "      <td>1548.0</td>\n",
       "      <td>INTERNATIONAL LONGSHORE &amp; WAREHOUSE UNION LOCA...</td>\n",
       "      <td>501(c)(5)</td>\n",
       "      <td>J40</td>\n",
       "      <td>Labor Unions, Organizations</td>\n",
       "      <td>HI</td>\n",
       "      <td>NaN</td>\n",
       "      <td>31372448</td>\n",
       "      <td>5.560000e+04</td>\n",
       "      <td>1.360652e+07</td>\n",
       "      <td>1.737957e+07</td>\n",
       "      <td>J</td>\n",
       "    </tr>\n",
       "  </tbody>\n",
       "</table>\n",
       "<p>2196 rows × 16 columns</p>\n",
       "</div>"
      ],
      "text/plain": [
       "               ein  period                         title trustee_or_director  \\\n",
       "4433      10782751  201712  PRES/DIR-PPAC (AS OF 8/2017)                True   \n",
       "4437      10782751  201712                DIRECTOR - NCH                True   \n",
       "4446      10782751  201712        PRES / DIRECTOR - CCFA                True   \n",
       "4468      10782751  201712                DIRECTOR - CRI                True   \n",
       "4480      10782751  201712                DIRECTOR - CSA                True   \n",
       "...            ...     ...                           ...                 ...   \n",
       "3986856  990078610  201712                  TRUSTEE KAUA                True   \n",
       "3986857  990078610  201712                  LEB PINEAPPL                True   \n",
       "3986858  990078610  201712                  IEB LONGSHOR                True   \n",
       "3986859  990078610  201712                  LEB PINEAPPL                True   \n",
       "3986860  990078610  201712                    LEB HAWAII                True   \n",
       "\n",
       "         reportable_comp                                           org_name  \\\n",
       "4433            414659.0        Nationwide Children's Hospital Group Return   \n",
       "4437            857183.0        Nationwide Children's Hospital Group Return   \n",
       "4446            299907.0        Nationwide Children's Hospital Group Return   \n",
       "4468            577439.0        Nationwide Children's Hospital Group Return   \n",
       "4480           1073393.0        Nationwide Children's Hospital Group Return   \n",
       "...                  ...                                                ...   \n",
       "3986856           2816.0  INTERNATIONAL LONGSHORE & WAREHOUSE UNION LOCA...   \n",
       "3986857           3229.0  INTERNATIONAL LONGSHORE & WAREHOUSE UNION LOCA...   \n",
       "3986858           6103.0  INTERNATIONAL LONGSHORE & WAREHOUSE UNION LOCA...   \n",
       "3986859           2793.0  INTERNATIONAL LONGSHORE & WAREHOUSE UNION LOCA...   \n",
       "3986860           1548.0  INTERNATIONAL LONGSHORE & WAREHOUSE UNION LOCA...   \n",
       "\n",
       "        subsection ntee_code             ntee_description state  formation_yr  \\\n",
       "4433     501(c)(3)       E24          Hospital, Specialty    OH           NaN   \n",
       "4437     501(c)(3)       E24          Hospital, Specialty    OH           NaN   \n",
       "4446     501(c)(3)       E24          Hospital, Specialty    OH           NaN   \n",
       "4468     501(c)(3)       E24          Hospital, Specialty    OH           NaN   \n",
       "4480     501(c)(3)       E24          Hospital, Specialty    OH           NaN   \n",
       "...            ...       ...                          ...   ...           ...   \n",
       "3986856  501(c)(5)       J40  Labor Unions, Organizations    HI           NaN   \n",
       "3986857  501(c)(5)       J40  Labor Unions, Organizations    HI           NaN   \n",
       "3986858  501(c)(5)       J40  Labor Unions, Organizations    HI           NaN   \n",
       "3986859  501(c)(5)       J40  Labor Unions, Organizations    HI           NaN   \n",
       "3986860  501(c)(5)       J40  Labor Unions, Organizations    HI           NaN   \n",
       "\n",
       "             assets   liabilities      expenses       revenue ntee_letter  \n",
       "4433     4436425403  1.025159e+09  1.625978e+09  1.993501e+09           E  \n",
       "4437     4436425403  1.025159e+09  1.625978e+09  1.993501e+09           E  \n",
       "4446     4436425403  1.025159e+09  1.625978e+09  1.993501e+09           E  \n",
       "4468     4436425403  1.025159e+09  1.625978e+09  1.993501e+09           E  \n",
       "4480     4436425403  1.025159e+09  1.625978e+09  1.993501e+09           E  \n",
       "...             ...           ...           ...           ...         ...  \n",
       "3986856    31372448  5.560000e+04  1.360652e+07  1.737957e+07           J  \n",
       "3986857    31372448  5.560000e+04  1.360652e+07  1.737957e+07           J  \n",
       "3986858    31372448  5.560000e+04  1.360652e+07  1.737957e+07           J  \n",
       "3986859    31372448  5.560000e+04  1.360652e+07  1.737957e+07           J  \n",
       "3986860    31372448  5.560000e+04  1.360652e+07  1.737957e+07           J  \n",
       "\n",
       "[2196 rows x 16 columns]"
      ]
     },
     "execution_count": 76,
     "metadata": {},
     "output_type": "execute_result"
    }
   ],
   "source": [
    "df[df.formation_yr.isna()]"
   ]
  },
  {
   "cell_type": "code",
   "execution_count": 81,
   "metadata": {},
   "outputs": [
    {
     "data": {
      "image/png": "[encoded data removed]",
      "text/plain": [
       "<Figure size 432x288 with 1 Axes>"
      ]
     },
     "metadata": {
      "needs_background": "light"
     },
     "output_type": "display_data"
    }
   ],
   "source": [
    "# clipping at the 90% percentile, what is the distribution?\n",
    "plt.hist(df.reportable_comp.clip(upper=df.reportable_comp.quantile(.99)));"
   ]
  },
  {
   "cell_type": "code",
   "execution_count": 58,
   "metadata": {},
   "outputs": [
    {
     "data": {
      "text/plain": [
       "168533.60000000003"
      ]
     },
     "execution_count": 58,
     "metadata": {},
     "output_type": "execute_result"
    }
   ],
   "source": [
    "df.reportable_comp.quantile(.9)"
   ]
  },
  {
   "cell_type": "code",
   "execution_count": 78,
   "metadata": {},
   "outputs": [
    {
     "data": {
      "image/png": "[encoded data removed]",
      "text/plain": [
       "<Figure size 432x288 with 1 Axes>"
      ]
     },
     "metadata": {
      "needs_background": "light"
     },
     "output_type": "display_data"
    }
   ],
   "source": [
    "plt.boxplot(df.reportable_comp, whis='range');"
   ]
  },
  {
   "cell_type": "markdown",
   "metadata": {},
   "source": [
    "## FEATURE ENGINEERING"
   ]
  },
  {
   "cell_type": "code",
   "execution_count": 60,
   "metadata": {},
   "outputs": [
    {
     "name": "stderr",
     "output_type": "stream",
     "text": [
      "C:\\Users\\mrkjh\\AppData\\Roaming\\Python\\Python37\\site-packages\\ipykernel_launcher.py:3: SettingWithCopyWarning: \n",
      "A value is trying to be set on a copy of a slice from a DataFrame.\n",
      "Try using .loc[row_indexer,col_indexer] = value instead\n",
      "\n",
      "See the caveats in the documentation: http://pandas.pydata.org/pandas-docs/stable/user_guide/indexing.html#returning-a-view-versus-a-copy\n",
      "  This is separate from the ipykernel package so we can avoid doing imports until\n"
     ]
    }
   ],
   "source": [
    "# to more broadly categorize not-for-profits\n",
    "# strip off the letter from the ntee code\n",
    "df['ntee_letter'] = df.ntee_code.apply(lambda x: x[0:1])"
   ]
  },
  {
   "cell_type": "code",
   "execution_count": 61,
   "metadata": {},
   "outputs": [
    {
     "data": {
      "text/html": [
       "<div>\n",
       "<style scoped>\n",
       "    .dataframe tbody tr th:only-of-type {\n",
       "        vertical-align: middle;\n",
       "    }\n",
       "\n",
       "    .dataframe tbody tr th {\n",
       "        vertical-align: top;\n",
       "    }\n",
       "\n",
       "    .dataframe thead th {\n",
       "        text-align: right;\n",
       "    }\n",
       "</style>\n",
       "<table border=\"1\" class=\"dataframe\">\n",
       "  <thead>\n",
       "    <tr style=\"text-align: right;\">\n",
       "      <th></th>\n",
       "      <th>ntee_letter</th>\n",
       "      <th>reportable_comp</th>\n",
       "    </tr>\n",
       "  </thead>\n",
       "  <tbody>\n",
       "    <tr>\n",
       "      <td>0</td>\n",
       "      <td>E</td>\n",
       "      <td>4.111779e+11</td>\n",
       "    </tr>\n",
       "    <tr>\n",
       "      <td>1</td>\n",
       "      <td>S</td>\n",
       "      <td>9.364884e+10</td>\n",
       "    </tr>\n",
       "    <tr>\n",
       "      <td>2</td>\n",
       "      <td>U</td>\n",
       "      <td>4.897066e+10</td>\n",
       "    </tr>\n",
       "    <tr>\n",
       "      <td>3</td>\n",
       "      <td>H</td>\n",
       "      <td>4.833287e+10</td>\n",
       "    </tr>\n",
       "    <tr>\n",
       "      <td>4</td>\n",
       "      <td>G</td>\n",
       "      <td>2.673913e+10</td>\n",
       "    </tr>\n",
       "    <tr>\n",
       "      <td>5</td>\n",
       "      <td>A</td>\n",
       "      <td>2.629700e+10</td>\n",
       "    </tr>\n",
       "    <tr>\n",
       "      <td>6</td>\n",
       "      <td>W</td>\n",
       "      <td>2.608796e+10</td>\n",
       "    </tr>\n",
       "    <tr>\n",
       "      <td>7</td>\n",
       "      <td>N</td>\n",
       "      <td>1.940259e+10</td>\n",
       "    </tr>\n",
       "    <tr>\n",
       "      <td>8</td>\n",
       "      <td>Q</td>\n",
       "      <td>1.643159e+10</td>\n",
       "    </tr>\n",
       "    <tr>\n",
       "      <td>9</td>\n",
       "      <td>V</td>\n",
       "      <td>1.625188e+10</td>\n",
       "    </tr>\n",
       "    <tr>\n",
       "      <td>10</td>\n",
       "      <td>T</td>\n",
       "      <td>1.568200e+10</td>\n",
       "    </tr>\n",
       "    <tr>\n",
       "      <td>11</td>\n",
       "      <td>Y</td>\n",
       "      <td>1.562314e+10</td>\n",
       "    </tr>\n",
       "    <tr>\n",
       "      <td>12</td>\n",
       "      <td>C</td>\n",
       "      <td>1.401925e+10</td>\n",
       "    </tr>\n",
       "    <tr>\n",
       "      <td>13</td>\n",
       "      <td>L</td>\n",
       "      <td>1.314790e+10</td>\n",
       "    </tr>\n",
       "    <tr>\n",
       "      <td>14</td>\n",
       "      <td>B</td>\n",
       "      <td>1.236646e+10</td>\n",
       "    </tr>\n",
       "    <tr>\n",
       "      <td>15</td>\n",
       "      <td>P</td>\n",
       "      <td>1.111592e+10</td>\n",
       "    </tr>\n",
       "    <tr>\n",
       "      <td>16</td>\n",
       "      <td>R</td>\n",
       "      <td>1.058811e+10</td>\n",
       "    </tr>\n",
       "    <tr>\n",
       "      <td>17</td>\n",
       "      <td>I</td>\n",
       "      <td>1.007999e+10</td>\n",
       "    </tr>\n",
       "    <tr>\n",
       "      <td>18</td>\n",
       "      <td>F</td>\n",
       "      <td>8.002097e+09</td>\n",
       "    </tr>\n",
       "    <tr>\n",
       "      <td>19</td>\n",
       "      <td>O</td>\n",
       "      <td>6.644415e+09</td>\n",
       "    </tr>\n",
       "    <tr>\n",
       "      <td>20</td>\n",
       "      <td>J</td>\n",
       "      <td>6.527568e+09</td>\n",
       "    </tr>\n",
       "    <tr>\n",
       "      <td>21</td>\n",
       "      <td>Z</td>\n",
       "      <td>6.220219e+09</td>\n",
       "    </tr>\n",
       "    <tr>\n",
       "      <td>22</td>\n",
       "      <td>X</td>\n",
       "      <td>4.628733e+09</td>\n",
       "    </tr>\n",
       "    <tr>\n",
       "      <td>23</td>\n",
       "      <td>D</td>\n",
       "      <td>4.419274e+09</td>\n",
       "    </tr>\n",
       "    <tr>\n",
       "      <td>24</td>\n",
       "      <td>K</td>\n",
       "      <td>3.452901e+09</td>\n",
       "    </tr>\n",
       "    <tr>\n",
       "      <td>25</td>\n",
       "      <td>M</td>\n",
       "      <td>1.437316e+09</td>\n",
       "    </tr>\n",
       "  </tbody>\n",
       "</table>\n",
       "</div>"
      ],
      "text/plain": [
       "   ntee_letter  reportable_comp\n",
       "0            E     4.111779e+11\n",
       "1            S     9.364884e+10\n",
       "2            U     4.897066e+10\n",
       "3            H     4.833287e+10\n",
       "4            G     2.673913e+10\n",
       "5            A     2.629700e+10\n",
       "6            W     2.608796e+10\n",
       "7            N     1.940259e+10\n",
       "8            Q     1.643159e+10\n",
       "9            V     1.625188e+10\n",
       "10           T     1.568200e+10\n",
       "11           Y     1.562314e+10\n",
       "12           C     1.401925e+10\n",
       "13           L     1.314790e+10\n",
       "14           B     1.236646e+10\n",
       "15           P     1.111592e+10\n",
       "16           R     1.058811e+10\n",
       "17           I     1.007999e+10\n",
       "18           F     8.002097e+09\n",
       "19           O     6.644415e+09\n",
       "20           J     6.527568e+09\n",
       "21           Z     6.220219e+09\n",
       "22           X     4.628733e+09\n",
       "23           D     4.419274e+09\n",
       "24           K     3.452901e+09\n",
       "25           M     1.437316e+09"
      ]
     },
     "execution_count": 61,
     "metadata": {},
     "output_type": "execute_result"
    }
   ],
   "source": [
    "# based on ntee letters, which orgs have the most variance?\n",
    "df.groupby('ntee_letter')['reportable_comp'].var() \\\n",
    "    .sort_values(ascending=False).reset_index()"
   ]
  },
  {
   "cell_type": "code",
   "execution_count": 62,
   "metadata": {},
   "outputs": [
    {
     "data": {
      "text/html": [
       "<div>\n",
       "<style scoped>\n",
       "    .dataframe tbody tr th:only-of-type {\n",
       "        vertical-align: middle;\n",
       "    }\n",
       "\n",
       "    .dataframe tbody tr th {\n",
       "        vertical-align: top;\n",
       "    }\n",
       "\n",
       "    .dataframe thead th {\n",
       "        text-align: right;\n",
       "    }\n",
       "</style>\n",
       "<table border=\"1\" class=\"dataframe\">\n",
       "  <thead>\n",
       "    <tr style=\"text-align: right;\">\n",
       "      <th></th>\n",
       "      <th>ein</th>\n",
       "      <th>period</th>\n",
       "      <th>title</th>\n",
       "      <th>trustee_or_director</th>\n",
       "      <th>reportable_comp</th>\n",
       "      <th>org_name</th>\n",
       "      <th>subsection</th>\n",
       "      <th>ntee_code</th>\n",
       "      <th>ntee_description</th>\n",
       "      <th>state</th>\n",
       "      <th>formation_yr</th>\n",
       "      <th>assets</th>\n",
       "      <th>liabilities</th>\n",
       "      <th>expenses</th>\n",
       "      <th>revenue</th>\n",
       "      <th>ntee_letter</th>\n",
       "    </tr>\n",
       "  </thead>\n",
       "  <tbody>\n",
       "    <tr>\n",
       "      <td>6</td>\n",
       "      <td>10877614</td>\n",
       "      <td>201712</td>\n",
       "      <td>BOARD MEMBER/MANAGING D</td>\n",
       "      <td>True</td>\n",
       "      <td>55385.0</td>\n",
       "      <td>HEART CHANGE MINISTRIES INC</td>\n",
       "      <td>501(c)(3)</td>\n",
       "      <td>G43</td>\n",
       "      <td>Heart and Circulatory System Diseases, Disorders</td>\n",
       "      <td>IN</td>\n",
       "      <td>2006.0</td>\n",
       "      <td>2112293</td>\n",
       "      <td>92283.0</td>\n",
       "      <td>500749.0</td>\n",
       "      <td>1792933.0</td>\n",
       "      <td>G</td>\n",
       "    </tr>\n",
       "    <tr>\n",
       "      <td>7</td>\n",
       "      <td>10877614</td>\n",
       "      <td>201712</td>\n",
       "      <td>BOARD MEMBER</td>\n",
       "      <td>True</td>\n",
       "      <td>60000.0</td>\n",
       "      <td>HEART CHANGE MINISTRIES INC</td>\n",
       "      <td>501(c)(3)</td>\n",
       "      <td>G43</td>\n",
       "      <td>Heart and Circulatory System Diseases, Disorders</td>\n",
       "      <td>IN</td>\n",
       "      <td>2006.0</td>\n",
       "      <td>2112293</td>\n",
       "      <td>92283.0</td>\n",
       "      <td>500749.0</td>\n",
       "      <td>1792933.0</td>\n",
       "      <td>G</td>\n",
       "    </tr>\n",
       "    <tr>\n",
       "      <td>154</td>\n",
       "      <td>10884383</td>\n",
       "      <td>201712</td>\n",
       "      <td>PRESIDENT</td>\n",
       "      <td>True</td>\n",
       "      <td>71062.0</td>\n",
       "      <td>MILAGRE KIDS SCHOOLS INC</td>\n",
       "      <td>501(c)(3)</td>\n",
       "      <td>B28</td>\n",
       "      <td>Specialized Education Institutions</td>\n",
       "      <td>PA</td>\n",
       "      <td>2007.0</td>\n",
       "      <td>97123</td>\n",
       "      <td>13093.0</td>\n",
       "      <td>1251188.0</td>\n",
       "      <td>1294636.0</td>\n",
       "      <td>B</td>\n",
       "    </tr>\n",
       "    <tr>\n",
       "      <td>158</td>\n",
       "      <td>10884383</td>\n",
       "      <td>201712</td>\n",
       "      <td>VICE PRESIDENT</td>\n",
       "      <td>True</td>\n",
       "      <td>9010.0</td>\n",
       "      <td>MILAGRE KIDS SCHOOLS INC</td>\n",
       "      <td>501(c)(3)</td>\n",
       "      <td>B28</td>\n",
       "      <td>Specialized Education Institutions</td>\n",
       "      <td>PA</td>\n",
       "      <td>2007.0</td>\n",
       "      <td>97123</td>\n",
       "      <td>13093.0</td>\n",
       "      <td>1251188.0</td>\n",
       "      <td>1294636.0</td>\n",
       "      <td>B</td>\n",
       "    </tr>\n",
       "    <tr>\n",
       "      <td>459</td>\n",
       "      <td>10906593</td>\n",
       "      <td>201712</td>\n",
       "      <td>VP OF FINANC</td>\n",
       "      <td>True</td>\n",
       "      <td>87452.0</td>\n",
       "      <td>MANAGEMENT SERVICES INC</td>\n",
       "      <td>501(c)(3)</td>\n",
       "      <td>S02</td>\n",
       "      <td>Management and technical assistance - Communit...</td>\n",
       "      <td>CA</td>\n",
       "      <td>2008.0</td>\n",
       "      <td>4161179</td>\n",
       "      <td>120847.0</td>\n",
       "      <td>881055.0</td>\n",
       "      <td>795668.0</td>\n",
       "      <td>S</td>\n",
       "    </tr>\n",
       "  </tbody>\n",
       "</table>\n",
       "</div>"
      ],
      "text/plain": [
       "          ein  period                    title trustee_or_director  \\\n",
       "6    10877614  201712  BOARD MEMBER/MANAGING D                True   \n",
       "7    10877614  201712             BOARD MEMBER                True   \n",
       "154  10884383  201712                PRESIDENT                True   \n",
       "158  10884383  201712           VICE PRESIDENT                True   \n",
       "459  10906593  201712             VP OF FINANC                True   \n",
       "\n",
       "     reportable_comp                     org_name subsection ntee_code  \\\n",
       "6            55385.0  HEART CHANGE MINISTRIES INC  501(c)(3)       G43   \n",
       "7            60000.0  HEART CHANGE MINISTRIES INC  501(c)(3)       G43   \n",
       "154          71062.0     MILAGRE KIDS SCHOOLS INC  501(c)(3)       B28   \n",
       "158           9010.0     MILAGRE KIDS SCHOOLS INC  501(c)(3)       B28   \n",
       "459          87452.0      MANAGEMENT SERVICES INC  501(c)(3)       S02   \n",
       "\n",
       "                                      ntee_description state  formation_yr  \\\n",
       "6     Heart and Circulatory System Diseases, Disorders    IN        2006.0   \n",
       "7     Heart and Circulatory System Diseases, Disorders    IN        2006.0   \n",
       "154                 Specialized Education Institutions    PA        2007.0   \n",
       "158                 Specialized Education Institutions    PA        2007.0   \n",
       "459  Management and technical assistance - Communit...    CA        2008.0   \n",
       "\n",
       "      assets  liabilities   expenses    revenue ntee_letter  \n",
       "6    2112293      92283.0   500749.0  1792933.0           G  \n",
       "7    2112293      92283.0   500749.0  1792933.0           G  \n",
       "154    97123      13093.0  1251188.0  1294636.0           B  \n",
       "158    97123      13093.0  1251188.0  1294636.0           B  \n",
       "459  4161179     120847.0   881055.0   795668.0           S  "
      ]
     },
     "execution_count": 62,
     "metadata": {},
     "output_type": "execute_result"
    }
   ],
   "source": [
    "df.head()"
   ]
  },
  {
   "cell_type": "markdown",
   "metadata": {},
   "source": [
    "## EDA"
   ]
  },
  {
   "cell_type": "markdown",
   "metadata": {},
   "source": [
    "### Distribution of continuous features"
   ]
  },
  {
   "cell_type": "code",
   "execution_count": 190,
   "metadata": {},
   "outputs": [
    {
     "data": {
      "text/html": [
       "<div>\n",
       "<style scoped>\n",
       "    .dataframe tbody tr th:only-of-type {\n",
       "        vertical-align: middle;\n",
       "    }\n",
       "\n",
       "    .dataframe tbody tr th {\n",
       "        vertical-align: top;\n",
       "    }\n",
       "\n",
       "    .dataframe thead th {\n",
       "        text-align: right;\n",
       "    }\n",
       "</style>\n",
       "<table border=\"1\" class=\"dataframe\">\n",
       "  <thead>\n",
       "    <tr style=\"text-align: right;\">\n",
       "      <th></th>\n",
       "      <th>ein</th>\n",
       "      <th>period</th>\n",
       "      <th>reportable_comp</th>\n",
       "      <th>formation_yr</th>\n",
       "      <th>assets</th>\n",
       "      <th>liabilities</th>\n",
       "      <th>expenses</th>\n",
       "      <th>revenue</th>\n",
       "    </tr>\n",
       "  </thead>\n",
       "  <tbody>\n",
       "    <tr>\n",
       "      <td>6</td>\n",
       "      <td>10877614</td>\n",
       "      <td>201712</td>\n",
       "      <td>55385.0</td>\n",
       "      <td>2006.0</td>\n",
       "      <td>2112293</td>\n",
       "      <td>92283.0</td>\n",
       "      <td>500749.0</td>\n",
       "      <td>1792933.0</td>\n",
       "    </tr>\n",
       "    <tr>\n",
       "      <td>7</td>\n",
       "      <td>10877614</td>\n",
       "      <td>201712</td>\n",
       "      <td>60000.0</td>\n",
       "      <td>2006.0</td>\n",
       "      <td>2112293</td>\n",
       "      <td>92283.0</td>\n",
       "      <td>500749.0</td>\n",
       "      <td>1792933.0</td>\n",
       "    </tr>\n",
       "    <tr>\n",
       "      <td>154</td>\n",
       "      <td>10884383</td>\n",
       "      <td>201712</td>\n",
       "      <td>71062.0</td>\n",
       "      <td>2007.0</td>\n",
       "      <td>97123</td>\n",
       "      <td>13093.0</td>\n",
       "      <td>1251188.0</td>\n",
       "      <td>1294636.0</td>\n",
       "    </tr>\n",
       "    <tr>\n",
       "      <td>158</td>\n",
       "      <td>10884383</td>\n",
       "      <td>201712</td>\n",
       "      <td>9010.0</td>\n",
       "      <td>2007.0</td>\n",
       "      <td>97123</td>\n",
       "      <td>13093.0</td>\n",
       "      <td>1251188.0</td>\n",
       "      <td>1294636.0</td>\n",
       "    </tr>\n",
       "    <tr>\n",
       "      <td>459</td>\n",
       "      <td>10906593</td>\n",
       "      <td>201712</td>\n",
       "      <td>87452.0</td>\n",
       "      <td>2008.0</td>\n",
       "      <td>4161179</td>\n",
       "      <td>120847.0</td>\n",
       "      <td>881055.0</td>\n",
       "      <td>795668.0</td>\n",
       "    </tr>\n",
       "    <tr>\n",
       "      <td>...</td>\n",
       "      <td>...</td>\n",
       "      <td>...</td>\n",
       "      <td>...</td>\n",
       "      <td>...</td>\n",
       "      <td>...</td>\n",
       "      <td>...</td>\n",
       "      <td>...</td>\n",
       "      <td>...</td>\n",
       "    </tr>\n",
       "    <tr>\n",
       "      <td>3989743</td>\n",
       "      <td>990186599</td>\n",
       "      <td>201712</td>\n",
       "      <td>12000.0</td>\n",
       "      <td>1978.0</td>\n",
       "      <td>2754244</td>\n",
       "      <td>28296.0</td>\n",
       "      <td>359991.0</td>\n",
       "      <td>554329.0</td>\n",
       "    </tr>\n",
       "    <tr>\n",
       "      <td>3990328</td>\n",
       "      <td>990208850</td>\n",
       "      <td>201712</td>\n",
       "      <td>39880.0</td>\n",
       "      <td>1984.0</td>\n",
       "      <td>3187428</td>\n",
       "      <td>2977061.0</td>\n",
       "      <td>4465050.0</td>\n",
       "      <td>3679726.0</td>\n",
       "    </tr>\n",
       "    <tr>\n",
       "      <td>3990333</td>\n",
       "      <td>990209179</td>\n",
       "      <td>201712</td>\n",
       "      <td>50288.0</td>\n",
       "      <td>1981.0</td>\n",
       "      <td>327992</td>\n",
       "      <td>9503.0</td>\n",
       "      <td>473584.0</td>\n",
       "      <td>475958.0</td>\n",
       "    </tr>\n",
       "    <tr>\n",
       "      <td>3990334</td>\n",
       "      <td>990209179</td>\n",
       "      <td>201712</td>\n",
       "      <td>48188.0</td>\n",
       "      <td>1981.0</td>\n",
       "      <td>327992</td>\n",
       "      <td>9503.0</td>\n",
       "      <td>473584.0</td>\n",
       "      <td>475958.0</td>\n",
       "    </tr>\n",
       "    <tr>\n",
       "      <td>3990557</td>\n",
       "      <td>990215555</td>\n",
       "      <td>201712</td>\n",
       "      <td>9000.0</td>\n",
       "      <td>1982.0</td>\n",
       "      <td>1107</td>\n",
       "      <td>0.0</td>\n",
       "      <td>9008.0</td>\n",
       "      <td>2.0</td>\n",
       "    </tr>\n",
       "  </tbody>\n",
       "</table>\n",
       "<p>40097 rows × 8 columns</p>\n",
       "</div>"
      ],
      "text/plain": [
       "               ein  period  reportable_comp  formation_yr   assets  \\\n",
       "6         10877614  201712          55385.0        2006.0  2112293   \n",
       "7         10877614  201712          60000.0        2006.0  2112293   \n",
       "154       10884383  201712          71062.0        2007.0    97123   \n",
       "158       10884383  201712           9010.0        2007.0    97123   \n",
       "459       10906593  201712          87452.0        2008.0  4161179   \n",
       "...            ...     ...              ...           ...      ...   \n",
       "3989743  990186599  201712          12000.0        1978.0  2754244   \n",
       "3990328  990208850  201712          39880.0        1984.0  3187428   \n",
       "3990333  990209179  201712          50288.0        1981.0   327992   \n",
       "3990334  990209179  201712          48188.0        1981.0   327992   \n",
       "3990557  990215555  201712           9000.0        1982.0     1107   \n",
       "\n",
       "         liabilities   expenses    revenue  \n",
       "6            92283.0   500749.0  1792933.0  \n",
       "7            92283.0   500749.0  1792933.0  \n",
       "154          13093.0  1251188.0  1294636.0  \n",
       "158          13093.0  1251188.0  1294636.0  \n",
       "459         120847.0   881055.0   795668.0  \n",
       "...              ...        ...        ...  \n",
       "3989743      28296.0   359991.0   554329.0  \n",
       "3990328    2977061.0  4465050.0  3679726.0  \n",
       "3990333       9503.0   473584.0   475958.0  \n",
       "3990334       9503.0   473584.0   475958.0  \n",
       "3990557          0.0     9008.0        2.0  \n",
       "\n",
       "[40097 rows x 8 columns]"
      ]
     },
     "execution_count": 190,
     "metadata": {},
     "output_type": "execute_result"
    }
   ],
   "source": [
    "df.select_dtypes(include=['int64', 'float64'])"
   ]
  },
  {
   "cell_type": "code",
   "execution_count": 208,
   "metadata": {},
   "outputs": [
    {
     "data": {
      "image/png": "[encoded data removed]",
      "text/plain": [
       "<Figure size 432x288 with 1 Axes>"
      ]
     },
     "metadata": {},
     "output_type": "display_data"
    }
   ],
   "source": [
    "# distribution by year\n",
    "sns.boxplot(df['formation_yr']);"
   ]
  },
  {
   "cell_type": "code",
   "execution_count": 207,
   "metadata": {},
   "outputs": [
    {
     "data": {
      "text/plain": [
       "<matplotlib.axes._subplots.AxesSubplot at 0x2412bf67b70>"
      ]
     },
     "execution_count": 207,
     "metadata": {},
     "output_type": "execute_result"
    },
    {
     "data": {
      "image/png": "[encoded data removed]",
      "text/plain": [
       "<Figure size 432x288 with 1 Axes>"
      ]
     },
     "metadata": {},
     "output_type": "display_data"
    }
   ],
   "source": [
    "# distribution when excluding the top 10%\n",
    "sns.boxplot(df['reportable_comp'].clip(upper=df.reportable_comp.quantile(.9)));"
   ]
  },
  {
   "cell_type": "code",
   "execution_count": null,
   "metadata": {},
   "outputs": [],
   "source": [
    "# examine distribution of reportable compensation\n",
    "df.select_dtypes(include=['int64', 'float64']).iloc[:, -4:].boxplot()"
   ]
  },
  {
   "cell_type": "code",
   "execution_count": 195,
   "metadata": {},
   "outputs": [
    {
     "data": {
      "text/plain": [
       "<matplotlib.axes._subplots.AxesSubplot at 0x2412b0c4a90>"
      ]
     },
     "execution_count": 195,
     "metadata": {},
     "output_type": "execute_result"
    },
    {
     "data": {
      "image/png": "[encoded data removed]",
      "text/plain": [
       "<Figure size 432x288 with 1 Axes>"
      ]
     },
     "metadata": {},
     "output_type": "display_data"
    }
   ],
   "source": [
    "# examine distribution of financial data\n",
    "df.select_dtypes(include=['int64', 'float64']).iloc[:, -4:].boxplot()"
   ]
  },
  {
   "cell_type": "code",
   "execution_count": null,
   "metadata": {},
   "outputs": [],
   "source": []
  },
  {
   "cell_type": "code",
   "execution_count": null,
   "metadata": {},
   "outputs": [],
   "source": []
  },
  {
   "cell_type": "markdown",
   "metadata": {},
   "source": [
    "### NTEE type analysis"
   ]
  },
  {
   "cell_type": "code",
   "execution_count": 148,
   "metadata": {},
   "outputs": [
    {
     "data": {
      "text/plain": [
       "<matplotlib.axes._subplots.AxesSubplot at 0x24128800a90>"
      ]
     },
     "execution_count": 148,
     "metadata": {},
     "output_type": "execute_result"
    },
    {
     "data": {
      "image/png": "[encoded data removed]",
      "text/plain": [
       "<Figure size 432x288 with 1 Axes>"
      ]
     },
     "metadata": {},
     "output_type": "display_data"
    }
   ],
   "source": [
    "# which ntee category receives the highest executive compensation\n",
    "df.groupby('ntee_letter')['reportable_comp'].agg(['mean']).plot(kind='bar')"
   ]
  },
  {
   "cell_type": "markdown",
   "metadata": {},
   "source": [
    "Type E (genearl health organizations, such as hospitals) have the highest salary associated with it."
   ]
  },
  {
   "cell_type": "code",
   "execution_count": 163,
   "metadata": {},
   "outputs": [
    {
     "data": {
      "image/png": "[encoded data removed]",
      "text/plain": [
       "<Figure size 432x288 with 1 Axes>"
      ]
     },
     "metadata": {},
     "output_type": "display_data"
    }
   ],
   "source": [
    "# which categories receive the most payments?\n",
    "# fig, ax = plt.subplots(figsize=(12, 6))\n",
    "\n",
    "df.groupby(['ntee_letter'])['reportable_comp'].agg(['count']) \\\n",
    "    .plot(kind='bar', stacked=True);"
   ]
  },
  {
   "cell_type": "markdown",
   "metadata": {},
   "source": [
    "E, J, and W are all quite similar in terms of count of payments."
   ]
  },
  {
   "cell_type": "markdown",
   "metadata": {},
   "source": [
    "### 501(c) type analysis"
   ]
  },
  {
   "cell_type": "code",
   "execution_count": 164,
   "metadata": {},
   "outputs": [
    {
     "data": {
      "text/plain": [
       "<matplotlib.axes._subplots.AxesSubplot at 0x2412848cfd0>"
      ]
     },
     "execution_count": 164,
     "metadata": {},
     "output_type": "execute_result"
    },
    {
     "data": {
      "image/png": "[encoded data removed]",
      "text/plain": [
       "<Figure size 432x288 with 1 Axes>"
      ]
     },
     "metadata": {},
     "output_type": "display_data"
    }
   ],
   "source": [
    "# based on not-for-profit type, which executives receive the highest compensation?\n",
    "df.groupby('subsection')['reportable_comp'].agg(['mean']).plot(kind='bar')"
   ]
  },
  {
   "cell_type": "markdown",
   "metadata": {},
   "source": [
    "501(c)(23) executives receive the highest compensation by a lot.  This is because only two executives were paid from that category."
   ]
  },
  {
   "cell_type": "code",
   "execution_count": 165,
   "metadata": {},
   "outputs": [
    {
     "data": {
      "text/plain": [
       "<matplotlib.axes._subplots.AxesSubplot at 0x24128a93ef0>"
      ]
     },
     "execution_count": 165,
     "metadata": {},
     "output_type": "execute_result"
    },
    {
     "data": {
      "image/png": "[encoded data removed]",
      "text/plain": [
       "<Figure size 432x288 with 1 Axes>"
      ]
     },
     "metadata": {},
     "output_type": "display_data"
    }
   ],
   "source": [
    "# count distribution by not-for-profit type?\n",
    "df.groupby('subsection')['reportable_comp'].agg(['count']).plot(kind='bar')"
   ]
  },
  {
   "cell_type": "markdown",
   "metadata": {},
   "source": [
    "501(c)(3) has the highest number of organizations by a lot."
   ]
  },
  {
   "cell_type": "markdown",
   "metadata": {},
   "source": [
    "### Interaction between subsection category and NTEE category"
   ]
  },
  {
   "cell_type": "code",
   "execution_count": 161,
   "metadata": {},
   "outputs": [
    {
     "data": {
      "image/png": "[encoded data removed]",
      "text/plain": [
       "<Figure size 864x432 with 1 Axes>"
      ]
     },
     "metadata": {},
     "output_type": "display_data"
    }
   ],
   "source": [
    "# examine distribution by NTEE and subsection\n",
    "fig, ax = plt.subplots(figsize=(12, 6))\n",
    "\n",
    "df.groupby(['ntee_letter', 'subsection'])['reportable_comp'].agg(['mean']) \\\n",
    "    .unstack().plot(ax=ax, kind='bar', stacked=True)\n",
    "\n",
    "plt.legend(loc='center left', bbox_to_anchor=(1.0, .5), fontsize=10);"
   ]
  },
  {
   "cell_type": "code",
   "execution_count": 166,
   "metadata": {},
   "outputs": [
    {
     "data": {
      "image/png": "[encoded data removed]",
      "text/plain": [
       "<Figure size 864x432 with 1 Axes>"
      ]
     },
     "metadata": {},
     "output_type": "display_data"
    }
   ],
   "source": [
    "# examine distribution by NTEE and subsection\n",
    "fig, ax = plt.subplots(figsize=(12, 6))\n",
    "\n",
    "df.groupby(['subsection', 'ntee_letter'])['reportable_comp'].agg(['mean']) \\\n",
    "    .unstack().plot(ax=ax, kind='bar', stacked=True)\n",
    "\n",
    "plt.legend(loc='center left', bbox_to_anchor=(1.0, .5), fontsize=10);"
   ]
  },
  {
   "cell_type": "markdown",
   "metadata": {},
   "source": [
    "There is more imbalance in subsection distribution than there is in NTEE categories.  Just because an organization has a specific cause doesn't seem to completely control the subsection it is assigned to."
   ]
  },
  {
   "cell_type": "code",
   "execution_count": null,
   "metadata": {},
   "outputs": [],
   "source": []
  },
  {
   "cell_type": "markdown",
   "metadata": {},
   "source": [
    "### Interaction between salaries and assets, liabilities, expenses, revenue"
   ]
  },
  {
   "cell_type": "code",
   "execution_count": 170,
   "metadata": {},
   "outputs": [
    {
     "data": {
      "text/plain": [
       "<seaborn.axisgrid.PairGrid at 0x241286dc160>"
      ]
     },
     "execution_count": 170,
     "metadata": {},
     "output_type": "execute_result"
    },
    {
     "data": {
      "image/png": "[encoded data removed]",
      "text/plain": [
       "<Figure size 900x900 with 30 Axes>"
      ]
     },
     "metadata": {},
     "output_type": "display_data"
    }
   ],
   "source": [
    "sns.pairplot(df[['reportable_comp',\n",
    "   'assets',\n",
    "    'liabilities',\n",
    "    'expenses', \n",
    "    'revenue']])"
   ]
  },
  {
   "cell_type": "code",
   "execution_count": 173,
   "metadata": {},
   "outputs": [
    {
     "data": {
      "text/plain": [
       "(5.0, 0.0)"
      ]
     },
     "execution_count": 173,
     "metadata": {},
     "output_type": "execute_result"
    },
    {
     "data": {
      "image/png": "[encoded data removed]",
      "text/plain": [
       "<Figure size 360x360 with 2 Axes>"
      ]
     },
     "metadata": {},
     "output_type": "display_data"
    }
   ],
   "source": [
    "# compare features using a heatmap\n",
    "plt.figure(figsize=(5, 5))\n",
    "\n",
    "ax = sns.heatmap(df[['reportable_comp',\n",
    "               'assets',\n",
    "                'liabilities',\n",
    "                'expenses', \n",
    "                'revenue']].corr(), \n",
    "                 vmin=-1, vmax=1, center=0, \n",
    "                 square=True, \n",
    "                 annot=False, \n",
    "                 cmap='BuPu')\n",
    "bottom, top = ax.get_ylim()\n",
    "ax.set_ylim(bottom + 0.5, top - 0.5)"
   ]
  },
  {
   "cell_type": "code",
   "execution_count": null,
   "metadata": {},
   "outputs": [],
   "source": []
  },
  {
   "cell_type": "markdown",
   "metadata": {},
   "source": [
    "### Interaction between xxx"
   ]
  },
  {
   "cell_type": "code",
   "execution_count": null,
   "metadata": {},
   "outputs": [],
   "source": []
  },
  {
   "cell_type": "code",
   "execution_count": null,
   "metadata": {},
   "outputs": [],
   "source": []
  },
  {
   "cell_type": "code",
   "execution_count": null,
   "metadata": {},
   "outputs": [],
   "source": []
  },
  {
   "cell_type": "code",
   "execution_count": null,
   "metadata": {},
   "outputs": [],
   "source": []
  },
  {
   "cell_type": "code",
   "execution_count": null,
   "metadata": {},
   "outputs": [],
   "source": []
  },
  {
   "cell_type": "code",
   "execution_count": null,
   "metadata": {},
   "outputs": [],
   "source": []
  },
  {
   "cell_type": "markdown",
   "metadata": {},
   "source": [
    "### Title analysis\n",
    "This is a fill in the blank field, as a result there are a huge number of unique values."
   ]
  },
  {
   "cell_type": "code",
   "execution_count": 73,
   "metadata": {},
   "outputs": [
    {
     "data": {
      "text/plain": [
       "7035"
      ]
     },
     "execution_count": 73,
     "metadata": {},
     "output_type": "execute_result"
    }
   ],
   "source": [
    "df.title.nunique()"
   ]
  },
  {
   "cell_type": "code",
   "execution_count": 83,
   "metadata": {},
   "outputs": [
    {
     "data": {
      "text/plain": [
       "DIRECTOR                   5518\n",
       "PRESIDENT                  2353\n",
       "Director                   2170\n",
       "TRUSTEE                    1702\n",
       "BOARD MEMBER               1507\n",
       "EXECUTIVE DIRECTOR         1452\n",
       "SECRETARY                  1115\n",
       "TREASURER                  1057\n",
       "President                  1009\n",
       "VICE PRESIDENT              832\n",
       "EXECUTIVE DI                731\n",
       "EXECUTIVE BOARD             608\n",
       "Trustee                     604\n",
       "Executive Dir.              581\n",
       "CEO                         423\n",
       "Treasurer                   403\n",
       "Secretary                   391\n",
       "Executive Director          368\n",
       "Board Member                311\n",
       "Vice President              310\n",
       "MEMBER                      269\n",
       "CHAIRMAN                    263\n",
       "PRESIDENT & CEO             254\n",
       "SECRETARY/TREASURER         243\n",
       "President & CEO             208\n",
       "PRESIDENT/CEO               205\n",
       "VICE PRESIDE                203\n",
       "EXECUTIVE BOARD MEMBER      148\n",
       "Chairman                    132\n",
       "Executive Board             124\n",
       "Executive Direc             111\n",
       "CHAIR                        85\n",
       "SECRETARY/TR                 85\n",
       "PRESIDENT AND CEO            83\n",
       "CHIEF EXECUTIVE OFFICER      81\n",
       "EXEC BOARD                   78\n",
       "VICE CHAIR                   77\n",
       "DELEGATE                     75\n",
       "RECORDING SECRETARY          74\n",
       "COMMITTEE MEMBER             74\n",
       "CFO                          73\n",
       "VICE CHAIRMAN                69\n",
       "EXECUTIVE BO                 68\n",
       "CHAIRPERSON                  61\n",
       "VICE-PRESIDENT               60\n",
       "PRESIDENT/DIRECTOR           56\n",
       "SECRETARY-TREASURER          52\n",
       "BOARD OF DIRECTORS           48\n",
       "EXEC DIRECTOR                47\n",
       "COO                          46\n",
       "Name: title, dtype: int64"
      ]
     },
     "execution_count": 83,
     "metadata": {},
     "output_type": "execute_result"
    }
   ],
   "source": [
    "df.title.value_counts().head(50)"
   ]
  },
  {
   "cell_type": "code",
   "execution_count": null,
   "metadata": {},
   "outputs": [],
   "source": []
  },
  {
   "cell_type": "code",
   "execution_count": 130,
   "metadata": {},
   "outputs": [],
   "source": [
    "ein = pd.read_csv('data_sets/ein.csv')"
   ]
  },
  {
   "cell_type": "code",
   "execution_count": 131,
   "metadata": {},
   "outputs": [
    {
     "data": {
      "text/plain": [
       "Int64Index([ 61594980,  61594980, 311424220, 311424220, 311424220, 311424220,\n",
       "            141056009, 141056009, 141056009, 141056009,\n",
       "            ...\n",
       "            952149001, 952149001, 952149001,  43528015, 472330028, 475285597,\n",
       "            474202980, 474202980, 474202980, 364735749],\n",
       "           dtype='int64', name='ein', length=38625)"
      ]
     },
     "execution_count": 131,
     "metadata": {},
     "output_type": "execute_result"
    }
   ],
   "source": [
    "ein.set_index('ein').index.intersection(df['ein'].reset_index().set_index('ein').index)"
   ]
  },
  {
   "cell_type": "code",
   "execution_count": null,
   "metadata": {},
   "outputs": [],
   "source": []
  },
  {
   "cell_type": "code",
   "execution_count": 124,
   "metadata": {},
   "outputs": [
    {
     "data": {
      "text/plain": [
       "Int64Index([ 10877614,  10877614,  10884383,  10884383,  10906593,  10906593,\n",
       "             10906593,  10906593,  10910791,  10918435,\n",
       "            ...\n",
       "            990150515, 990161980, 990171997, 990171997, 990185842, 990186599,\n",
       "            990208850, 990209179, 990209179, 990215555],\n",
       "           dtype='int64', name='ein', length=40097)"
      ]
     },
     "execution_count": 124,
     "metadata": {},
     "output_type": "execute_result"
    }
   ],
   "source": [
    "df['ein'].reset_index().set_index('ein').index"
   ]
  },
  {
   "cell_type": "code",
   "execution_count": 115,
   "metadata": {},
   "outputs": [
    {
     "data": {
      "text/html": [
       "<div>\n",
       "<style scoped>\n",
       "    .dataframe tbody tr th:only-of-type {\n",
       "        vertical-align: middle;\n",
       "    }\n",
       "\n",
       "    .dataframe tbody tr th {\n",
       "        vertical-align: top;\n",
       "    }\n",
       "\n",
       "    .dataframe thead th {\n",
       "        text-align: right;\n",
       "    }\n",
       "</style>\n",
       "<table border=\"1\" class=\"dataframe\">\n",
       "  <thead>\n",
       "    <tr style=\"text-align: right;\">\n",
       "      <th></th>\n",
       "      <th>period</th>\n",
       "      <th>title</th>\n",
       "      <th>trustee_or_director</th>\n",
       "      <th>reportable_comp</th>\n",
       "      <th>org_name</th>\n",
       "      <th>subsection</th>\n",
       "      <th>ntee_code</th>\n",
       "      <th>ntee_description</th>\n",
       "      <th>state</th>\n",
       "      <th>formation_yr</th>\n",
       "      <th>assets</th>\n",
       "      <th>liabilities</th>\n",
       "      <th>expenses</th>\n",
       "      <th>revenue</th>\n",
       "      <th>ntee_letter</th>\n",
       "    </tr>\n",
       "    <tr>\n",
       "      <th>ein</th>\n",
       "      <th></th>\n",
       "      <th></th>\n",
       "      <th></th>\n",
       "      <th></th>\n",
       "      <th></th>\n",
       "      <th></th>\n",
       "      <th></th>\n",
       "      <th></th>\n",
       "      <th></th>\n",
       "      <th></th>\n",
       "      <th></th>\n",
       "      <th></th>\n",
       "      <th></th>\n",
       "      <th></th>\n",
       "      <th></th>\n",
       "    </tr>\n",
       "  </thead>\n",
       "  <tbody>\n",
       "    <tr>\n",
       "      <td>10877614</td>\n",
       "      <td>201712</td>\n",
       "      <td>BOARD MEMBER/MANAGING D</td>\n",
       "      <td>True</td>\n",
       "      <td>55385.0</td>\n",
       "      <td>HEART CHANGE MINISTRIES INC</td>\n",
       "      <td>501(c)(3)</td>\n",
       "      <td>G43</td>\n",
       "      <td>Heart and Circulatory System Diseases, Disorders</td>\n",
       "      <td>IN</td>\n",
       "      <td>2006.0</td>\n",
       "      <td>2112293</td>\n",
       "      <td>92283.0</td>\n",
       "      <td>500749.0</td>\n",
       "      <td>1792933.0</td>\n",
       "      <td>G</td>\n",
       "    </tr>\n",
       "    <tr>\n",
       "      <td>10877614</td>\n",
       "      <td>201712</td>\n",
       "      <td>BOARD MEMBER</td>\n",
       "      <td>True</td>\n",
       "      <td>60000.0</td>\n",
       "      <td>HEART CHANGE MINISTRIES INC</td>\n",
       "      <td>501(c)(3)</td>\n",
       "      <td>G43</td>\n",
       "      <td>Heart and Circulatory System Diseases, Disorders</td>\n",
       "      <td>IN</td>\n",
       "      <td>2006.0</td>\n",
       "      <td>2112293</td>\n",
       "      <td>92283.0</td>\n",
       "      <td>500749.0</td>\n",
       "      <td>1792933.0</td>\n",
       "      <td>G</td>\n",
       "    </tr>\n",
       "    <tr>\n",
       "      <td>10884383</td>\n",
       "      <td>201712</td>\n",
       "      <td>PRESIDENT</td>\n",
       "      <td>True</td>\n",
       "      <td>71062.0</td>\n",
       "      <td>MILAGRE KIDS SCHOOLS INC</td>\n",
       "      <td>501(c)(3)</td>\n",
       "      <td>B28</td>\n",
       "      <td>Specialized Education Institutions</td>\n",
       "      <td>PA</td>\n",
       "      <td>2007.0</td>\n",
       "      <td>97123</td>\n",
       "      <td>13093.0</td>\n",
       "      <td>1251188.0</td>\n",
       "      <td>1294636.0</td>\n",
       "      <td>B</td>\n",
       "    </tr>\n",
       "    <tr>\n",
       "      <td>10884383</td>\n",
       "      <td>201712</td>\n",
       "      <td>VICE PRESIDENT</td>\n",
       "      <td>True</td>\n",
       "      <td>9010.0</td>\n",
       "      <td>MILAGRE KIDS SCHOOLS INC</td>\n",
       "      <td>501(c)(3)</td>\n",
       "      <td>B28</td>\n",
       "      <td>Specialized Education Institutions</td>\n",
       "      <td>PA</td>\n",
       "      <td>2007.0</td>\n",
       "      <td>97123</td>\n",
       "      <td>13093.0</td>\n",
       "      <td>1251188.0</td>\n",
       "      <td>1294636.0</td>\n",
       "      <td>B</td>\n",
       "    </tr>\n",
       "    <tr>\n",
       "      <td>10906593</td>\n",
       "      <td>201712</td>\n",
       "      <td>VP OF FINANC</td>\n",
       "      <td>True</td>\n",
       "      <td>87452.0</td>\n",
       "      <td>MANAGEMENT SERVICES INC</td>\n",
       "      <td>501(c)(3)</td>\n",
       "      <td>S02</td>\n",
       "      <td>Management and technical assistance - Communit...</td>\n",
       "      <td>CA</td>\n",
       "      <td>2008.0</td>\n",
       "      <td>4161179</td>\n",
       "      <td>120847.0</td>\n",
       "      <td>881055.0</td>\n",
       "      <td>795668.0</td>\n",
       "      <td>S</td>\n",
       "    </tr>\n",
       "    <tr>\n",
       "      <td>...</td>\n",
       "      <td>...</td>\n",
       "      <td>...</td>\n",
       "      <td>...</td>\n",
       "      <td>...</td>\n",
       "      <td>...</td>\n",
       "      <td>...</td>\n",
       "      <td>...</td>\n",
       "      <td>...</td>\n",
       "      <td>...</td>\n",
       "      <td>...</td>\n",
       "      <td>...</td>\n",
       "      <td>...</td>\n",
       "      <td>...</td>\n",
       "      <td>...</td>\n",
       "      <td>...</td>\n",
       "    </tr>\n",
       "    <tr>\n",
       "      <td>990186599</td>\n",
       "      <td>201712</td>\n",
       "      <td>DIRECTOR</td>\n",
       "      <td>True</td>\n",
       "      <td>12000.0</td>\n",
       "      <td>MASONS AND PLASTERERS FRATERNAL ASSOCIATION</td>\n",
       "      <td>501(c)(5)</td>\n",
       "      <td>J40</td>\n",
       "      <td>Labor Unions, Organizations</td>\n",
       "      <td>HI</td>\n",
       "      <td>1978.0</td>\n",
       "      <td>2754244</td>\n",
       "      <td>28296.0</td>\n",
       "      <td>359991.0</td>\n",
       "      <td>554329.0</td>\n",
       "      <td>J</td>\n",
       "    </tr>\n",
       "    <tr>\n",
       "      <td>990208850</td>\n",
       "      <td>201712</td>\n",
       "      <td>EXECUTIVE DI</td>\n",
       "      <td>True</td>\n",
       "      <td>39880.0</td>\n",
       "      <td>KALANI HONUA INC</td>\n",
       "      <td>501(c)(3)</td>\n",
       "      <td>A70</td>\n",
       "      <td>Humanities Organizations</td>\n",
       "      <td>HI</td>\n",
       "      <td>1984.0</td>\n",
       "      <td>3187428</td>\n",
       "      <td>2977061.0</td>\n",
       "      <td>4465050.0</td>\n",
       "      <td>3679726.0</td>\n",
       "      <td>A</td>\n",
       "    </tr>\n",
       "    <tr>\n",
       "      <td>990209179</td>\n",
       "      <td>201712</td>\n",
       "      <td>VICE P, SEC</td>\n",
       "      <td>True</td>\n",
       "      <td>50288.0</td>\n",
       "      <td>SMALL WORLD PRESCHOOL</td>\n",
       "      <td>501(c)(3)</td>\n",
       "      <td>P33</td>\n",
       "      <td>Child Day Care</td>\n",
       "      <td>HI</td>\n",
       "      <td>1981.0</td>\n",
       "      <td>327992</td>\n",
       "      <td>9503.0</td>\n",
       "      <td>473584.0</td>\n",
       "      <td>475958.0</td>\n",
       "      <td>P</td>\n",
       "    </tr>\n",
       "    <tr>\n",
       "      <td>990209179</td>\n",
       "      <td>201712</td>\n",
       "      <td>PRESIDENT</td>\n",
       "      <td>True</td>\n",
       "      <td>48188.0</td>\n",
       "      <td>SMALL WORLD PRESCHOOL</td>\n",
       "      <td>501(c)(3)</td>\n",
       "      <td>P33</td>\n",
       "      <td>Child Day Care</td>\n",
       "      <td>HI</td>\n",
       "      <td>1981.0</td>\n",
       "      <td>327992</td>\n",
       "      <td>9503.0</td>\n",
       "      <td>473584.0</td>\n",
       "      <td>475958.0</td>\n",
       "      <td>P</td>\n",
       "    </tr>\n",
       "    <tr>\n",
       "      <td>990215555</td>\n",
       "      <td>201712</td>\n",
       "      <td>PRESIDENT</td>\n",
       "      <td>True</td>\n",
       "      <td>9000.0</td>\n",
       "      <td>HAWAII LONG TERM CARE ASSOCIATION</td>\n",
       "      <td>501(c)(6)</td>\n",
       "      <td>E21</td>\n",
       "      <td>Community Health Systems</td>\n",
       "      <td>HI</td>\n",
       "      <td>1982.0</td>\n",
       "      <td>1107</td>\n",
       "      <td>0.0</td>\n",
       "      <td>9008.0</td>\n",
       "      <td>2.0</td>\n",
       "      <td>E</td>\n",
       "    </tr>\n",
       "  </tbody>\n",
       "</table>\n",
       "<p>40097 rows × 15 columns</p>\n",
       "</div>"
      ],
      "text/plain": [
       "           period                    title trustee_or_director  \\\n",
       "ein                                                              \n",
       "10877614   201712  BOARD MEMBER/MANAGING D                True   \n",
       "10877614   201712             BOARD MEMBER                True   \n",
       "10884383   201712                PRESIDENT                True   \n",
       "10884383   201712           VICE PRESIDENT                True   \n",
       "10906593   201712             VP OF FINANC                True   \n",
       "...           ...                      ...                 ...   \n",
       "990186599  201712                 DIRECTOR                True   \n",
       "990208850  201712             EXECUTIVE DI                True   \n",
       "990209179  201712              VICE P, SEC                True   \n",
       "990209179  201712                PRESIDENT                True   \n",
       "990215555  201712                PRESIDENT                True   \n",
       "\n",
       "           reportable_comp                                     org_name  \\\n",
       "ein                                                                       \n",
       "10877614           55385.0                  HEART CHANGE MINISTRIES INC   \n",
       "10877614           60000.0                  HEART CHANGE MINISTRIES INC   \n",
       "10884383           71062.0                     MILAGRE KIDS SCHOOLS INC   \n",
       "10884383            9010.0                     MILAGRE KIDS SCHOOLS INC   \n",
       "10906593           87452.0                      MANAGEMENT SERVICES INC   \n",
       "...                    ...                                          ...   \n",
       "990186599          12000.0  MASONS AND PLASTERERS FRATERNAL ASSOCIATION   \n",
       "990208850          39880.0                             KALANI HONUA INC   \n",
       "990209179          50288.0                        SMALL WORLD PRESCHOOL   \n",
       "990209179          48188.0                        SMALL WORLD PRESCHOOL   \n",
       "990215555           9000.0            HAWAII LONG TERM CARE ASSOCIATION   \n",
       "\n",
       "          subsection ntee_code  \\\n",
       "ein                              \n",
       "10877614   501(c)(3)       G43   \n",
       "10877614   501(c)(3)       G43   \n",
       "10884383   501(c)(3)       B28   \n",
       "10884383   501(c)(3)       B28   \n",
       "10906593   501(c)(3)       S02   \n",
       "...              ...       ...   \n",
       "990186599  501(c)(5)       J40   \n",
       "990208850  501(c)(3)       A70   \n",
       "990209179  501(c)(3)       P33   \n",
       "990209179  501(c)(3)       P33   \n",
       "990215555  501(c)(6)       E21   \n",
       "\n",
       "                                            ntee_description state  \\\n",
       "ein                                                                  \n",
       "10877614    Heart and Circulatory System Diseases, Disorders    IN   \n",
       "10877614    Heart and Circulatory System Diseases, Disorders    IN   \n",
       "10884383                  Specialized Education Institutions    PA   \n",
       "10884383                  Specialized Education Institutions    PA   \n",
       "10906593   Management and technical assistance - Communit...    CA   \n",
       "...                                                      ...   ...   \n",
       "990186599                        Labor Unions, Organizations    HI   \n",
       "990208850                           Humanities Organizations    HI   \n",
       "990209179                                     Child Day Care    HI   \n",
       "990209179                                     Child Day Care    HI   \n",
       "990215555                           Community Health Systems    HI   \n",
       "\n",
       "           formation_yr   assets  liabilities   expenses    revenue  \\\n",
       "ein                                                                   \n",
       "10877614         2006.0  2112293      92283.0   500749.0  1792933.0   \n",
       "10877614         2006.0  2112293      92283.0   500749.0  1792933.0   \n",
       "10884383         2007.0    97123      13093.0  1251188.0  1294636.0   \n",
       "10884383         2007.0    97123      13093.0  1251188.0  1294636.0   \n",
       "10906593         2008.0  4161179     120847.0   881055.0   795668.0   \n",
       "...                 ...      ...          ...        ...        ...   \n",
       "990186599        1978.0  2754244      28296.0   359991.0   554329.0   \n",
       "990208850        1984.0  3187428    2977061.0  4465050.0  3679726.0   \n",
       "990209179        1981.0   327992       9503.0   473584.0   475958.0   \n",
       "990209179        1981.0   327992       9503.0   473584.0   475958.0   \n",
       "990215555        1982.0     1107          0.0     9008.0        2.0   \n",
       "\n",
       "          ntee_letter  \n",
       "ein                    \n",
       "10877614            G  \n",
       "10877614            G  \n",
       "10884383            B  \n",
       "10884383            B  \n",
       "10906593            S  \n",
       "...               ...  \n",
       "990186599           J  \n",
       "990208850           A  \n",
       "990209179           P  \n",
       "990209179           P  \n",
       "990215555           E  \n",
       "\n",
       "[40097 rows x 15 columns]"
      ]
     },
     "execution_count": 115,
     "metadata": {},
     "output_type": "execute_result"
    }
   ],
   "source": [
    "df.set_index('ein')"
   ]
  },
  {
   "cell_type": "code",
   "execution_count": null,
   "metadata": {},
   "outputs": [],
   "source": []
  },
  {
   "cell_type": "code",
   "execution_count": null,
   "metadata": {},
   "outputs": [],
   "source": []
  },
  {
   "cell_type": "code",
   "execution_count": null,
   "metadata": {},
   "outputs": [],
   "source": []
  },
  {
   "cell_type": "code",
   "execution_count": null,
   "metadata": {},
   "outputs": [],
   "source": []
  },
  {
   "cell_type": "code",
   "execution_count": null,
   "metadata": {},
   "outputs": [],
   "source": []
  },
  {
   "cell_type": "code",
   "execution_count": null,
   "metadata": {},
   "outputs": [],
   "source": []
  },
  {
   "cell_type": "markdown",
   "metadata": {},
   "source": [
    "### SPARE PARTS"
   ]
  },
  {
   "cell_type": "code",
   "execution_count": null,
   "metadata": {},
   "outputs": [],
   "source": []
  }
 ],
 "metadata": {
  "kernelspec": {
   "display_name": "Python 3",
   "language": "python",
   "name": "python3"
  },
  "language_info": {
   "codemirror_mode": {
    "name": "ipython",
    "version": 3
   },
   "file_extension": ".py",
   "mimetype": "text/x-python",
   "name": "python",
   "nbconvert_exporter": "python",
   "pygments_lexer": "ipython3",
   "version": "3.7.3"
  }
 },
 "nbformat": 4,
 "nbformat_minor": 4
}
