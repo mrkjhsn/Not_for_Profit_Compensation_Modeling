{
 "cells": [
  {
   "cell_type": "markdown",
   "metadata": {},
   "source": [
    "Select governance features"
   ]
  },
  {
   "cell_type": "markdown",
   "metadata": {},
   "source": [
    "### From Governance Snack Dataset:\n",
    "\n",
    "\n",
    "1. ein Header/ Block D Employer Identification Number text \n",
    "1. tax_yr N/A Year associated with tax_date_end text \n",
    "1. voting_memb_ct Part I/ Line 3 Number of voting members of the governing body at the end of the year integer \n",
    "1. voting_indepmemb_ct Part I/ Line 4 Number of independent voting members of the governing body at the end of the year integer employee_tot_ct 1. Part I/ Line 5 Number of employees integer volunteer_tot_ct \n",
    "1. Part I/ Line 6 Number of volunteers integer \n",
    "\n",
    "1. ceo_comp_review Part VI/Section B/Line 15a Have independent review of compensation for CEO, Executive Director, or top management official \n",
    "1. binary officer_comp_review Part VI/Section B/Line 15b Have independent review of compensation for other officers or key employees of the organization binary "
   ]
  },
  {
   "cell_type": "code",
   "execution_count": 2,
   "metadata": {},
   "outputs": [],
   "source": [
    "import pandas as pd\n",
    "pd.set_option('display.max_columns', None)"
   ]
  },
  {
   "cell_type": "code",
   "execution_count": 9,
   "metadata": {},
   "outputs": [],
   "source": [
    "cols = ['ein',\n",
    "  'tax_yr',\n",
    "   'voting_memb_ct',\n",
    "   'voting_indepmemb_ct',\n",
    "   'employee_tot_ct',\n",
    "   'volunteer_tot_ct',\n",
    "   'ceo_comp_review',\n",
    "   'officer_comp_review',\n",
    "   'conflict_interest_policy',\n",
    "   'conflict_disclosure',\n",
    "    'enforce_conflict_policy']\n",
    "\n",
    "df = pd.read_csv('data_sets/Open990_Governance_Snack_Set_Public_2019-01-15.csv', usecols=cols)"
   ]
  },
  {
   "cell_type": "code",
   "execution_count": 10,
   "metadata": {},
   "outputs": [
    {
     "data": {
      "text/html": [
       "<div>\n",
       "<style scoped>\n",
       "    .dataframe tbody tr th:only-of-type {\n",
       "        vertical-align: middle;\n",
       "    }\n",
       "\n",
       "    .dataframe tbody tr th {\n",
       "        vertical-align: top;\n",
       "    }\n",
       "\n",
       "    .dataframe thead th {\n",
       "        text-align: right;\n",
       "    }\n",
       "</style>\n",
       "<table border=\"1\" class=\"dataframe\">\n",
       "  <thead>\n",
       "    <tr style=\"text-align: right;\">\n",
       "      <th></th>\n",
       "      <th>ein</th>\n",
       "      <th>tax_yr</th>\n",
       "      <th>voting_memb_ct</th>\n",
       "      <th>voting_indepmemb_ct</th>\n",
       "      <th>employee_tot_ct</th>\n",
       "      <th>volunteer_tot_ct</th>\n",
       "      <th>conflict_interest_policy</th>\n",
       "      <th>conflict_disclosure</th>\n",
       "      <th>enforce_conflict_policy</th>\n",
       "      <th>ceo_comp_review</th>\n",
       "      <th>officer_comp_review</th>\n",
       "    </tr>\n",
       "  </thead>\n",
       "  <tbody>\n",
       "    <tr>\n",
       "      <td>0</td>\n",
       "      <td>391546606</td>\n",
       "      <td>2017</td>\n",
       "      <td>9</td>\n",
       "      <td>9</td>\n",
       "      <td>8</td>\n",
       "      <td>25.0</td>\n",
       "      <td>yes</td>\n",
       "      <td>yes</td>\n",
       "      <td>yes</td>\n",
       "      <td>yes</td>\n",
       "      <td>no</td>\n",
       "    </tr>\n",
       "    <tr>\n",
       "      <td>1</td>\n",
       "      <td>640901077</td>\n",
       "      <td>2012</td>\n",
       "      <td>15</td>\n",
       "      <td>15</td>\n",
       "      <td>4</td>\n",
       "      <td>NaN</td>\n",
       "      <td>yes</td>\n",
       "      <td>yes</td>\n",
       "      <td>yes</td>\n",
       "      <td>no</td>\n",
       "      <td>no</td>\n",
       "    </tr>\n",
       "    <tr>\n",
       "      <td>2</td>\n",
       "      <td>522113016</td>\n",
       "      <td>2015</td>\n",
       "      <td>15</td>\n",
       "      <td>15</td>\n",
       "      <td>16</td>\n",
       "      <td>0.0</td>\n",
       "      <td>yes</td>\n",
       "      <td>yes</td>\n",
       "      <td>yes</td>\n",
       "      <td>yes</td>\n",
       "      <td>yes</td>\n",
       "    </tr>\n",
       "    <tr>\n",
       "      <td>3</td>\n",
       "      <td>454957549</td>\n",
       "      <td>2016</td>\n",
       "      <td>4</td>\n",
       "      <td>0</td>\n",
       "      <td>12</td>\n",
       "      <td>NaN</td>\n",
       "      <td>no</td>\n",
       "      <td>no</td>\n",
       "      <td>no</td>\n",
       "      <td>no</td>\n",
       "      <td>no</td>\n",
       "    </tr>\n",
       "    <tr>\n",
       "      <td>4</td>\n",
       "      <td>210502065</td>\n",
       "      <td>2017</td>\n",
       "      <td>28</td>\n",
       "      <td>28</td>\n",
       "      <td>3</td>\n",
       "      <td>0.0</td>\n",
       "      <td>no</td>\n",
       "      <td>NaN</td>\n",
       "      <td>NaN</td>\n",
       "      <td>yes</td>\n",
       "      <td>no</td>\n",
       "    </tr>\n",
       "  </tbody>\n",
       "</table>\n",
       "</div>"
      ],
      "text/plain": [
       "         ein  tax_yr  voting_memb_ct  voting_indepmemb_ct  employee_tot_ct  \\\n",
       "0  391546606    2017               9                    9                8   \n",
       "1  640901077    2012              15                   15                4   \n",
       "2  522113016    2015              15                   15               16   \n",
       "3  454957549    2016               4                    0               12   \n",
       "4  210502065    2017              28                   28                3   \n",
       "\n",
       "   volunteer_tot_ct conflict_interest_policy conflict_disclosure  \\\n",
       "0              25.0                      yes                 yes   \n",
       "1               NaN                      yes                 yes   \n",
       "2               0.0                      yes                 yes   \n",
       "3               NaN                       no                  no   \n",
       "4               0.0                       no                 NaN   \n",
       "\n",
       "  enforce_conflict_policy ceo_comp_review officer_comp_review  \n",
       "0                     yes             yes                  no  \n",
       "1                     yes              no                  no  \n",
       "2                     yes             yes                 yes  \n",
       "3                      no              no                  no  \n",
       "4                     NaN             yes                  no  "
      ]
     },
     "execution_count": 10,
     "metadata": {},
     "output_type": "execute_result"
    }
   ],
   "source": [
    "df.head(5)"
   ]
  },
  {
   "cell_type": "code",
   "execution_count": 11,
   "metadata": {},
   "outputs": [
    {
     "data": {
      "text/plain": [
       "(1453208, 11)"
      ]
     },
     "execution_count": 11,
     "metadata": {},
     "output_type": "execute_result"
    }
   ],
   "source": [
    "df.shape"
   ]
  },
  {
   "cell_type": "code",
   "execution_count": 14,
   "metadata": {},
   "outputs": [
    {
     "data": {
      "text/plain": [
       "2016    237448\n",
       "2015    226022\n",
       "2014    208950\n",
       "2013    189195\n",
       "2017    178537\n",
       "2012    169291\n",
       "2011    138173\n",
       "2010     97353\n",
       "2018      8239\n",
       "Name: tax_yr, dtype: int64"
      ]
     },
     "execution_count": 14,
     "metadata": {},
     "output_type": "execute_result"
    }
   ],
   "source": [
    "df.tax_yr.value_counts()"
   ]
  },
  {
   "cell_type": "code",
   "execution_count": 17,
   "metadata": {},
   "outputs": [],
   "source": [
    "# subset to only 2017 data\n",
    "df = df[df.tax_yr == 2017]"
   ]
  },
  {
   "cell_type": "code",
   "execution_count": 20,
   "metadata": {},
   "outputs": [
    {
     "data": {
      "text/plain": [
       "ein                             0\n",
       "tax_yr                          0\n",
       "voting_memb_ct                  0\n",
       "voting_indepmemb_ct             0\n",
       "employee_tot_ct                 0\n",
       "volunteer_tot_ct            48422\n",
       "conflict_interest_policy        0\n",
       "conflict_disclosure         53225\n",
       "enforce_conflict_policy     53002\n",
       "ceo_comp_review               495\n",
       "officer_comp_review           565\n",
       "dtype: int64"
      ]
     },
     "execution_count": 20,
     "metadata": {},
     "output_type": "execute_result"
    }
   ],
   "source": [
    "df.isna().sum()"
   ]
  }
 ],
 "metadata": {
  "kernelspec": {
   "display_name": "Python 3",
   "language": "python",
   "name": "python3"
  },
  "language_info": {
   "codemirror_mode": {
    "name": "ipython",
    "version": 3
   },
   "file_extension": ".py",
   "mimetype": "text/x-python",
   "name": "python",
   "nbconvert_exporter": "python",
   "pygments_lexer": "ipython3",
   "version": "3.7.3"
  }
 },
 "nbformat": 4,
 "nbformat_minor": 4
}
