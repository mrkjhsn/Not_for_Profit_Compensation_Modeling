{
 "cells": [
  {
   "cell_type": "markdown",
   "metadata": {},
   "source": [
    "# Executive Compensation Dataset:\n",
    "\n",
    "The executive compensation dataset contains detailed information about the payments made by not-for-profits to its highest compensated employees.  Thresholds include - officers, directors, trustees, key employees (>150K), and five highest compensated (>100K) employees."
   ]
  },
  {
   "cell_type": "code",
   "execution_count": 1,
   "metadata": {},
   "outputs": [],
   "source": [
    "import numpy as np\n",
    "import pandas as pd\n",
    "pd.set_option('display.max_columns', None)\n",
    "\n",
    "import matplotlib.pyplot as plt\n",
    "import seaborn as sns\n",
    "plt.style.use('ggplot')\n",
    "import plotly.express as px\n",
    "# plt.style.use('bmh')\n",
    "\n",
    "\n",
    "import warnings\n",
    "from pandas.core.common import SettingWithCopyWarning\n",
    "\n",
    "warnings.simplefilter(action=\"ignore\", category=SettingWithCopyWarning)"
   ]
  },
  {
   "cell_type": "markdown",
   "metadata": {},
   "source": [
    "### enrich this dataset by including median income for each state\n",
    "https://www.kaggle.com/goldenoakresearch/us-household-income-stats-geo-locations\n",
    "\n",
    "The dataset originally developed for real estate and business investment research. Income is a vital element when determining both quality and socioeconomic features of a given geographic location. The following data was derived from over +36,000 files and covers 348,893 location records."
   ]
  },
  {
   "cell_type": "markdown",
   "metadata": {},
   "source": [
    "## IMPORT DATA & PREPROCESS"
   ]
  },
  {
   "cell_type": "code",
   "execution_count": 2,
   "metadata": {},
   "outputs": [],
   "source": [
    "# import USA state abbreviations \n",
    "# and median income for each state data\n",
    "us_states = pd.read_csv('02.data/us_states.csv', index_col=0)\n",
    "median_income_by_state = pd.read_csv('02.data/median_income_by_state.csv',\n",
    "                                     skiprows=lambda x: x in [0, 1, 3], \n",
    "                                     skipfooter=9, engine='python', index_col=0)\n",
    "\n",
    "median_income_by_state = us_states.merge(median_income_by_state,\n",
    "               left_index=True,\n",
    "               right_index=True)"
   ]
  },
  {
   "cell_type": "code",
   "execution_count": 3,
   "metadata": {},
   "outputs": [],
   "source": [
    "# import compensation dataset with full columns\n",
    "df_original = pd.read_csv('02.data/primary_raw_datasets/Compensation_charities_Open990.csv', \n",
    "                 header=1, nrows=5)"
   ]
  },
  {
   "cell_type": "code",
   "execution_count": 4,
   "metadata": {},
   "outputs": [
    {
     "data": {
      "text/html": [
       "<div>\n",
       "<style scoped>\n",
       "    .dataframe tbody tr th:only-of-type {\n",
       "        vertical-align: middle;\n",
       "    }\n",
       "\n",
       "    .dataframe tbody tr th {\n",
       "        vertical-align: top;\n",
       "    }\n",
       "\n",
       "    .dataframe thead th {\n",
       "        text-align: right;\n",
       "    }\n",
       "</style>\n",
       "<table border=\"1\" class=\"dataframe\">\n",
       "  <thead>\n",
       "    <tr style=\"text-align: right;\">\n",
       "      <th></th>\n",
       "      <th>EIN</th>\n",
       "      <th>Period</th>\n",
       "      <th>Person ID</th>\n",
       "      <th>Title</th>\n",
       "      <th>Hours</th>\n",
       "      <th>Hours related org</th>\n",
       "      <th>Trustee or director</th>\n",
       "      <th>Institutional trustee</th>\n",
       "      <th>Officer</th>\n",
       "      <th>Key employee</th>\n",
       "      <th>Highest compensated</th>\n",
       "      <th>Former</th>\n",
       "      <th>Reportable comp</th>\n",
       "      <th>Reportable comp related org</th>\n",
       "      <th>Other comp all</th>\n",
       "      <th>Health and benefits</th>\n",
       "      <th>Other comp</th>\n",
       "      <th>Base</th>\n",
       "      <th>Base related org</th>\n",
       "      <th>Bonus</th>\n",
       "      <th>Bonus related org</th>\n",
       "      <th>Other</th>\n",
       "      <th>Other related org</th>\n",
       "      <th>Retire</th>\n",
       "      <th>Retire related org</th>\n",
       "      <th>Nontax benefit</th>\n",
       "      <th>Nontax benefit related org</th>\n",
       "      <th>Sum comp</th>\n",
       "      <th>Sum comp related org</th>\n",
       "      <th>Prior deferred</th>\n",
       "      <th>Prior deferred related org</th>\n",
       "      <th>Org name</th>\n",
       "      <th>Subsection</th>\n",
       "      <th>NTEE code</th>\n",
       "      <th>NTEE description</th>\n",
       "      <th>Street</th>\n",
       "      <th>City</th>\n",
       "      <th>State</th>\n",
       "      <th>ZIP</th>\n",
       "      <th>Formation yr</th>\n",
       "      <th>Phone</th>\n",
       "      <th>Website</th>\n",
       "      <th>Assets</th>\n",
       "      <th>Liabilities</th>\n",
       "      <th>Expenses</th>\n",
       "      <th>Revenue</th>\n",
       "      <th>Form type</th>\n",
       "      <th>Efile ID</th>\n",
       "    </tr>\n",
       "  </thead>\n",
       "  <tbody>\n",
       "    <tr>\n",
       "      <td>0</td>\n",
       "      <td>10877614</td>\n",
       "      <td>201712</td>\n",
       "      <td>y7drw7umAm8SK9fWY7aFCA</td>\n",
       "      <td>BOARD MEMBER</td>\n",
       "      <td>1.0</td>\n",
       "      <td>NaN</td>\n",
       "      <td>True</td>\n",
       "      <td>NaN</td>\n",
       "      <td>NaN</td>\n",
       "      <td>NaN</td>\n",
       "      <td>NaN</td>\n",
       "      <td>NaN</td>\n",
       "      <td>0</td>\n",
       "      <td>0</td>\n",
       "      <td>0</td>\n",
       "      <td>NaN</td>\n",
       "      <td>NaN</td>\n",
       "      <td>NaN</td>\n",
       "      <td>NaN</td>\n",
       "      <td>NaN</td>\n",
       "      <td>NaN</td>\n",
       "      <td>NaN</td>\n",
       "      <td>NaN</td>\n",
       "      <td>NaN</td>\n",
       "      <td>NaN</td>\n",
       "      <td>NaN</td>\n",
       "      <td>NaN</td>\n",
       "      <td>NaN</td>\n",
       "      <td>NaN</td>\n",
       "      <td>NaN</td>\n",
       "      <td>NaN</td>\n",
       "      <td>HEART CHANGE MINISTRIES INC</td>\n",
       "      <td>501(c)(3)</td>\n",
       "      <td>G43</td>\n",
       "      <td>Heart and Circulatory System Diseases, Disorders</td>\n",
       "      <td>4201 E 16TH ST</td>\n",
       "      <td>INDIANAPOLIS</td>\n",
       "      <td>IN</td>\n",
       "      <td>46201</td>\n",
       "      <td>2006</td>\n",
       "      <td>3174960916</td>\n",
       "      <td>WWW.HEARTCHANGEINDY.ORG</td>\n",
       "      <td>2112293</td>\n",
       "      <td>92283</td>\n",
       "      <td>500749</td>\n",
       "      <td>1792933</td>\n",
       "      <td>990</td>\n",
       "      <td>201803199349308805</td>\n",
       "    </tr>\n",
       "  </tbody>\n",
       "</table>\n",
       "</div>"
      ],
      "text/plain": [
       "        EIN  Period               Person ID         Title  Hours  \\\n",
       "0  10877614  201712  y7drw7umAm8SK9fWY7aFCA  BOARD MEMBER    1.0   \n",
       "\n",
       "   Hours related org  Trustee or director  Institutional trustee  Officer  \\\n",
       "0                NaN                 True                    NaN      NaN   \n",
       "\n",
       "   Key employee  Highest compensated  Former  Reportable comp  \\\n",
       "0           NaN                  NaN     NaN                0   \n",
       "\n",
       "   Reportable comp related org  Other comp all  Health and benefits  \\\n",
       "0                            0               0                  NaN   \n",
       "\n",
       "   Other comp  Base  Base related org  Bonus  Bonus related org  Other  \\\n",
       "0         NaN   NaN               NaN    NaN                NaN    NaN   \n",
       "\n",
       "   Other related org  Retire  Retire related org  Nontax benefit  \\\n",
       "0                NaN     NaN                 NaN             NaN   \n",
       "\n",
       "   Nontax benefit related org  Sum comp  Sum comp related org  Prior deferred  \\\n",
       "0                         NaN       NaN                   NaN             NaN   \n",
       "\n",
       "   Prior deferred related org                     Org name Subsection  \\\n",
       "0                         NaN  HEART CHANGE MINISTRIES INC  501(c)(3)   \n",
       "\n",
       "  NTEE code                                  NTEE description          Street  \\\n",
       "0       G43  Heart and Circulatory System Diseases, Disorders  4201 E 16TH ST   \n",
       "\n",
       "           City State    ZIP  Formation yr       Phone  \\\n",
       "0  INDIANAPOLIS    IN  46201          2006  3174960916   \n",
       "\n",
       "                   Website   Assets  Liabilities  Expenses  Revenue  \\\n",
       "0  WWW.HEARTCHANGEINDY.ORG  2112293        92283    500749  1792933   \n",
       "\n",
       "   Form type            Efile ID  \n",
       "0        990  201803199349308805  "
      ]
     },
     "execution_count": 4,
     "metadata": {},
     "output_type": "execute_result"
    }
   ],
   "source": [
    "df_original.head(1)"
   ]
  },
  {
   "cell_type": "code",
   "execution_count": 76,
   "metadata": {},
   "outputs": [],
   "source": [
    "# import columns that interest me\n",
    "cols = ['EIN',\n",
    "       'Period',\n",
    "       'Title',\n",
    "        'Hours', \n",
    "       'Trustee or director',\n",
    "       'Institutional trustee',\n",
    "        'Officer',\n",
    "        'Key employee',\n",
    "        'Highest compensated',\n",
    "        'Reportable comp',\n",
    "        'Health and benefits',\n",
    "        'Other comp',\n",
    "       'Sum comp', \n",
    "        'Org name',\n",
    "        'Subsection',\n",
    "        'NTEE code',\n",
    "        'NTEE description',\n",
    "       'State',\n",
    "       'Formation yr',\n",
    "       'Assets',\n",
    "        'Liabilities',\n",
    "        'Expenses',\n",
    "        'Revenue']\n",
    "\n",
    "df = pd.read_csv('02.data/primary_raw_datasets/Compensation_charities_Open990.csv', \n",
    "                 header=1,\n",
    "                usecols=cols)"
   ]
  },
  {
   "cell_type": "code",
   "execution_count": 77,
   "metadata": {},
   "outputs": [
    {
     "data": {
      "text/plain": [
       "(3990749, 23)"
      ]
     },
     "execution_count": 77,
     "metadata": {},
     "output_type": "execute_result"
    }
   ],
   "source": [
    "df.shape"
   ]
  },
  {
   "cell_type": "code",
   "execution_count": 78,
   "metadata": {},
   "outputs": [],
   "source": [
    "# convert column labels to lower case and remove spaces from column names\n",
    "df.columns = df.columns.str.replace(' ', '_')\n",
    "df.columns = map(str.lower, df.columns)"
   ]
  },
  {
   "cell_type": "code",
   "execution_count": 81,
   "metadata": {},
   "outputs": [],
   "source": [
    "# add median age for the state of each not-for-profit\n",
    "df = df.merge(median_income_by_state,\n",
    "        left_on='state',\n",
    "        right_on='Abbreviation').drop('Abbreviation', axis=1)"
   ]
  },
  {
   "cell_type": "markdown",
   "metadata": {},
   "source": [
    "### Narrow dataset based on hours and earnings for each employee"
   ]
  },
  {
   "cell_type": "code",
   "execution_count": 82,
   "metadata": {},
   "outputs": [],
   "source": [
    "# exclude people who make less than median income\n",
    "# for the state the the not-for-profit is located in\n",
    "df = df[(df.reportable_comp > df.state_median_income) &\n",
    "       (df.hours > 40)]"
   ]
  },
  {
   "cell_type": "markdown",
   "metadata": {},
   "source": [
    "By excluding people who make less than the median income for the state the not-for-profit is located in, and by excluding anyone who works less than 40 hours a week, I feel confident I am only including core executive management versus part time board members or trustees."
   ]
  },
  {
   "cell_type": "code",
   "execution_count": 85,
   "metadata": {},
   "outputs": [
    {
     "data": {
      "text/plain": [
       "(43274, 24)"
      ]
     },
     "execution_count": 85,
     "metadata": {},
     "output_type": "execute_result"
    }
   ],
   "source": [
    "# examine size of dataset\n",
    "df.shape"
   ]
  },
  {
   "cell_type": "markdown",
   "metadata": {},
   "source": [
    "### Narrow dataset based on title of employee"
   ]
  },
  {
   "cell_type": "code",
   "execution_count": 12,
   "metadata": {},
   "outputs": [
    {
     "data": {
      "text/plain": [
       "<matplotlib.axes._subplots.AxesSubplot at 0x18a5a8677b8>"
      ]
     },
     "execution_count": 12,
     "metadata": {},
     "output_type": "execute_result"
    },
    {
     "data": {
      "image/png": "[encoded data removed]",
      "text/plain": [
       "<Figure size 432x288 with 1 Axes>"
      ]
     },
     "metadata": {
      "needs_background": "light"
     },
     "output_type": "display_data"
    }
   ],
   "source": [
    "# what is the distribution\n",
    "# based on the title of the person receiving the compensation?\n",
    "df.loc[:, 'trustee_or_director': 'highest_compensated'].notnull().sum().plot(kind='bar')"
   ]
  },
  {
   "cell_type": "markdown",
   "metadata": {},
   "source": [
    "Based on people who appear to be getting paid for a full time position and who are also working more than 40 hours a week, officer has the highest count."
   ]
  },
  {
   "cell_type": "code",
   "execution_count": 13,
   "metadata": {},
   "outputs": [
    {
     "data": {
      "text/plain": [
       "EXECUTIVE DIRECTOR    1546\n",
       "PRESIDENT             1098\n",
       "CEO                    916\n",
       "CFO                    647\n",
       "President              496\n",
       "Name: title, dtype: int64"
      ]
     },
     "execution_count": 13,
     "metadata": {},
     "output_type": "execute_result"
    }
   ],
   "source": [
    "df.loc[df.officer == True, 'title'].value_counts().head()"
   ]
  },
  {
   "cell_type": "code",
   "execution_count": 14,
   "metadata": {},
   "outputs": [
    {
     "data": {
      "text/plain": [
       "PRESIDENT             521\n",
       "EXECUTIVE DIRECTOR    332\n",
       "DIRECTOR              271\n",
       "President             268\n",
       "Director              206\n",
       "Name: title, dtype: int64"
      ]
     },
     "execution_count": 14,
     "metadata": {},
     "output_type": "execute_result"
    }
   ],
   "source": [
    "df.loc[df.trustee_or_director == True, 'title'].value_counts().head()"
   ]
  },
  {
   "cell_type": "code",
   "execution_count": 15,
   "metadata": {},
   "outputs": [
    {
     "data": {
      "text/plain": [
       "Executive Director    154\n",
       "EXECUTIVE DIRECTOR    147\n",
       "CEO                    75\n",
       "GENERAL MANAGER        73\n",
       "PRESIDENT              61\n",
       "Name: title, dtype: int64"
      ]
     },
     "execution_count": 15,
     "metadata": {},
     "output_type": "execute_result"
    }
   ],
   "source": [
    "df.loc[df.key_employee == True, 'title'].value_counts().head()"
   ]
  },
  {
   "cell_type": "code",
   "execution_count": 16,
   "metadata": {},
   "outputs": [
    {
     "data": {
      "text/plain": [
       "PHYSICIAN             1095\n",
       "Physician              363\n",
       "EXECUTIVE DIRECTOR     137\n",
       "Executive Director     119\n",
       "CONTROLLER             108\n",
       "Name: title, dtype: int64"
      ]
     },
     "execution_count": 16,
     "metadata": {},
     "output_type": "execute_result"
    }
   ],
   "source": [
    "df.loc[df.highest_compensated == True, 'title'].value_counts().head()"
   ]
  },
  {
   "cell_type": "markdown",
   "metadata": {},
   "source": [
    "By examination of the titles of \"Highest Compensated\" employees, most of these are highly skilled trades, versus executive leadership.  As a result I will exclude people who fall into this category."
   ]
  },
  {
   "cell_type": "code",
   "execution_count": 88,
   "metadata": {},
   "outputs": [],
   "source": [
    "# drop highest compensated employees\n",
    "df.drop(df.loc[df.highest_compensated == True].index, inplace=True)"
   ]
  },
  {
   "cell_type": "code",
   "execution_count": 90,
   "metadata": {},
   "outputs": [
    {
     "data": {
      "text/plain": [
       "ein                          0\n",
       "period                       0\n",
       "title                      866\n",
       "hours                        0\n",
       "trustee_or_director      21714\n",
       "institutional_trustee    28271\n",
       "officer                   8160\n",
       "key_employee             22929\n",
       "highest_compensated      28286\n",
       "reportable_comp              0\n",
       "health_and_benefits      28178\n",
       "other_comp               28199\n",
       "sum_comp                  9281\n",
       "org_name                     0\n",
       "subsection                   0\n",
       "ntee_code                   85\n",
       "ntee_description            85\n",
       "state                        0\n",
       "formation_yr              1282\n",
       "assets                       0\n",
       "liabilities                 36\n",
       "expenses                     0\n",
       "revenue                      0\n",
       "state_median_income          0\n",
       "dtype: int64"
      ]
     },
     "execution_count": 90,
     "metadata": {},
     "output_type": "execute_result"
    }
   ],
   "source": [
    "# examine for nan values\n",
    "df.isna().sum()"
   ]
  },
  {
   "cell_type": "code",
   "execution_count": 91,
   "metadata": {},
   "outputs": [],
   "source": [
    "# drop rows with missing values in these columns\n",
    "df.dropna(subset=['ntee_code'], inplace=True)"
   ]
  },
  {
   "cell_type": "code",
   "execution_count": 94,
   "metadata": {},
   "outputs": [],
   "source": [
    "# fillna for formation_year\n",
    "# I may want to do this with random forest instead\n",
    "df.formation_yr.fillna(df.formation_yr.median(), inplace=True)\n",
    "df.formation_yr = df.formation_yr.astype(int)"
   ]
  },
  {
   "cell_type": "code",
   "execution_count": 95,
   "metadata": {},
   "outputs": [],
   "source": [
    "# fillna for orgs with missing liabilities\n",
    "df.liabilities.fillna(df.liabilities.median(), inplace=True)"
   ]
  },
  {
   "cell_type": "code",
   "execution_count": 97,
   "metadata": {},
   "outputs": [
    {
     "data": {
      "text/plain": [
       "ein                      0.000000\n",
       "period                   0.000000\n",
       "title                    0.030708\n",
       "hours                    0.000000\n",
       "trustee_or_director      0.768873\n",
       "institutional_trustee    0.999468\n",
       "officer                  0.287401\n",
       "key_employee             0.810716\n",
       "highest_compensated      1.000000\n",
       "reportable_comp          0.000000\n",
       "health_and_benefits      0.996206\n",
       "other_comp               0.996950\n",
       "sum_comp                 0.328676\n",
       "org_name                 0.000000\n",
       "subsection               0.000000\n",
       "ntee_code                0.000000\n",
       "ntee_description         0.000000\n",
       "state                    0.000000\n",
       "formation_yr             0.000000\n",
       "assets                   0.000000\n",
       "liabilities              0.000000\n",
       "expenses                 0.000000\n",
       "revenue                  0.000000\n",
       "state_median_income      0.000000\n",
       "dtype: float64"
      ]
     },
     "execution_count": 97,
     "metadata": {},
     "output_type": "execute_result"
    }
   ],
   "source": [
    "# examine columns with missing values\n",
    "# the small percentage of missing values \n",
    "# in these columns is acceptable to me\n",
    "df.isna().mean()"
   ]
  },
  {
   "cell_type": "markdown",
   "metadata": {},
   "source": [
    "## PRELIMINARY EDA"
   ]
  },
  {
   "cell_type": "code",
   "execution_count": 25,
   "metadata": {},
   "outputs": [
    {
     "data": {
      "image/png": "[encoded data removed]",
      "text/plain": [
       "<Figure size 432x288 with 1 Axes>"
      ]
     },
     "metadata": {
      "needs_background": "light"
     },
     "output_type": "display_data"
    }
   ],
   "source": [
    "# clipping at the 95% percentile, what is the distribution?\n",
    "plt.hist(df.reportable_comp.clip(upper=df.reportable_comp.quantile(.95)), bins=100);"
   ]
  },
  {
   "cell_type": "markdown",
   "metadata": {},
   "source": [
    "The reason for the spike at 100K is because that is the threshold above which not-for-profit organizations are required to disclose salaries.  Clearly a large number of organizations are disclosing, even when not required."
   ]
  },
  {
   "cell_type": "markdown",
   "metadata": {},
   "source": [
    "## FEATURE ENGINEERING"
   ]
  },
  {
   "cell_type": "markdown",
   "metadata": {},
   "source": [
    "#### Remove noise from NTEE codes"
   ]
  },
  {
   "cell_type": "code",
   "execution_count": 98,
   "metadata": {},
   "outputs": [],
   "source": [
    "# to more broadly categorize not-for-profits\n",
    "# strip off the letter from the ntee code\n",
    "df['ntee_letter'] = df.ntee_code.apply(lambda x: x[0:1])"
   ]
  },
  {
   "cell_type": "markdown",
   "metadata": {},
   "source": [
    "#### Find percentage of total executive compensation for each org for each executive paid\n"
   ]
  },
  {
   "cell_type": "code",
   "execution_count": 99,
   "metadata": {},
   "outputs": [
    {
     "data": {
      "text/plain": [
       "ein\n",
       "10056837      200807\n",
       "10095740      410827\n",
       "10124810       76339\n",
       "10130427      237594\n",
       "10165110      115778\n",
       "              ...   \n",
       "990342356     989962\n",
       "990346113    1299181\n",
       "990347826     410040\n",
       "996008848     129494\n",
       "996009889     172346\n",
       "Name: total_ex_comp_per_company, Length: 12688, dtype: int32"
      ]
     },
     "execution_count": 99,
     "metadata": {},
     "output_type": "execute_result"
    }
   ],
   "source": [
    "# find total reportable comp for each ein\n",
    "df.groupby('ein')['reportable_comp'].sum().astype(int).rename('total_ex_comp_per_company')"
   ]
  },
  {
   "cell_type": "code",
   "execution_count": 100,
   "metadata": {},
   "outputs": [],
   "source": [
    "# join this amount based on ein\n",
    "# to each person who was paid\n",
    "df = df.merge(df.groupby('ein')['reportable_comp']\n",
    "              .sum()\n",
    "              .astype(int)\n",
    "              .rename('total_ex_comp_per_company'),\n",
    "        left_on='ein',\n",
    "        right_on='ein')"
   ]
  },
  {
   "cell_type": "code",
   "execution_count": 101,
   "metadata": {},
   "outputs": [
    {
     "data": {
      "text/html": [
       "<div>\n",
       "<style scoped>\n",
       "    .dataframe tbody tr th:only-of-type {\n",
       "        vertical-align: middle;\n",
       "    }\n",
       "\n",
       "    .dataframe tbody tr th {\n",
       "        vertical-align: top;\n",
       "    }\n",
       "\n",
       "    .dataframe thead th {\n",
       "        text-align: right;\n",
       "    }\n",
       "</style>\n",
       "<table border=\"1\" class=\"dataframe\">\n",
       "  <thead>\n",
       "    <tr style=\"text-align: right;\">\n",
       "      <th></th>\n",
       "      <th>ein</th>\n",
       "      <th>period</th>\n",
       "      <th>title</th>\n",
       "      <th>hours</th>\n",
       "      <th>trustee_or_director</th>\n",
       "      <th>institutional_trustee</th>\n",
       "      <th>officer</th>\n",
       "      <th>key_employee</th>\n",
       "      <th>highest_compensated</th>\n",
       "      <th>reportable_comp</th>\n",
       "      <th>health_and_benefits</th>\n",
       "      <th>other_comp</th>\n",
       "      <th>sum_comp</th>\n",
       "      <th>org_name</th>\n",
       "      <th>subsection</th>\n",
       "      <th>ntee_code</th>\n",
       "      <th>ntee_description</th>\n",
       "      <th>state</th>\n",
       "      <th>formation_yr</th>\n",
       "      <th>assets</th>\n",
       "      <th>liabilities</th>\n",
       "      <th>expenses</th>\n",
       "      <th>revenue</th>\n",
       "      <th>state_median_income</th>\n",
       "      <th>ntee_letter</th>\n",
       "      <th>total_ex_comp_per_company</th>\n",
       "    </tr>\n",
       "  </thead>\n",
       "  <tbody>\n",
       "    <tr>\n",
       "      <td>0</td>\n",
       "      <td>10877614</td>\n",
       "      <td>201712</td>\n",
       "      <td>BOARD MEMBER/MANAGING D</td>\n",
       "      <td>65.0</td>\n",
       "      <td>True</td>\n",
       "      <td>NaN</td>\n",
       "      <td>NaN</td>\n",
       "      <td>NaN</td>\n",
       "      <td>NaN</td>\n",
       "      <td>55385.0</td>\n",
       "      <td>NaN</td>\n",
       "      <td>NaN</td>\n",
       "      <td>NaN</td>\n",
       "      <td>HEART CHANGE MINISTRIES INC</td>\n",
       "      <td>501(c)(3)</td>\n",
       "      <td>G43</td>\n",
       "      <td>Heart and Circulatory System Diseases, Disorders</td>\n",
       "      <td>IN</td>\n",
       "      <td>2006</td>\n",
       "      <td>2112293</td>\n",
       "      <td>92283.0</td>\n",
       "      <td>500749.0</td>\n",
       "      <td>1792933.0</td>\n",
       "      <td>54181</td>\n",
       "      <td>G</td>\n",
       "      <td>55385</td>\n",
       "    </tr>\n",
       "    <tr>\n",
       "      <td>1</td>\n",
       "      <td>200160286</td>\n",
       "      <td>201812</td>\n",
       "      <td>EXECUTIVE DI</td>\n",
       "      <td>50.0</td>\n",
       "      <td>NaN</td>\n",
       "      <td>NaN</td>\n",
       "      <td>True</td>\n",
       "      <td>NaN</td>\n",
       "      <td>NaN</td>\n",
       "      <td>86057.0</td>\n",
       "      <td>NaN</td>\n",
       "      <td>NaN</td>\n",
       "      <td>NaN</td>\n",
       "      <td>THE TONY STEWART FOUNDATION INC</td>\n",
       "      <td>501(c)(3)</td>\n",
       "      <td>P20</td>\n",
       "      <td>Human Service Organizations - Multipurpose</td>\n",
       "      <td>IN</td>\n",
       "      <td>2003</td>\n",
       "      <td>2509180</td>\n",
       "      <td>47699.0</td>\n",
       "      <td>628058.0</td>\n",
       "      <td>648782.0</td>\n",
       "      <td>54181</td>\n",
       "      <td>P</td>\n",
       "      <td>86057</td>\n",
       "    </tr>\n",
       "    <tr>\n",
       "      <td>2</td>\n",
       "      <td>202804389</td>\n",
       "      <td>201806</td>\n",
       "      <td>EXECUTIVE DIRECTOR</td>\n",
       "      <td>60.0</td>\n",
       "      <td>True</td>\n",
       "      <td>NaN</td>\n",
       "      <td>NaN</td>\n",
       "      <td>NaN</td>\n",
       "      <td>NaN</td>\n",
       "      <td>110000.0</td>\n",
       "      <td>NaN</td>\n",
       "      <td>NaN</td>\n",
       "      <td>NaN</td>\n",
       "      <td>HILLEL FOUNDATION AT INDIANA UNIVERSITY INC</td>\n",
       "      <td>501(c)(3)</td>\n",
       "      <td>B11</td>\n",
       "      <td>Monetary support - Education</td>\n",
       "      <td>IN</td>\n",
       "      <td>1950</td>\n",
       "      <td>2513661</td>\n",
       "      <td>108461.0</td>\n",
       "      <td>707744.0</td>\n",
       "      <td>688050.0</td>\n",
       "      <td>54181</td>\n",
       "      <td>B</td>\n",
       "      <td>110000</td>\n",
       "    </tr>\n",
       "    <tr>\n",
       "      <td>3</td>\n",
       "      <td>203222424</td>\n",
       "      <td>201812</td>\n",
       "      <td>EXECUTIVE DIRECTOR</td>\n",
       "      <td>50.0</td>\n",
       "      <td>NaN</td>\n",
       "      <td>NaN</td>\n",
       "      <td>True</td>\n",
       "      <td>NaN</td>\n",
       "      <td>NaN</td>\n",
       "      <td>80195.0</td>\n",
       "      <td>NaN</td>\n",
       "      <td>NaN</td>\n",
       "      <td>NaN</td>\n",
       "      <td>THE IMMIGRANT WELCOME CENTER INC</td>\n",
       "      <td>501(c)(3)</td>\n",
       "      <td>P84</td>\n",
       "      <td>Ethnic, Immigrant Centers, Services</td>\n",
       "      <td>IN</td>\n",
       "      <td>2006</td>\n",
       "      <td>1338409</td>\n",
       "      <td>27275.0</td>\n",
       "      <td>328093.0</td>\n",
       "      <td>421622.0</td>\n",
       "      <td>54181</td>\n",
       "      <td>P</td>\n",
       "      <td>80195</td>\n",
       "    </tr>\n",
       "    <tr>\n",
       "      <td>4</td>\n",
       "      <td>203901164</td>\n",
       "      <td>201806</td>\n",
       "      <td>VP OF FINANCE</td>\n",
       "      <td>56.0</td>\n",
       "      <td>NaN</td>\n",
       "      <td>NaN</td>\n",
       "      <td>True</td>\n",
       "      <td>NaN</td>\n",
       "      <td>NaN</td>\n",
       "      <td>127402.0</td>\n",
       "      <td>NaN</td>\n",
       "      <td>NaN</td>\n",
       "      <td>148799.0</td>\n",
       "      <td>THE CENTER FOR THE PERFORMING ARTS INC</td>\n",
       "      <td>501(c)(3)</td>\n",
       "      <td>A12</td>\n",
       "      <td>Monetary support - Arts &amp;amp; culture</td>\n",
       "      <td>IN</td>\n",
       "      <td>2006</td>\n",
       "      <td>6954431</td>\n",
       "      <td>1276801.0</td>\n",
       "      <td>7967667.0</td>\n",
       "      <td>8641179.0</td>\n",
       "      <td>54181</td>\n",
       "      <td>A</td>\n",
       "      <td>127402</td>\n",
       "    </tr>\n",
       "  </tbody>\n",
       "</table>\n",
       "</div>"
      ],
      "text/plain": [
       "         ein  period                    title  hours trustee_or_director  \\\n",
       "0   10877614  201712  BOARD MEMBER/MANAGING D   65.0                True   \n",
       "1  200160286  201812             EXECUTIVE DI   50.0                 NaN   \n",
       "2  202804389  201806       EXECUTIVE DIRECTOR   60.0                True   \n",
       "3  203222424  201812       EXECUTIVE DIRECTOR   50.0                 NaN   \n",
       "4  203901164  201806            VP OF FINANCE   56.0                 NaN   \n",
       "\n",
       "  institutional_trustee officer key_employee highest_compensated  \\\n",
       "0                   NaN     NaN          NaN                 NaN   \n",
       "1                   NaN    True          NaN                 NaN   \n",
       "2                   NaN     NaN          NaN                 NaN   \n",
       "3                   NaN    True          NaN                 NaN   \n",
       "4                   NaN    True          NaN                 NaN   \n",
       "\n",
       "   reportable_comp  health_and_benefits  other_comp  sum_comp  \\\n",
       "0          55385.0                  NaN         NaN       NaN   \n",
       "1          86057.0                  NaN         NaN       NaN   \n",
       "2         110000.0                  NaN         NaN       NaN   \n",
       "3          80195.0                  NaN         NaN       NaN   \n",
       "4         127402.0                  NaN         NaN  148799.0   \n",
       "\n",
       "                                      org_name subsection ntee_code  \\\n",
       "0                  HEART CHANGE MINISTRIES INC  501(c)(3)       G43   \n",
       "1              THE TONY STEWART FOUNDATION INC  501(c)(3)       P20   \n",
       "2  HILLEL FOUNDATION AT INDIANA UNIVERSITY INC  501(c)(3)       B11   \n",
       "3             THE IMMIGRANT WELCOME CENTER INC  501(c)(3)       P84   \n",
       "4       THE CENTER FOR THE PERFORMING ARTS INC  501(c)(3)       A12   \n",
       "\n",
       "                                   ntee_description state  formation_yr  \\\n",
       "0  Heart and Circulatory System Diseases, Disorders    IN          2006   \n",
       "1        Human Service Organizations - Multipurpose    IN          2003   \n",
       "2                      Monetary support - Education    IN          1950   \n",
       "3               Ethnic, Immigrant Centers, Services    IN          2006   \n",
       "4             Monetary support - Arts &amp; culture    IN          2006   \n",
       "\n",
       "    assets  liabilities   expenses    revenue  state_median_income  \\\n",
       "0  2112293      92283.0   500749.0  1792933.0                54181   \n",
       "1  2509180      47699.0   628058.0   648782.0                54181   \n",
       "2  2513661     108461.0   707744.0   688050.0                54181   \n",
       "3  1338409      27275.0   328093.0   421622.0                54181   \n",
       "4  6954431    1276801.0  7967667.0  8641179.0                54181   \n",
       "\n",
       "  ntee_letter  total_ex_comp_per_company  \n",
       "0           G                      55385  \n",
       "1           P                      86057  \n",
       "2           B                     110000  \n",
       "3           P                      80195  \n",
       "4           A                     127402  "
      ]
     },
     "execution_count": 101,
     "metadata": {},
     "output_type": "execute_result"
    }
   ],
   "source": [
    "df.head()"
   ]
  },
  {
   "cell_type": "code",
   "execution_count": 102,
   "metadata": {},
   "outputs": [],
   "source": [
    "df['percent_of_total_ex_comp'] = df.reportable_comp/df.total_ex_comp_per_company"
   ]
  },
  {
   "cell_type": "code",
   "execution_count": 103,
   "metadata": {},
   "outputs": [
    {
     "data": {
      "image/png": "[encoded data removed]",
      "text/plain": [
       "<Figure size 432x288 with 1 Axes>"
      ]
     },
     "metadata": {
      "needs_background": "light"
     },
     "output_type": "display_data"
    }
   ],
   "source": [
    "plt.hist(df.percent_of_total_ex_comp);"
   ]
  },
  {
   "cell_type": "markdown",
   "metadata": {},
   "source": [
    "Executives are clearly bifurcated between those who are the only executive with that organization and those who are part of a larger organization with lots of executives."
   ]
  },
  {
   "cell_type": "code",
   "execution_count": 51,
   "metadata": {},
   "outputs": [
    {
     "data": {
      "text/html": [
       "<div>\n",
       "<style scoped>\n",
       "    .dataframe tbody tr th:only-of-type {\n",
       "        vertical-align: middle;\n",
       "    }\n",
       "\n",
       "    .dataframe tbody tr th {\n",
       "        vertical-align: top;\n",
       "    }\n",
       "\n",
       "    .dataframe thead th {\n",
       "        text-align: right;\n",
       "    }\n",
       "</style>\n",
       "<table border=\"1\" class=\"dataframe\">\n",
       "  <thead>\n",
       "    <tr style=\"text-align: right;\">\n",
       "      <th></th>\n",
       "      <th>ein</th>\n",
       "      <th>period</th>\n",
       "      <th>title</th>\n",
       "      <th>hours</th>\n",
       "      <th>trustee_or_director</th>\n",
       "      <th>institutional_trustee</th>\n",
       "      <th>officer</th>\n",
       "      <th>key_employee</th>\n",
       "      <th>highest_compensated</th>\n",
       "      <th>reportable_comp</th>\n",
       "      <th>health_and_benefits</th>\n",
       "      <th>other_comp</th>\n",
       "      <th>org_name</th>\n",
       "      <th>subsection</th>\n",
       "      <th>ntee_code</th>\n",
       "      <th>ntee_description</th>\n",
       "      <th>state</th>\n",
       "      <th>formation_yr</th>\n",
       "      <th>assets</th>\n",
       "      <th>liabilities</th>\n",
       "      <th>expenses</th>\n",
       "      <th>revenue</th>\n",
       "      <th>state_median_income</th>\n",
       "      <th>ntee_letter</th>\n",
       "      <th>total_ex_comp_per_company</th>\n",
       "      <th>percent_of_total_ex_comp</th>\n",
       "    </tr>\n",
       "  </thead>\n",
       "  <tbody>\n",
       "    <tr>\n",
       "      <td>0</td>\n",
       "      <td>10877614</td>\n",
       "      <td>201712</td>\n",
       "      <td>BOARD MEMBER/MANAGING D</td>\n",
       "      <td>65.0</td>\n",
       "      <td>True</td>\n",
       "      <td>NaN</td>\n",
       "      <td>NaN</td>\n",
       "      <td>NaN</td>\n",
       "      <td>NaN</td>\n",
       "      <td>55385.0</td>\n",
       "      <td>NaN</td>\n",
       "      <td>NaN</td>\n",
       "      <td>HEART CHANGE MINISTRIES INC</td>\n",
       "      <td>501(c)(3)</td>\n",
       "      <td>G43</td>\n",
       "      <td>Heart and Circulatory System Diseases, Disorders</td>\n",
       "      <td>IN</td>\n",
       "      <td>2006.0</td>\n",
       "      <td>2112293</td>\n",
       "      <td>92283.0</td>\n",
       "      <td>500749.0</td>\n",
       "      <td>1792933.0</td>\n",
       "      <td>54181</td>\n",
       "      <td>G</td>\n",
       "      <td>55385.0</td>\n",
       "      <td>1.0</td>\n",
       "    </tr>\n",
       "    <tr>\n",
       "      <td>1</td>\n",
       "      <td>200160286</td>\n",
       "      <td>201812</td>\n",
       "      <td>EXECUTIVE DI</td>\n",
       "      <td>50.0</td>\n",
       "      <td>NaN</td>\n",
       "      <td>NaN</td>\n",
       "      <td>True</td>\n",
       "      <td>NaN</td>\n",
       "      <td>NaN</td>\n",
       "      <td>86057.0</td>\n",
       "      <td>NaN</td>\n",
       "      <td>NaN</td>\n",
       "      <td>THE TONY STEWART FOUNDATION INC</td>\n",
       "      <td>501(c)(3)</td>\n",
       "      <td>P20</td>\n",
       "      <td>Human Service Organizations - Multipurpose</td>\n",
       "      <td>IN</td>\n",
       "      <td>2003.0</td>\n",
       "      <td>2509180</td>\n",
       "      <td>47699.0</td>\n",
       "      <td>628058.0</td>\n",
       "      <td>648782.0</td>\n",
       "      <td>54181</td>\n",
       "      <td>P</td>\n",
       "      <td>86057.0</td>\n",
       "      <td>1.0</td>\n",
       "    </tr>\n",
       "    <tr>\n",
       "      <td>2</td>\n",
       "      <td>202804389</td>\n",
       "      <td>201806</td>\n",
       "      <td>EXECUTIVE DIRECTOR</td>\n",
       "      <td>60.0</td>\n",
       "      <td>True</td>\n",
       "      <td>NaN</td>\n",
       "      <td>NaN</td>\n",
       "      <td>NaN</td>\n",
       "      <td>NaN</td>\n",
       "      <td>110000.0</td>\n",
       "      <td>NaN</td>\n",
       "      <td>NaN</td>\n",
       "      <td>HILLEL FOUNDATION AT INDIANA UNIVERSITY INC</td>\n",
       "      <td>501(c)(3)</td>\n",
       "      <td>B11</td>\n",
       "      <td>Monetary support - Education</td>\n",
       "      <td>IN</td>\n",
       "      <td>1950.0</td>\n",
       "      <td>2513661</td>\n",
       "      <td>108461.0</td>\n",
       "      <td>707744.0</td>\n",
       "      <td>688050.0</td>\n",
       "      <td>54181</td>\n",
       "      <td>B</td>\n",
       "      <td>110000.0</td>\n",
       "      <td>1.0</td>\n",
       "    </tr>\n",
       "    <tr>\n",
       "      <td>3</td>\n",
       "      <td>203222424</td>\n",
       "      <td>201812</td>\n",
       "      <td>EXECUTIVE DIRECTOR</td>\n",
       "      <td>50.0</td>\n",
       "      <td>NaN</td>\n",
       "      <td>NaN</td>\n",
       "      <td>True</td>\n",
       "      <td>NaN</td>\n",
       "      <td>NaN</td>\n",
       "      <td>80195.0</td>\n",
       "      <td>NaN</td>\n",
       "      <td>NaN</td>\n",
       "      <td>THE IMMIGRANT WELCOME CENTER INC</td>\n",
       "      <td>501(c)(3)</td>\n",
       "      <td>P84</td>\n",
       "      <td>Ethnic, Immigrant Centers, Services</td>\n",
       "      <td>IN</td>\n",
       "      <td>2006.0</td>\n",
       "      <td>1338409</td>\n",
       "      <td>27275.0</td>\n",
       "      <td>328093.0</td>\n",
       "      <td>421622.0</td>\n",
       "      <td>54181</td>\n",
       "      <td>P</td>\n",
       "      <td>80195.0</td>\n",
       "      <td>1.0</td>\n",
       "    </tr>\n",
       "    <tr>\n",
       "      <td>4</td>\n",
       "      <td>203901164</td>\n",
       "      <td>201806</td>\n",
       "      <td>VP OF FINANCE</td>\n",
       "      <td>56.0</td>\n",
       "      <td>NaN</td>\n",
       "      <td>NaN</td>\n",
       "      <td>True</td>\n",
       "      <td>NaN</td>\n",
       "      <td>NaN</td>\n",
       "      <td>127402.0</td>\n",
       "      <td>NaN</td>\n",
       "      <td>NaN</td>\n",
       "      <td>THE CENTER FOR THE PERFORMING ARTS INC</td>\n",
       "      <td>501(c)(3)</td>\n",
       "      <td>A12</td>\n",
       "      <td>Monetary support - Arts &amp;amp; culture</td>\n",
       "      <td>IN</td>\n",
       "      <td>2006.0</td>\n",
       "      <td>6954431</td>\n",
       "      <td>1276801.0</td>\n",
       "      <td>7967667.0</td>\n",
       "      <td>8641179.0</td>\n",
       "      <td>54181</td>\n",
       "      <td>A</td>\n",
       "      <td>127402.0</td>\n",
       "      <td>1.0</td>\n",
       "    </tr>\n",
       "  </tbody>\n",
       "</table>\n",
       "</div>"
      ],
      "text/plain": [
       "         ein  period                    title  hours trustee_or_director  \\\n",
       "0   10877614  201712  BOARD MEMBER/MANAGING D   65.0                True   \n",
       "1  200160286  201812             EXECUTIVE DI   50.0                 NaN   \n",
       "2  202804389  201806       EXECUTIVE DIRECTOR   60.0                True   \n",
       "3  203222424  201812       EXECUTIVE DIRECTOR   50.0                 NaN   \n",
       "4  203901164  201806            VP OF FINANCE   56.0                 NaN   \n",
       "\n",
       "  institutional_trustee officer key_employee highest_compensated  \\\n",
       "0                   NaN     NaN          NaN                 NaN   \n",
       "1                   NaN    True          NaN                 NaN   \n",
       "2                   NaN     NaN          NaN                 NaN   \n",
       "3                   NaN    True          NaN                 NaN   \n",
       "4                   NaN    True          NaN                 NaN   \n",
       "\n",
       "   reportable_comp  health_and_benefits  other_comp  \\\n",
       "0          55385.0                  NaN         NaN   \n",
       "1          86057.0                  NaN         NaN   \n",
       "2         110000.0                  NaN         NaN   \n",
       "3          80195.0                  NaN         NaN   \n",
       "4         127402.0                  NaN         NaN   \n",
       "\n",
       "                                      org_name subsection ntee_code  \\\n",
       "0                  HEART CHANGE MINISTRIES INC  501(c)(3)       G43   \n",
       "1              THE TONY STEWART FOUNDATION INC  501(c)(3)       P20   \n",
       "2  HILLEL FOUNDATION AT INDIANA UNIVERSITY INC  501(c)(3)       B11   \n",
       "3             THE IMMIGRANT WELCOME CENTER INC  501(c)(3)       P84   \n",
       "4       THE CENTER FOR THE PERFORMING ARTS INC  501(c)(3)       A12   \n",
       "\n",
       "                                   ntee_description state  formation_yr  \\\n",
       "0  Heart and Circulatory System Diseases, Disorders    IN        2006.0   \n",
       "1        Human Service Organizations - Multipurpose    IN        2003.0   \n",
       "2                      Monetary support - Education    IN        1950.0   \n",
       "3               Ethnic, Immigrant Centers, Services    IN        2006.0   \n",
       "4             Monetary support - Arts &amp; culture    IN        2006.0   \n",
       "\n",
       "    assets  liabilities   expenses    revenue  state_median_income  \\\n",
       "0  2112293      92283.0   500749.0  1792933.0                54181   \n",
       "1  2509180      47699.0   628058.0   648782.0                54181   \n",
       "2  2513661     108461.0   707744.0   688050.0                54181   \n",
       "3  1338409      27275.0   328093.0   421622.0                54181   \n",
       "4  6954431    1276801.0  7967667.0  8641179.0                54181   \n",
       "\n",
       "  ntee_letter  total_ex_comp_per_company  percent_of_total_ex_comp  \n",
       "0           G                    55385.0                       1.0  \n",
       "1           P                    86057.0                       1.0  \n",
       "2           B                   110000.0                       1.0  \n",
       "3           P                    80195.0                       1.0  \n",
       "4           A                   127402.0                       1.0  "
      ]
     },
     "execution_count": 51,
     "metadata": {},
     "output_type": "execute_result"
    }
   ],
   "source": [
    "df.head()"
   ]
  },
  {
   "cell_type": "code",
   "execution_count": null,
   "metadata": {},
   "outputs": [],
   "source": []
  },
  {
   "cell_type": "code",
   "execution_count": null,
   "metadata": {},
   "outputs": [],
   "source": []
  },
  {
   "cell_type": "markdown",
   "metadata": {},
   "source": [
    "### EXPORT DATASET FOR MODELING"
   ]
  },
  {
   "cell_type": "markdown",
   "metadata": {},
   "source": [
    "cleaned/organized dataset with added features - export for modeling"
   ]
  },
  {
   "cell_type": "code",
   "execution_count": 106,
   "metadata": {},
   "outputs": [
    {
     "data": {
      "text/plain": [
       "[(0, 'ein'),\n",
       " (1, 'period'),\n",
       " (2, 'title'),\n",
       " (3, 'hours'),\n",
       " (4, 'trustee_or_director'),\n",
       " (5, 'institutional_trustee'),\n",
       " (6, 'officer'),\n",
       " (7, 'key_employee'),\n",
       " (8, 'highest_compensated'),\n",
       " (9, 'reportable_comp'),\n",
       " (10, 'health_and_benefits'),\n",
       " (11, 'other_comp'),\n",
       " (12, 'sum_comp'),\n",
       " (13, 'org_name'),\n",
       " (14, 'subsection'),\n",
       " (15, 'ntee_code'),\n",
       " (16, 'ntee_description'),\n",
       " (17, 'state'),\n",
       " (18, 'formation_yr'),\n",
       " (19, 'assets'),\n",
       " (20, 'liabilities'),\n",
       " (21, 'expenses'),\n",
       " (22, 'revenue'),\n",
       " (23, 'state_median_income'),\n",
       " (24, 'ntee_letter'),\n",
       " (25, 'total_ex_comp_per_company'),\n",
       " (26, 'percent_of_total_ex_comp')]"
      ]
     },
     "execution_count": 106,
     "metadata": {},
     "output_type": "execute_result"
    }
   ],
   "source": [
    "# select columns to use for modeling\n",
    "list(enumerate(df.columns))"
   ]
  },
  {
   "cell_type": "code",
   "execution_count": 107,
   "metadata": {},
   "outputs": [
    {
     "data": {
      "text/html": [
       "<div>\n",
       "<style scoped>\n",
       "    .dataframe tbody tr th:only-of-type {\n",
       "        vertical-align: middle;\n",
       "    }\n",
       "\n",
       "    .dataframe tbody tr th {\n",
       "        vertical-align: top;\n",
       "    }\n",
       "\n",
       "    .dataframe thead th {\n",
       "        text-align: right;\n",
       "    }\n",
       "</style>\n",
       "<table border=\"1\" class=\"dataframe\">\n",
       "  <thead>\n",
       "    <tr style=\"text-align: right;\">\n",
       "      <th></th>\n",
       "      <th>ein</th>\n",
       "      <th>reportable_comp</th>\n",
       "      <th>subsection</th>\n",
       "      <th>state</th>\n",
       "      <th>formation_yr</th>\n",
       "      <th>assets</th>\n",
       "      <th>liabilities</th>\n",
       "      <th>expenses</th>\n",
       "      <th>revenue</th>\n",
       "      <th>state_median_income</th>\n",
       "      <th>ntee_letter</th>\n",
       "      <th>total_ex_comp_per_company</th>\n",
       "      <th>percent_of_total_ex_comp</th>\n",
       "    </tr>\n",
       "  </thead>\n",
       "  <tbody>\n",
       "    <tr>\n",
       "      <td>0</td>\n",
       "      <td>10877614</td>\n",
       "      <td>55385.0</td>\n",
       "      <td>501(c)(3)</td>\n",
       "      <td>IN</td>\n",
       "      <td>2006</td>\n",
       "      <td>2112293</td>\n",
       "      <td>92283.0</td>\n",
       "      <td>500749.0</td>\n",
       "      <td>1792933.0</td>\n",
       "      <td>54181</td>\n",
       "      <td>G</td>\n",
       "      <td>55385</td>\n",
       "      <td>1.0</td>\n",
       "    </tr>\n",
       "    <tr>\n",
       "      <td>1</td>\n",
       "      <td>200160286</td>\n",
       "      <td>86057.0</td>\n",
       "      <td>501(c)(3)</td>\n",
       "      <td>IN</td>\n",
       "      <td>2003</td>\n",
       "      <td>2509180</td>\n",
       "      <td>47699.0</td>\n",
       "      <td>628058.0</td>\n",
       "      <td>648782.0</td>\n",
       "      <td>54181</td>\n",
       "      <td>P</td>\n",
       "      <td>86057</td>\n",
       "      <td>1.0</td>\n",
       "    </tr>\n",
       "    <tr>\n",
       "      <td>2</td>\n",
       "      <td>202804389</td>\n",
       "      <td>110000.0</td>\n",
       "      <td>501(c)(3)</td>\n",
       "      <td>IN</td>\n",
       "      <td>1950</td>\n",
       "      <td>2513661</td>\n",
       "      <td>108461.0</td>\n",
       "      <td>707744.0</td>\n",
       "      <td>688050.0</td>\n",
       "      <td>54181</td>\n",
       "      <td>B</td>\n",
       "      <td>110000</td>\n",
       "      <td>1.0</td>\n",
       "    </tr>\n",
       "    <tr>\n",
       "      <td>3</td>\n",
       "      <td>203222424</td>\n",
       "      <td>80195.0</td>\n",
       "      <td>501(c)(3)</td>\n",
       "      <td>IN</td>\n",
       "      <td>2006</td>\n",
       "      <td>1338409</td>\n",
       "      <td>27275.0</td>\n",
       "      <td>328093.0</td>\n",
       "      <td>421622.0</td>\n",
       "      <td>54181</td>\n",
       "      <td>P</td>\n",
       "      <td>80195</td>\n",
       "      <td>1.0</td>\n",
       "    </tr>\n",
       "    <tr>\n",
       "      <td>4</td>\n",
       "      <td>203901164</td>\n",
       "      <td>127402.0</td>\n",
       "      <td>501(c)(3)</td>\n",
       "      <td>IN</td>\n",
       "      <td>2006</td>\n",
       "      <td>6954431</td>\n",
       "      <td>1276801.0</td>\n",
       "      <td>7967667.0</td>\n",
       "      <td>8641179.0</td>\n",
       "      <td>54181</td>\n",
       "      <td>A</td>\n",
       "      <td>127402</td>\n",
       "      <td>1.0</td>\n",
       "    </tr>\n",
       "    <tr>\n",
       "      <td>...</td>\n",
       "      <td>...</td>\n",
       "      <td>...</td>\n",
       "      <td>...</td>\n",
       "      <td>...</td>\n",
       "      <td>...</td>\n",
       "      <td>...</td>\n",
       "      <td>...</td>\n",
       "      <td>...</td>\n",
       "      <td>...</td>\n",
       "      <td>...</td>\n",
       "      <td>...</td>\n",
       "      <td>...</td>\n",
       "      <td>...</td>\n",
       "    </tr>\n",
       "    <tr>\n",
       "      <td>28196</td>\n",
       "      <td>830219163</td>\n",
       "      <td>180954.0</td>\n",
       "      <td>501(c)(3)</td>\n",
       "      <td>WY</td>\n",
       "      <td>1974</td>\n",
       "      <td>53499937</td>\n",
       "      <td>3661232.0</td>\n",
       "      <td>14767259.0</td>\n",
       "      <td>14292836.0</td>\n",
       "      <td>60434</td>\n",
       "      <td>A</td>\n",
       "      <td>180954</td>\n",
       "      <td>1.0</td>\n",
       "    </tr>\n",
       "    <tr>\n",
       "      <td>28197</td>\n",
       "      <td>830222330</td>\n",
       "      <td>78435.0</td>\n",
       "      <td>501(c)(3)</td>\n",
       "      <td>WY</td>\n",
       "      <td>1972</td>\n",
       "      <td>10188998</td>\n",
       "      <td>517387.0</td>\n",
       "      <td>4164759.0</td>\n",
       "      <td>3893887.0</td>\n",
       "      <td>60434</td>\n",
       "      <td>P</td>\n",
       "      <td>78435</td>\n",
       "      <td>1.0</td>\n",
       "    </tr>\n",
       "    <tr>\n",
       "      <td>28198</td>\n",
       "      <td>830235044</td>\n",
       "      <td>89790.0</td>\n",
       "      <td>501(c)(3)</td>\n",
       "      <td>WY</td>\n",
       "      <td>1977</td>\n",
       "      <td>2546933</td>\n",
       "      <td>358499.0</td>\n",
       "      <td>2867628.0</td>\n",
       "      <td>3274645.0</td>\n",
       "      <td>60434</td>\n",
       "      <td>F</td>\n",
       "      <td>89790</td>\n",
       "      <td>1.0</td>\n",
       "    </tr>\n",
       "    <tr>\n",
       "      <td>28199</td>\n",
       "      <td>830236714</td>\n",
       "      <td>112000.0</td>\n",
       "      <td>501(c)(6)</td>\n",
       "      <td>WY</td>\n",
       "      <td>1984</td>\n",
       "      <td>1251622</td>\n",
       "      <td>799646.0</td>\n",
       "      <td>629673.0</td>\n",
       "      <td>596243.0</td>\n",
       "      <td>60434</td>\n",
       "      <td>W</td>\n",
       "      <td>112000</td>\n",
       "      <td>1.0</td>\n",
       "    </tr>\n",
       "    <tr>\n",
       "      <td>28200</td>\n",
       "      <td>830249203</td>\n",
       "      <td>105559.0</td>\n",
       "      <td>501(c)(3)</td>\n",
       "      <td>WY</td>\n",
       "      <td>1981</td>\n",
       "      <td>946239</td>\n",
       "      <td>82496.0</td>\n",
       "      <td>4441226.0</td>\n",
       "      <td>4430348.0</td>\n",
       "      <td>60434</td>\n",
       "      <td>B</td>\n",
       "      <td>105559</td>\n",
       "      <td>1.0</td>\n",
       "    </tr>\n",
       "  </tbody>\n",
       "</table>\n",
       "<p>28201 rows × 13 columns</p>\n",
       "</div>"
      ],
      "text/plain": [
       "             ein  reportable_comp subsection state  formation_yr    assets  \\\n",
       "0       10877614          55385.0  501(c)(3)    IN          2006   2112293   \n",
       "1      200160286          86057.0  501(c)(3)    IN          2003   2509180   \n",
       "2      202804389         110000.0  501(c)(3)    IN          1950   2513661   \n",
       "3      203222424          80195.0  501(c)(3)    IN          2006   1338409   \n",
       "4      203901164         127402.0  501(c)(3)    IN          2006   6954431   \n",
       "...          ...              ...        ...   ...           ...       ...   \n",
       "28196  830219163         180954.0  501(c)(3)    WY          1974  53499937   \n",
       "28197  830222330          78435.0  501(c)(3)    WY          1972  10188998   \n",
       "28198  830235044          89790.0  501(c)(3)    WY          1977   2546933   \n",
       "28199  830236714         112000.0  501(c)(6)    WY          1984   1251622   \n",
       "28200  830249203         105559.0  501(c)(3)    WY          1981    946239   \n",
       "\n",
       "       liabilities    expenses     revenue  state_median_income ntee_letter  \\\n",
       "0          92283.0    500749.0   1792933.0                54181           G   \n",
       "1          47699.0    628058.0    648782.0                54181           P   \n",
       "2         108461.0    707744.0    688050.0                54181           B   \n",
       "3          27275.0    328093.0    421622.0                54181           P   \n",
       "4        1276801.0   7967667.0   8641179.0                54181           A   \n",
       "...            ...         ...         ...                  ...         ...   \n",
       "28196    3661232.0  14767259.0  14292836.0                60434           A   \n",
       "28197     517387.0   4164759.0   3893887.0                60434           P   \n",
       "28198     358499.0   2867628.0   3274645.0                60434           F   \n",
       "28199     799646.0    629673.0    596243.0                60434           W   \n",
       "28200      82496.0   4441226.0   4430348.0                60434           B   \n",
       "\n",
       "       total_ex_comp_per_company  percent_of_total_ex_comp  \n",
       "0                          55385                       1.0  \n",
       "1                          86057                       1.0  \n",
       "2                         110000                       1.0  \n",
       "3                          80195                       1.0  \n",
       "4                         127402                       1.0  \n",
       "...                          ...                       ...  \n",
       "28196                     180954                       1.0  \n",
       "28197                      78435                       1.0  \n",
       "28198                      89790                       1.0  \n",
       "28199                     112000                       1.0  \n",
       "28200                     105559                       1.0  \n",
       "\n",
       "[28201 rows x 13 columns]"
      ]
     },
     "execution_count": 107,
     "metadata": {},
     "output_type": "execute_result"
    }
   ],
   "source": [
    "pd.concat([df.iloc[:,[0, 9, 14]],\n",
    "           df.iloc[:,17:]], axis=1)"
   ]
  },
  {
   "cell_type": "code",
   "execution_count": 108,
   "metadata": {},
   "outputs": [],
   "source": [
    "pd.concat([df.iloc[:,[0, 9, 14]],\n",
    "           df.iloc[:,17:]], axis=1).to_csv('02.data/executive_comp_data.csv', index=False)"
   ]
  },
  {
   "cell_type": "code",
   "execution_count": null,
   "metadata": {},
   "outputs": [],
   "source": []
  },
  {
   "cell_type": "code",
   "execution_count": null,
   "metadata": {},
   "outputs": [],
   "source": []
  },
  {
   "cell_type": "code",
   "execution_count": null,
   "metadata": {},
   "outputs": [],
   "source": []
  },
  {
   "cell_type": "code",
   "execution_count": null,
   "metadata": {},
   "outputs": [],
   "source": []
  },
  {
   "cell_type": "code",
   "execution_count": null,
   "metadata": {},
   "outputs": [],
   "source": []
  },
  {
   "cell_type": "code",
   "execution_count": null,
   "metadata": {},
   "outputs": [],
   "source": []
  },
  {
   "cell_type": "code",
   "execution_count": null,
   "metadata": {},
   "outputs": [],
   "source": []
  },
  {
   "cell_type": "code",
   "execution_count": null,
   "metadata": {},
   "outputs": [],
   "source": []
  },
  {
   "cell_type": "markdown",
   "metadata": {},
   "source": [
    "## SPARE PARTS"
   ]
  },
  {
   "cell_type": "markdown",
   "metadata": {},
   "source": [
    "### Title analysis\n",
    "This is a fill in the blank field, as a result there are a huge number of unique values."
   ]
  },
  {
   "cell_type": "code",
   "execution_count": 73,
   "metadata": {},
   "outputs": [
    {
     "data": {
      "text/plain": [
       "7035"
      ]
     },
     "execution_count": 73,
     "metadata": {},
     "output_type": "execute_result"
    }
   ],
   "source": [
    "df.title.nunique()"
   ]
  },
  {
   "cell_type": "code",
   "execution_count": 357,
   "metadata": {},
   "outputs": [
    {
     "data": {
      "text/plain": [
       "DIRECTOR              5518\n",
       "PRESIDENT             2353\n",
       "Director              2170\n",
       "TRUSTEE               1702\n",
       "BOARD MEMBER          1507\n",
       "EXECUTIVE DIRECTOR    1452\n",
       "SECRETARY             1115\n",
       "TREASURER             1057\n",
       "President             1009\n",
       "VICE PRESIDENT         832\n",
       "Name: title, dtype: int64"
      ]
     },
     "execution_count": 357,
     "metadata": {},
     "output_type": "execute_result"
    }
   ],
   "source": [
    "df.title.value_counts().head(10)"
   ]
  },
  {
   "cell_type": "code",
   "execution_count": 356,
   "metadata": {},
   "outputs": [
    {
     "data": {
      "text/plain": [
       "(4140, 16)"
      ]
     },
     "execution_count": 356,
     "metadata": {},
     "output_type": "execute_result"
    }
   ],
   "source": [
    "# how many trustees/directors\n",
    "# have multiple roles listed within their title?\n",
    "df[(~df.title.isna()) &\n",
    "  (df.title.str.contains('/'))].shape"
   ]
  },
  {
   "cell_type": "code",
   "execution_count": null,
   "metadata": {},
   "outputs": [],
   "source": []
  },
  {
   "cell_type": "code",
   "execution_count": null,
   "metadata": {},
   "outputs": [],
   "source": []
  },
  {
   "cell_type": "code",
   "execution_count": null,
   "metadata": {},
   "outputs": [],
   "source": []
  },
  {
   "cell_type": "markdown",
   "metadata": {},
   "source": [
    "### Verify I can join governance EINs with Executive comp EINs"
   ]
  },
  {
   "cell_type": "code",
   "execution_count": 130,
   "metadata": {},
   "outputs": [],
   "source": [
    "ein = pd.read_csv('data_sets/ein.csv')"
   ]
  },
  {
   "cell_type": "code",
   "execution_count": 131,
   "metadata": {},
   "outputs": [
    {
     "data": {
      "text/plain": [
       "Int64Index([ 61594980,  61594980, 311424220, 311424220, 311424220, 311424220,\n",
       "            141056009, 141056009, 141056009, 141056009,\n",
       "            ...\n",
       "            952149001, 952149001, 952149001,  43528015, 472330028, 475285597,\n",
       "            474202980, 474202980, 474202980, 364735749],\n",
       "           dtype='int64', name='ein', length=38625)"
      ]
     },
     "execution_count": 131,
     "metadata": {},
     "output_type": "execute_result"
    }
   ],
   "source": [
    "ein.set_index('ein').index.intersection(df['ein'].reset_index().set_index('ein').index)"
   ]
  },
  {
   "cell_type": "code",
   "execution_count": null,
   "metadata": {},
   "outputs": [],
   "source": []
  },
  {
   "cell_type": "code",
   "execution_count": null,
   "metadata": {},
   "outputs": [],
   "source": []
  },
  {
   "cell_type": "code",
   "execution_count": null,
   "metadata": {},
   "outputs": [],
   "source": []
  },
  {
   "cell_type": "code",
   "execution_count": null,
   "metadata": {},
   "outputs": [],
   "source": []
  },
  {
   "cell_type": "code",
   "execution_count": null,
   "metadata": {},
   "outputs": [],
   "source": []
  },
  {
   "cell_type": "code",
   "execution_count": null,
   "metadata": {},
   "outputs": [],
   "source": []
  },
  {
   "cell_type": "markdown",
   "metadata": {},
   "source": [
    "### SPARE PARTS"
   ]
  },
  {
   "cell_type": "code",
   "execution_count": null,
   "metadata": {},
   "outputs": [],
   "source": []
  }
 ],
 "metadata": {
  "kernelspec": {
   "display_name": "Python 3",
   "language": "python",
   "name": "python3"
  },
  "language_info": {
   "codemirror_mode": {
    "name": "ipython",
    "version": 3
   },
   "file_extension": ".py",
   "mimetype": "text/x-python",
   "name": "python",
   "nbconvert_exporter": "python",
   "pygments_lexer": "ipython3",
   "version": "3.7.3"
  }
 },
 "nbformat": 4,
 "nbformat_minor": 4
}
