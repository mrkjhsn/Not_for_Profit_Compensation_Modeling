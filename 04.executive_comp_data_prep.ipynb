{
 "cells": [
  {
   "cell_type": "markdown",
   "metadata": {},
   "source": [
    "# Executive Compensation Dataset:\n",
    "\n",
    "The executive compensation dataset contains detailed information about the payments made by not-for-profits to its highest compensated employees.  Thresholds include - officers, directors, trustees, key employees (>150K), and five highest compensated (>100K) employees."
   ]
  },
  {
   "cell_type": "code",
   "execution_count": 42,
   "metadata": {},
   "outputs": [],
   "source": [
    "import numpy as np\n",
    "import pandas as pd\n",
    "pd.set_option('display.max_columns', None)\n",
    "\n",
    "import matplotlib.pyplot as plt\n",
    "import seaborn as sns\n",
    "plt.style.use('ggplot')\n",
    "import plotly.express as px\n",
    "\n",
    "import warnings\n",
    "from pandas.core.common import SettingWithCopyWarning\n",
    "warnings.simplefilter(action=\"ignore\", category=SettingWithCopyWarning)"
   ]
  },
  {
   "cell_type": "markdown",
   "metadata": {},
   "source": [
    "## IMPORT DATA & PREPROCESS"
   ]
  },
  {
   "cell_type": "code",
   "execution_count": 58,
   "metadata": {},
   "outputs": [],
   "source": [
    "# import USA state abbreviations \n",
    "# and median income for each state data\n",
    "us_state_abb = pd.read_csv('02.data/us_states.csv', index_col=0)\n",
    "median_income_by_state = pd.read_csv('02.data/median_income_by_state.csv',\n",
    "                                     skiprows=lambda x: x in [0, 1, 3], \n",
    "                                     skipfooter=9, engine='python', index_col=0)\n",
    "\n",
    "median_income_by_state = us_state_abb.merge(median_income_by_state,\n",
    "               left_index=True,\n",
    "               right_index=True)"
   ]
  },
  {
   "cell_type": "code",
   "execution_count": 84,
   "metadata": {},
   "outputs": [],
   "source": [
    "median_income_by_state_dict = dict(zip(median_income_by_state.Abbreviation,\n",
    "median_income_by_state.state_median_income))"
   ]
  },
  {
   "cell_type": "code",
   "execution_count": 44,
   "metadata": {},
   "outputs": [],
   "source": [
    "# import compensation dataset with full columns\n",
    "df_original = pd.read_csv('02.data/primary_raw_datasets/Compensation_charities_Open990.csv', \n",
    "                 header=1, nrows=5)"
   ]
  },
  {
   "cell_type": "code",
   "execution_count": 101,
   "metadata": {},
   "outputs": [
    {
     "data": {
      "text/html": [
       "<div>\n",
       "<style scoped>\n",
       "    .dataframe tbody tr th:only-of-type {\n",
       "        vertical-align: middle;\n",
       "    }\n",
       "\n",
       "    .dataframe tbody tr th {\n",
       "        vertical-align: top;\n",
       "    }\n",
       "\n",
       "    .dataframe thead th {\n",
       "        text-align: right;\n",
       "    }\n",
       "</style>\n",
       "<table border=\"1\" class=\"dataframe\">\n",
       "  <thead>\n",
       "    <tr style=\"text-align: right;\">\n",
       "      <th></th>\n",
       "      <th>EIN</th>\n",
       "      <th>Period</th>\n",
       "      <th>Person ID</th>\n",
       "      <th>Title</th>\n",
       "      <th>Hours</th>\n",
       "      <th>Hours related org</th>\n",
       "      <th>Trustee or director</th>\n",
       "      <th>Institutional trustee</th>\n",
       "      <th>Officer</th>\n",
       "      <th>Key employee</th>\n",
       "      <th>Highest compensated</th>\n",
       "      <th>Former</th>\n",
       "      <th>Reportable comp</th>\n",
       "      <th>Reportable comp related org</th>\n",
       "      <th>Other comp all</th>\n",
       "      <th>Health and benefits</th>\n",
       "      <th>Other comp</th>\n",
       "      <th>Base</th>\n",
       "      <th>Base related org</th>\n",
       "      <th>Bonus</th>\n",
       "      <th>Bonus related org</th>\n",
       "      <th>Other</th>\n",
       "      <th>Other related org</th>\n",
       "      <th>Retire</th>\n",
       "      <th>Retire related org</th>\n",
       "      <th>Nontax benefit</th>\n",
       "      <th>Nontax benefit related org</th>\n",
       "      <th>Sum comp</th>\n",
       "      <th>Sum comp related org</th>\n",
       "      <th>Prior deferred</th>\n",
       "      <th>Prior deferred related org</th>\n",
       "      <th>Org name</th>\n",
       "      <th>Subsection</th>\n",
       "      <th>NTEE code</th>\n",
       "      <th>NTEE description</th>\n",
       "      <th>Street</th>\n",
       "      <th>City</th>\n",
       "      <th>State</th>\n",
       "      <th>ZIP</th>\n",
       "      <th>Formation yr</th>\n",
       "      <th>Phone</th>\n",
       "      <th>Website</th>\n",
       "      <th>Assets</th>\n",
       "      <th>Liabilities</th>\n",
       "      <th>Expenses</th>\n",
       "      <th>Revenue</th>\n",
       "      <th>Form type</th>\n",
       "      <th>Efile ID</th>\n",
       "    </tr>\n",
       "  </thead>\n",
       "  <tbody>\n",
       "    <tr>\n",
       "      <td>0</td>\n",
       "      <td>10877614</td>\n",
       "      <td>201712</td>\n",
       "      <td>y7drw7umAm8SK9fWY7aFCA</td>\n",
       "      <td>BOARD MEMBER</td>\n",
       "      <td>1.0</td>\n",
       "      <td>NaN</td>\n",
       "      <td>True</td>\n",
       "      <td>NaN</td>\n",
       "      <td>NaN</td>\n",
       "      <td>NaN</td>\n",
       "      <td>NaN</td>\n",
       "      <td>NaN</td>\n",
       "      <td>0</td>\n",
       "      <td>0</td>\n",
       "      <td>0</td>\n",
       "      <td>NaN</td>\n",
       "      <td>NaN</td>\n",
       "      <td>NaN</td>\n",
       "      <td>NaN</td>\n",
       "      <td>NaN</td>\n",
       "      <td>NaN</td>\n",
       "      <td>NaN</td>\n",
       "      <td>NaN</td>\n",
       "      <td>NaN</td>\n",
       "      <td>NaN</td>\n",
       "      <td>NaN</td>\n",
       "      <td>NaN</td>\n",
       "      <td>NaN</td>\n",
       "      <td>NaN</td>\n",
       "      <td>NaN</td>\n",
       "      <td>NaN</td>\n",
       "      <td>HEART CHANGE MINISTRIES INC</td>\n",
       "      <td>501(c)(3)</td>\n",
       "      <td>G43</td>\n",
       "      <td>Heart and Circulatory System Diseases, Disorders</td>\n",
       "      <td>4201 E 16TH ST</td>\n",
       "      <td>INDIANAPOLIS</td>\n",
       "      <td>IN</td>\n",
       "      <td>46201</td>\n",
       "      <td>2006</td>\n",
       "      <td>3174960916</td>\n",
       "      <td>WWW.HEARTCHANGEINDY.ORG</td>\n",
       "      <td>2112293</td>\n",
       "      <td>92283</td>\n",
       "      <td>500749</td>\n",
       "      <td>1792933</td>\n",
       "      <td>990</td>\n",
       "      <td>201803199349308805</td>\n",
       "    </tr>\n",
       "  </tbody>\n",
       "</table>\n",
       "</div>"
      ],
      "text/plain": [
       "        EIN  Period               Person ID         Title  Hours  \\\n",
       "0  10877614  201712  y7drw7umAm8SK9fWY7aFCA  BOARD MEMBER    1.0   \n",
       "\n",
       "   Hours related org  Trustee or director  Institutional trustee  Officer  \\\n",
       "0                NaN                 True                    NaN      NaN   \n",
       "\n",
       "   Key employee  Highest compensated  Former  Reportable comp  \\\n",
       "0           NaN                  NaN     NaN                0   \n",
       "\n",
       "   Reportable comp related org  Other comp all  Health and benefits  \\\n",
       "0                            0               0                  NaN   \n",
       "\n",
       "   Other comp  Base  Base related org  Bonus  Bonus related org  Other  \\\n",
       "0         NaN   NaN               NaN    NaN                NaN    NaN   \n",
       "\n",
       "   Other related org  Retire  Retire related org  Nontax benefit  \\\n",
       "0                NaN     NaN                 NaN             NaN   \n",
       "\n",
       "   Nontax benefit related org  Sum comp  Sum comp related org  Prior deferred  \\\n",
       "0                         NaN       NaN                   NaN             NaN   \n",
       "\n",
       "   Prior deferred related org                     Org name Subsection  \\\n",
       "0                         NaN  HEART CHANGE MINISTRIES INC  501(c)(3)   \n",
       "\n",
       "  NTEE code                                  NTEE description          Street  \\\n",
       "0       G43  Heart and Circulatory System Diseases, Disorders  4201 E 16TH ST   \n",
       "\n",
       "           City State    ZIP  Formation yr       Phone  \\\n",
       "0  INDIANAPOLIS    IN  46201          2006  3174960916   \n",
       "\n",
       "                   Website   Assets  Liabilities  Expenses  Revenue  \\\n",
       "0  WWW.HEARTCHANGEINDY.ORG  2112293        92283    500749  1792933   \n",
       "\n",
       "   Form type            Efile ID  \n",
       "0        990  201803199349308805  "
      ]
     },
     "execution_count": 101,
     "metadata": {},
     "output_type": "execute_result"
    }
   ],
   "source": [
    "df_original.head(1)"
   ]
  },
  {
   "cell_type": "code",
   "execution_count": 252,
   "metadata": {},
   "outputs": [],
   "source": [
    "# import columns that interest me\n",
    "cols = ['EIN',\n",
    "       'Period',\n",
    "       'Title',\n",
    "        'Hours', \n",
    "       'Trustee or director',\n",
    "       'Institutional trustee',\n",
    "        'Officer',\n",
    "        'Key employee',\n",
    "        'Highest compensated',\n",
    "        'Reportable comp',\n",
    "        'Health and benefits',\n",
    "        'Other comp',\n",
    "       'Sum comp', \n",
    "        'Org name',\n",
    "        'Subsection',\n",
    "        'NTEE code',\n",
    "        'NTEE description',\n",
    "       'State',\n",
    "       'Formation yr',\n",
    "       'Assets',\n",
    "        'Liabilities',\n",
    "        'Expenses',\n",
    "        'Revenue']\n",
    "\n",
    "df = pd.read_csv('02.data/primary_raw_datasets/Compensation_charities_Open990.csv', \n",
    "                 header=1,\n",
    "                usecols=cols)"
   ]
  },
  {
   "cell_type": "code",
   "execution_count": 253,
   "metadata": {},
   "outputs": [
    {
     "data": {
      "text/plain": [
       "(3990749, 23)"
      ]
     },
     "execution_count": 253,
     "metadata": {},
     "output_type": "execute_result"
    }
   ],
   "source": [
    "df.shape"
   ]
  },
  {
   "cell_type": "code",
   "execution_count": 254,
   "metadata": {},
   "outputs": [],
   "source": [
    "# convert column labels to lower case and remove spaces from column names\n",
    "df.columns = df.columns.str.replace(' ', '_')\n",
    "df.columns = map(str.lower, df.columns)"
   ]
  },
  {
   "cell_type": "code",
   "execution_count": 255,
   "metadata": {},
   "outputs": [
    {
     "name": "stdout",
     "output_type": "stream",
     "text": [
      "9.32 ns ± 1.88 ns per loop (mean ± std. dev. of 7 runs, 100000000 loops each)\n"
     ]
    }
   ],
   "source": [
    "# add median income for the state of each not-for-profit\n",
    "\n",
    "%timeit()\n",
    "\n",
    "df = df.merge(median_income_by_state,\n",
    "        left_on='state',\n",
    "        right_on='Abbreviation').drop('Abbreviation', axis=1)"
   ]
  },
  {
   "cell_type": "code",
   "execution_count": 256,
   "metadata": {},
   "outputs": [
    {
     "name": "stdout",
     "output_type": "stream",
     "text": [
      "8.18 ns ± 0.504 ns per loop (mean ± std. dev. of 7 runs, 100000000 loops each)\n"
     ]
    }
   ],
   "source": [
    "# rather than use pandas merge to \n",
    "# join in median income for each state\n",
    "# how does the performance of a dictionary compare?\n",
    "\n",
    "%timeit()\n",
    "\n",
    "df['state_median_income'] = df.state.apply(lambda x: median_income_by_state_dict[x])"
   ]
  },
  {
   "cell_type": "markdown",
   "metadata": {},
   "source": [
    "### Narrow dataset based on hours and earnings for each employee"
   ]
  },
  {
   "cell_type": "code",
   "execution_count": 257,
   "metadata": {},
   "outputs": [
    {
     "data": {
      "image/png": "[encoded data removed]",
      "text/plain": [
       "<Figure size 432x288 with 1 Axes>"
      ]
     },
     "metadata": {},
     "output_type": "display_data"
    }
   ],
   "source": [
    "# what is the distribution\n",
    "# based on the title of the person receiving the compensation?\n",
    "df.loc[:, 'trustee_or_director': 'highest_compensated'].notnull().sum().plot(kind='bar')\n",
    "plt.xticks(rotation=30, horizontalalignment=\"right\")\n",
    "plt.ylabel('Count in Millions')\n",
    "plt.title('Executive Title - Raw Data')\n",
    "plt.tight_layout()\n",
    "\n",
    "plt.savefig('03.visualizations/exec_title_1.png');"
   ]
  },
  {
   "cell_type": "code",
   "execution_count": 258,
   "metadata": {},
   "outputs": [],
   "source": [
    "# exclude people who make less than median income\n",
    "# for the state the the not-for-profit is located in\n",
    "df = df[(df.reportable_comp > df.state_median_income) &\n",
    "       (df.hours >= 40)]"
   ]
  },
  {
   "cell_type": "markdown",
   "metadata": {},
   "source": [
    "By excluding people who make less than the median income for the state the not-for-profit is located in, and by excluding anyone who works less than 40 hours a week, I feel confident I am only including core executive management versus part time board members or trustees."
   ]
  },
  {
   "cell_type": "code",
   "execution_count": 259,
   "metadata": {},
   "outputs": [
    {
     "data": {
      "text/plain": [
       "(206706, 24)"
      ]
     },
     "execution_count": 259,
     "metadata": {},
     "output_type": "execute_result"
    }
   ],
   "source": [
    "# examine size of dataset\n",
    "df.shape"
   ]
  },
  {
   "cell_type": "markdown",
   "metadata": {},
   "source": [
    "### Narrow dataset based on title of employee"
   ]
  },
  {
   "cell_type": "code",
   "execution_count": 260,
   "metadata": {},
   "outputs": [
    {
     "data": {
      "image/png": "[encoded data removed]",
      "text/plain": [
       "<Figure size 432x288 with 1 Axes>"
      ]
     },
     "metadata": {},
     "output_type": "display_data"
    }
   ],
   "source": [
    "# what is the distribution\n",
    "# based on the title of the person receiving the compensation?\n",
    "df.loc[:, 'trustee_or_director': 'highest_compensated'].notnull().sum().plot(kind='bar')\n",
    "plt.xticks(rotation=30, horizontalalignment=\"right\")\n",
    "plt.ylabel('Count')\n",
    "plt.title('Executive Title - > 40hrs & > State Median')\n",
    "plt.tight_layout()\n",
    "plt.savefig('03.visualizations/exec_title_2.png');"
   ]
  },
  {
   "cell_type": "markdown",
   "metadata": {},
   "source": [
    "Based on people who appear to be getting paid for a full time position and who are also working more than 40 hours a week, officer has the highest count."
   ]
  },
  {
   "cell_type": "code",
   "execution_count": 261,
   "metadata": {},
   "outputs": [
    {
     "data": {
      "text/plain": [
       "EXECUTIVE DIRECTOR    11400\n",
       "PRESIDENT              5391\n",
       "CEO                    5127\n",
       "EXECUTIVE DI           4049\n",
       "CFO                    3624\n",
       "Name: title, dtype: int64"
      ]
     },
     "execution_count": 261,
     "metadata": {},
     "output_type": "execute_result"
    }
   ],
   "source": [
    "df.loc[df.officer == True, 'title'].value_counts().head()"
   ]
  },
  {
   "cell_type": "code",
   "execution_count": 262,
   "metadata": {},
   "outputs": [
    {
     "data": {
      "text/plain": [
       "PRESIDENT             2283\n",
       "EXECUTIVE DIRECTOR    2280\n",
       "DIRECTOR              1149\n",
       "EXECUTIVE DI          1095\n",
       "President             1052\n",
       "Name: title, dtype: int64"
      ]
     },
     "execution_count": 262,
     "metadata": {},
     "output_type": "execute_result"
    }
   ],
   "source": [
    "df.loc[df.trustee_or_director == True, 'title'].value_counts().head()"
   ]
  },
  {
   "cell_type": "code",
   "execution_count": 263,
   "metadata": {},
   "outputs": [
    {
     "data": {
      "text/plain": [
       "EXECUTIVE DIRECTOR    1155\n",
       "Executive Director     967\n",
       "CEO                    326\n",
       "GENERAL MANAGER        244\n",
       "PRESIDENT              233\n",
       "Name: title, dtype: int64"
      ]
     },
     "execution_count": 263,
     "metadata": {},
     "output_type": "execute_result"
    }
   ],
   "source": [
    "df.loc[df.key_employee == True, 'title'].value_counts().head()"
   ]
  },
  {
   "cell_type": "code",
   "execution_count": 264,
   "metadata": {},
   "outputs": [
    {
     "data": {
      "text/plain": [
       "PHYSICIAN             5160\n",
       "Physician             1685\n",
       "EXECUTIVE DIRECTOR     926\n",
       "EMPLOYEE               819\n",
       "Executive Director     663\n",
       "CONTROLLER             547\n",
       "PSYCHIATRIST           527\n",
       "PHARMACIST             452\n",
       "DENTIST                368\n",
       "MEDICAL DIRECTOR       366\n",
       "Name: title, dtype: int64"
      ]
     },
     "execution_count": 264,
     "metadata": {},
     "output_type": "execute_result"
    }
   ],
   "source": [
    "df.loc[df.highest_compensated == True, 'title'].value_counts().head(10)"
   ]
  },
  {
   "cell_type": "markdown",
   "metadata": {},
   "source": [
    "By examination of the titles of \"Highest Compensated\" employees, most of these are highly skilled trades, versus executive leadership.  As a result I will exclude people who fall into this category."
   ]
  },
  {
   "cell_type": "code",
   "execution_count": 265,
   "metadata": {},
   "outputs": [],
   "source": [
    "# drop highest compensated employees\n",
    "df.drop(df.loc[df.highest_compensated == True].index, inplace=True)"
   ]
  },
  {
   "cell_type": "code",
   "execution_count": 266,
   "metadata": {},
   "outputs": [
    {
     "data": {
      "text/plain": [
       "(133451, 24)"
      ]
     },
     "execution_count": 266,
     "metadata": {},
     "output_type": "execute_result"
    }
   ],
   "source": [
    "# how many executives remain?\n",
    "df.shape"
   ]
  },
  {
   "cell_type": "code",
   "execution_count": 267,
   "metadata": {},
   "outputs": [
    {
     "data": {
      "image/png": "[encoded data removed]",
      "text/plain": [
       "<Figure size 432x288 with 1 Axes>"
      ]
     },
     "metadata": {},
     "output_type": "display_data"
    }
   ],
   "source": [
    "# what is the distribution\n",
    "# based on the title of the person receiving the compensation?\n",
    "df.loc[:, 'trustee_or_director': 'highest_compensated'].notnull().sum().plot(kind='bar')\n",
    "plt.xticks(rotation=30, horizontalalignment=\"right\")\n",
    "plt.ylabel('Count')\n",
    "plt.title('Executive Title - W/out Highest Compensated')\n",
    "plt.tight_layout()\n",
    "plt.savefig('03.visualizations/exec_title_3.png');"
   ]
  },
  {
   "cell_type": "code",
   "execution_count": 268,
   "metadata": {},
   "outputs": [
    {
     "data": {
      "text/plain": [
       "ein                           0\n",
       "period                        0\n",
       "title                      4085\n",
       "hours                         0\n",
       "trustee_or_director      106664\n",
       "institutional_trustee    133359\n",
       "officer                   32224\n",
       "key_employee             112204\n",
       "highest_compensated      133451\n",
       "reportable_comp               0\n",
       "health_and_benefits      132811\n",
       "other_comp               132921\n",
       "sum_comp                  63775\n",
       "org_name                      0\n",
       "subsection                    0\n",
       "ntee_code                   189\n",
       "ntee_description            190\n",
       "state                         0\n",
       "formation_yr               4729\n",
       "assets                        0\n",
       "liabilities                 247\n",
       "expenses                      0\n",
       "revenue                       9\n",
       "state_median_income           0\n",
       "dtype: int64"
      ]
     },
     "execution_count": 268,
     "metadata": {},
     "output_type": "execute_result"
    }
   ],
   "source": [
    "# examine for nan values\n",
    "df.isna().sum()"
   ]
  },
  {
   "cell_type": "code",
   "execution_count": 269,
   "metadata": {},
   "outputs": [],
   "source": [
    "# drop rows with missing values in these columns\n",
    "df.dropna(subset=['ntee_code'], inplace=True)"
   ]
  },
  {
   "cell_type": "code",
   "execution_count": 270,
   "metadata": {},
   "outputs": [],
   "source": [
    "# fillna for formation_year\n",
    "# I may want to do this with random forest instead\n",
    "df.formation_yr.fillna(df.formation_yr.median(), inplace=True)\n",
    "df.formation_yr = df.formation_yr.astype(int)"
   ]
  },
  {
   "cell_type": "code",
   "execution_count": 271,
   "metadata": {},
   "outputs": [],
   "source": [
    "# fillna for orgs with missing liabilities & revenue\n",
    "df.liabilities.fillna(df.liabilities.median(), inplace=True)\n",
    "df.revenue.fillna(df.revenue.median(), inplace=True)"
   ]
  },
  {
   "cell_type": "code",
   "execution_count": 272,
   "metadata": {},
   "outputs": [
    {
     "data": {
      "text/plain": [
       "ein                      0.000000\n",
       "period                   0.000000\n",
       "title                    0.030654\n",
       "hours                    0.000000\n",
       "trustee_or_director      0.799605\n",
       "institutional_trustee    0.999317\n",
       "officer                  0.241224\n",
       "key_employee             0.840757\n",
       "highest_compensated      1.000000\n",
       "reportable_comp          0.000000\n",
       "health_and_benefits      0.995220\n",
       "other_comp               0.996045\n",
       "sum_comp                 0.478058\n",
       "org_name                 0.000000\n",
       "subsection               0.000000\n",
       "ntee_code                0.000000\n",
       "ntee_description         0.000008\n",
       "state                    0.000000\n",
       "formation_yr             0.000000\n",
       "assets                   0.000000\n",
       "liabilities              0.000000\n",
       "expenses                 0.000000\n",
       "revenue                  0.000000\n",
       "state_median_income      0.000000\n",
       "dtype: float64"
      ]
     },
     "execution_count": 272,
     "metadata": {},
     "output_type": "execute_result"
    }
   ],
   "source": [
    "# examine columns with missing values\n",
    "df.isna().mean()"
   ]
  },
  {
   "cell_type": "code",
   "execution_count": 273,
   "metadata": {},
   "outputs": [],
   "source": [
    "# drop columns with a high amount of null values\n",
    "df.drop([\n",
    "    'health_and_benefits',\n",
    "    'other_comp',\n",
    "    'sum_comp'        \n",
    "], axis=1, inplace=True)"
   ]
  },
  {
   "cell_type": "markdown",
   "metadata": {},
   "source": [
    "## PRELIMINARY EDA"
   ]
  },
  {
   "cell_type": "code",
   "execution_count": 274,
   "metadata": {},
   "outputs": [
    {
     "data": {
      "image/png": "[encoded data removed]",
      "text/plain": [
       "<Figure size 432x288 with 1 Axes>"
      ]
     },
     "metadata": {},
     "output_type": "display_data"
    }
   ],
   "source": [
    "# clipping at the 95% percentile, what is the distribution?\n",
    "\n",
    "df.reportable_comp.clip(upper=df.reportable_comp.quantile(.95)).hist(bins=100)\n",
    "plt.title('Salary Distribution - Capped at 95%')\n",
    "plt.xlabel('Salary $')\n",
    "plt.ylabel('Count')\n",
    "plt.tight_layout()\n",
    "plt.savefig('03.visualizations/salary_dist.png');"
   ]
  },
  {
   "cell_type": "markdown",
   "metadata": {},
   "source": [
    "The reason for the spike at 100K is because that is the threshold above which not-for-profit organizations are required to disclose salaries.  Clearly a large number of organizations are disclosing, even when not required."
   ]
  },
  {
   "cell_type": "markdown",
   "metadata": {},
   "source": [
    "## FEATURE ENGINEERING"
   ]
  },
  {
   "cell_type": "markdown",
   "metadata": {},
   "source": [
    "#### Remove noise from NTEE codes"
   ]
  },
  {
   "cell_type": "code",
   "execution_count": 240,
   "metadata": {},
   "outputs": [
    {
     "data": {
      "text/html": [
       "<div>\n",
       "<style scoped>\n",
       "    .dataframe tbody tr th:only-of-type {\n",
       "        vertical-align: middle;\n",
       "    }\n",
       "\n",
       "    .dataframe tbody tr th {\n",
       "        vertical-align: top;\n",
       "    }\n",
       "\n",
       "    .dataframe thead th {\n",
       "        text-align: right;\n",
       "    }\n",
       "</style>\n",
       "<table border=\"1\" class=\"dataframe\">\n",
       "  <thead>\n",
       "    <tr style=\"text-align: right;\">\n",
       "      <th></th>\n",
       "      <th>ein</th>\n",
       "      <th>period</th>\n",
       "      <th>title</th>\n",
       "      <th>hours</th>\n",
       "      <th>trustee_or_director</th>\n",
       "      <th>institutional_trustee</th>\n",
       "      <th>officer</th>\n",
       "      <th>key_employee</th>\n",
       "      <th>highest_compensated</th>\n",
       "      <th>reportable_comp</th>\n",
       "      <th>org_name</th>\n",
       "      <th>subsection</th>\n",
       "      <th>ntee_code</th>\n",
       "      <th>ntee_description</th>\n",
       "      <th>state</th>\n",
       "      <th>formation_yr</th>\n",
       "      <th>assets</th>\n",
       "      <th>liabilities</th>\n",
       "      <th>expenses</th>\n",
       "      <th>revenue</th>\n",
       "      <th>state_median_income</th>\n",
       "    </tr>\n",
       "  </thead>\n",
       "  <tbody>\n",
       "    <tr>\n",
       "      <td>6</td>\n",
       "      <td>10877614</td>\n",
       "      <td>201712</td>\n",
       "      <td>BOARD MEMBER/MANAGING D</td>\n",
       "      <td>65.0</td>\n",
       "      <td>True</td>\n",
       "      <td>NaN</td>\n",
       "      <td>NaN</td>\n",
       "      <td>NaN</td>\n",
       "      <td>NaN</td>\n",
       "      <td>55385.0</td>\n",
       "      <td>HEART CHANGE MINISTRIES INC</td>\n",
       "      <td>501(c)(3)</td>\n",
       "      <td>G43</td>\n",
       "      <td>Heart and Circulatory System Diseases, Disorders</td>\n",
       "      <td>IN</td>\n",
       "      <td>2006</td>\n",
       "      <td>2112293</td>\n",
       "      <td>92283.0</td>\n",
       "      <td>500749.0</td>\n",
       "      <td>1792933.0</td>\n",
       "      <td>54181</td>\n",
       "    </tr>\n",
       "    <tr>\n",
       "      <td>7</td>\n",
       "      <td>10877614</td>\n",
       "      <td>201712</td>\n",
       "      <td>BOARD MEMBER</td>\n",
       "      <td>40.0</td>\n",
       "      <td>True</td>\n",
       "      <td>NaN</td>\n",
       "      <td>NaN</td>\n",
       "      <td>NaN</td>\n",
       "      <td>NaN</td>\n",
       "      <td>60000.0</td>\n",
       "      <td>HEART CHANGE MINISTRIES INC</td>\n",
       "      <td>501(c)(3)</td>\n",
       "      <td>G43</td>\n",
       "      <td>Heart and Circulatory System Diseases, Disorders</td>\n",
       "      <td>IN</td>\n",
       "      <td>2006</td>\n",
       "      <td>2112293</td>\n",
       "      <td>92283.0</td>\n",
       "      <td>500749.0</td>\n",
       "      <td>1792933.0</td>\n",
       "      <td>54181</td>\n",
       "    </tr>\n",
       "    <tr>\n",
       "      <td>24</td>\n",
       "      <td>10945309</td>\n",
       "      <td>201712</td>\n",
       "      <td>CFO</td>\n",
       "      <td>40.0</td>\n",
       "      <td>NaN</td>\n",
       "      <td>NaN</td>\n",
       "      <td>True</td>\n",
       "      <td>NaN</td>\n",
       "      <td>NaN</td>\n",
       "      <td>101486.0</td>\n",
       "      <td>Jane Pauley Community Health Center Inc</td>\n",
       "      <td>501(c)(3)</td>\n",
       "      <td>E32</td>\n",
       "      <td>Ambulatory Health Center, Community Clinic</td>\n",
       "      <td>IN</td>\n",
       "      <td>2009</td>\n",
       "      <td>20015611</td>\n",
       "      <td>20848801.0</td>\n",
       "      <td>24155447.0</td>\n",
       "      <td>22357380.0</td>\n",
       "      <td>54181</td>\n",
       "    </tr>\n",
       "    <tr>\n",
       "      <td>25</td>\n",
       "      <td>10945309</td>\n",
       "      <td>201712</td>\n",
       "      <td>Director of IS &amp; Quality I</td>\n",
       "      <td>40.0</td>\n",
       "      <td>NaN</td>\n",
       "      <td>NaN</td>\n",
       "      <td>True</td>\n",
       "      <td>NaN</td>\n",
       "      <td>NaN</td>\n",
       "      <td>103819.0</td>\n",
       "      <td>Jane Pauley Community Health Center Inc</td>\n",
       "      <td>501(c)(3)</td>\n",
       "      <td>E32</td>\n",
       "      <td>Ambulatory Health Center, Community Clinic</td>\n",
       "      <td>IN</td>\n",
       "      <td>2009</td>\n",
       "      <td>20015611</td>\n",
       "      <td>20848801.0</td>\n",
       "      <td>24155447.0</td>\n",
       "      <td>22357380.0</td>\n",
       "      <td>54181</td>\n",
       "    </tr>\n",
       "    <tr>\n",
       "      <td>27</td>\n",
       "      <td>10945309</td>\n",
       "      <td>201712</td>\n",
       "      <td>Medical Director</td>\n",
       "      <td>40.0</td>\n",
       "      <td>NaN</td>\n",
       "      <td>NaN</td>\n",
       "      <td>True</td>\n",
       "      <td>NaN</td>\n",
       "      <td>NaN</td>\n",
       "      <td>256928.0</td>\n",
       "      <td>Jane Pauley Community Health Center Inc</td>\n",
       "      <td>501(c)(3)</td>\n",
       "      <td>E32</td>\n",
       "      <td>Ambulatory Health Center, Community Clinic</td>\n",
       "      <td>IN</td>\n",
       "      <td>2009</td>\n",
       "      <td>20015611</td>\n",
       "      <td>20848801.0</td>\n",
       "      <td>24155447.0</td>\n",
       "      <td>22357380.0</td>\n",
       "      <td>54181</td>\n",
       "    </tr>\n",
       "  </tbody>\n",
       "</table>\n",
       "</div>"
      ],
      "text/plain": [
       "         ein  period                       title  hours trustee_or_director  \\\n",
       "6   10877614  201712     BOARD MEMBER/MANAGING D   65.0                True   \n",
       "7   10877614  201712                BOARD MEMBER   40.0                True   \n",
       "24  10945309  201712                         CFO   40.0                 NaN   \n",
       "25  10945309  201712  Director of IS & Quality I   40.0                 NaN   \n",
       "27  10945309  201712            Medical Director   40.0                 NaN   \n",
       "\n",
       "   institutional_trustee officer key_employee highest_compensated  \\\n",
       "6                    NaN     NaN          NaN                 NaN   \n",
       "7                    NaN     NaN          NaN                 NaN   \n",
       "24                   NaN    True          NaN                 NaN   \n",
       "25                   NaN    True          NaN                 NaN   \n",
       "27                   NaN    True          NaN                 NaN   \n",
       "\n",
       "    reportable_comp                                 org_name subsection  \\\n",
       "6           55385.0              HEART CHANGE MINISTRIES INC  501(c)(3)   \n",
       "7           60000.0              HEART CHANGE MINISTRIES INC  501(c)(3)   \n",
       "24         101486.0  Jane Pauley Community Health Center Inc  501(c)(3)   \n",
       "25         103819.0  Jane Pauley Community Health Center Inc  501(c)(3)   \n",
       "27         256928.0  Jane Pauley Community Health Center Inc  501(c)(3)   \n",
       "\n",
       "   ntee_code                                  ntee_description state  \\\n",
       "6        G43  Heart and Circulatory System Diseases, Disorders    IN   \n",
       "7        G43  Heart and Circulatory System Diseases, Disorders    IN   \n",
       "24       E32        Ambulatory Health Center, Community Clinic    IN   \n",
       "25       E32        Ambulatory Health Center, Community Clinic    IN   \n",
       "27       E32        Ambulatory Health Center, Community Clinic    IN   \n",
       "\n",
       "    formation_yr    assets  liabilities    expenses     revenue  \\\n",
       "6           2006   2112293      92283.0    500749.0   1792933.0   \n",
       "7           2006   2112293      92283.0    500749.0   1792933.0   \n",
       "24          2009  20015611   20848801.0  24155447.0  22357380.0   \n",
       "25          2009  20015611   20848801.0  24155447.0  22357380.0   \n",
       "27          2009  20015611   20848801.0  24155447.0  22357380.0   \n",
       "\n",
       "    state_median_income  \n",
       "6                 54181  \n",
       "7                 54181  \n",
       "24                54181  \n",
       "25                54181  \n",
       "27                54181  "
      ]
     },
     "execution_count": 240,
     "metadata": {},
     "output_type": "execute_result"
    }
   ],
   "source": [
    "df.head()"
   ]
  },
  {
   "cell_type": "code",
   "execution_count": 241,
   "metadata": {},
   "outputs": [
    {
     "data": {
      "image/png": "[encoded data removed]",
      "text/plain": [
       "<Figure size 432x432 with 1 Axes>"
      ]
     },
     "metadata": {},
     "output_type": "display_data"
    }
   ],
   "source": [
    "# examine NTEE code distribution based on letter only\n",
    "df.ntee_code.apply(lambda x: str(x)[0]).value_counts().plot(kind='barh', figsize=(6, 6))\n",
    "plt.ylabel('NTEE Letter')\n",
    "plt.xlabel('Count')\n",
    "plt.title('NTEE Letter Distribution')\n",
    "plt.savefig('03.visualizations/ntee_letter.png');"
   ]
  },
  {
   "cell_type": "markdown",
   "metadata": {},
   "source": [
    "Based on this article, NTEE letters are broadly categorized into 10 groups.  Organizing them into these groups will further reduce categories.\n",
    "\n",
    "https://nccs.urban.org/project/national-taxonomy-exempt-entities-ntee-codes\n",
    "\n",
    "    I. Arts, Culture, and Humanities - A\n",
    "    II. Education - B\n",
    "    III. Environment and Animals - C, D\n",
    "    IV. Health - E, F, G, H\n",
    "    V. Human Services - I, J, K, L, M, N, O, P\n",
    "    VI. International, Foreign Affairs - Q\n",
    "    VII. Public, Societal Benefit - R, S, T, U, V, W\n",
    "    VIII. Religion Related - X\n",
    "    IX. Mutual/Membership Benefit - Y\n",
    "    X. Unknown, Unclassified - Z"
   ]
  },
  {
   "cell_type": "code",
   "execution_count": 242,
   "metadata": {},
   "outputs": [],
   "source": [
    "# function to subdivide ntee letters based on categories\n",
    "\n",
    "def summarize_ntee(x):\n",
    "    if x in'A':\n",
    "        return 'Arts, Culture, and Humanities'\n",
    "    if x in 'B':\n",
    "        return 'Education'\n",
    "    if x in 'C, D':\n",
    "        return 'Environment and Animals'\n",
    "    if x in 'E, F, G, H':\n",
    "        return 'Health'\n",
    "    if x in 'I, J, K, L, M, N, O, P':\n",
    "        return 'Human Services'\n",
    "    if x in 'Q':\n",
    "        return 'International, Foreign Affairs'\n",
    "    if x in 'R, S, T, U, V, W':\n",
    "        return 'Public, Societal Benefit'\n",
    "    if x in 'X':\n",
    "        return 'Religion Related'\n",
    "    if x in 'Y':\n",
    "        return 'Mutual/Membership Benefit'\n",
    "    if x in 'Z':\n",
    "        return 'Unknown, Unclassified'"
   ]
  },
  {
   "cell_type": "code",
   "execution_count": 278,
   "metadata": {},
   "outputs": [],
   "source": [
    "df['ntee_categories'] = df.ntee_code.apply(lambda x: str(x)[0]).apply(summarize_ntee)"
   ]
  },
  {
   "cell_type": "code",
   "execution_count": 279,
   "metadata": {},
   "outputs": [
    {
     "data": {
      "image/png": "[encoded data removed]",
      "text/plain": [
       "<Figure size 432x288 with 1 Axes>"
      ]
     },
     "metadata": {},
     "output_type": "display_data"
    }
   ],
   "source": [
    "# examine distribution of categorization\n",
    "df.ntee_categories.value_counts().plot(kind='barh')\n",
    "plt.ylabel('NTEE Category')\n",
    "plt.xlabel('Count')\n",
    "plt.title('NTEE Category Distribution')\n",
    "plt.tight_layout()\n",
    "plt.savefig('03.visualizations/ntee_category.png');"
   ]
  },
  {
   "cell_type": "markdown",
   "metadata": {},
   "source": [
    "#### Find percentage of total executive compensation for each org for each executive paid\n"
   ]
  },
  {
   "cell_type": "code",
   "execution_count": 245,
   "metadata": {},
   "outputs": [
    {
     "data": {
      "text/plain": [
       "ein\n",
       "10021545     198085\n",
       "10024245      87550\n",
       "10024645      64575\n",
       "10029480      62180\n",
       "10043280     130513\n",
       "              ...  \n",
       "996009349    103447\n",
       "996009889    172346\n",
       "996012378    103660\n",
       "996015708    193873\n",
       "996016434     88013\n",
       "Name: total_ex_comp_per_company, Length: 69947, dtype: int32"
      ]
     },
     "execution_count": 245,
     "metadata": {},
     "output_type": "execute_result"
    }
   ],
   "source": [
    "# find total reportable comp for each ein\n",
    "df.groupby('ein')['reportable_comp'].sum().astype(int).rename('total_ex_comp_per_company')"
   ]
  },
  {
   "cell_type": "code",
   "execution_count": 280,
   "metadata": {},
   "outputs": [],
   "source": [
    "# join this amount based on ein\n",
    "# to each person who was paid\n",
    "df = df.merge(df.groupby('ein')['reportable_comp']\n",
    "              .sum()\n",
    "              .astype(int)\n",
    "              .rename('total_ex_comp_per_company'),\n",
    "        left_on='ein',\n",
    "        right_on='ein')"
   ]
  },
  {
   "cell_type": "code",
   "execution_count": 248,
   "metadata": {},
   "outputs": [
    {
     "data": {
      "text/html": [
       "<div>\n",
       "<style scoped>\n",
       "    .dataframe tbody tr th:only-of-type {\n",
       "        vertical-align: middle;\n",
       "    }\n",
       "\n",
       "    .dataframe tbody tr th {\n",
       "        vertical-align: top;\n",
       "    }\n",
       "\n",
       "    .dataframe thead th {\n",
       "        text-align: right;\n",
       "    }\n",
       "</style>\n",
       "<table border=\"1\" class=\"dataframe\">\n",
       "  <thead>\n",
       "    <tr style=\"text-align: right;\">\n",
       "      <th></th>\n",
       "      <th>ein</th>\n",
       "      <th>period</th>\n",
       "      <th>title</th>\n",
       "      <th>hours</th>\n",
       "      <th>trustee_or_director</th>\n",
       "      <th>institutional_trustee</th>\n",
       "      <th>officer</th>\n",
       "      <th>key_employee</th>\n",
       "      <th>highest_compensated</th>\n",
       "      <th>reportable_comp</th>\n",
       "      <th>org_name</th>\n",
       "      <th>subsection</th>\n",
       "      <th>ntee_code</th>\n",
       "      <th>ntee_description</th>\n",
       "      <th>state</th>\n",
       "      <th>formation_yr</th>\n",
       "      <th>assets</th>\n",
       "      <th>liabilities</th>\n",
       "      <th>expenses</th>\n",
       "      <th>revenue</th>\n",
       "      <th>state_median_income</th>\n",
       "      <th>ntee_categories</th>\n",
       "      <th>total_ex_comp_per_company</th>\n",
       "    </tr>\n",
       "  </thead>\n",
       "  <tbody>\n",
       "    <tr>\n",
       "      <td>0</td>\n",
       "      <td>10877614</td>\n",
       "      <td>201712</td>\n",
       "      <td>BOARD MEMBER/MANAGING D</td>\n",
       "      <td>65.0</td>\n",
       "      <td>True</td>\n",
       "      <td>NaN</td>\n",
       "      <td>NaN</td>\n",
       "      <td>NaN</td>\n",
       "      <td>NaN</td>\n",
       "      <td>55385.0</td>\n",
       "      <td>HEART CHANGE MINISTRIES INC</td>\n",
       "      <td>501(c)(3)</td>\n",
       "      <td>G43</td>\n",
       "      <td>Heart and Circulatory System Diseases, Disorders</td>\n",
       "      <td>IN</td>\n",
       "      <td>2006</td>\n",
       "      <td>2112293</td>\n",
       "      <td>92283.0</td>\n",
       "      <td>500749.0</td>\n",
       "      <td>1792933.0</td>\n",
       "      <td>54181</td>\n",
       "      <td>Health</td>\n",
       "      <td>115385</td>\n",
       "    </tr>\n",
       "    <tr>\n",
       "      <td>1</td>\n",
       "      <td>10877614</td>\n",
       "      <td>201712</td>\n",
       "      <td>BOARD MEMBER</td>\n",
       "      <td>40.0</td>\n",
       "      <td>True</td>\n",
       "      <td>NaN</td>\n",
       "      <td>NaN</td>\n",
       "      <td>NaN</td>\n",
       "      <td>NaN</td>\n",
       "      <td>60000.0</td>\n",
       "      <td>HEART CHANGE MINISTRIES INC</td>\n",
       "      <td>501(c)(3)</td>\n",
       "      <td>G43</td>\n",
       "      <td>Heart and Circulatory System Diseases, Disorders</td>\n",
       "      <td>IN</td>\n",
       "      <td>2006</td>\n",
       "      <td>2112293</td>\n",
       "      <td>92283.0</td>\n",
       "      <td>500749.0</td>\n",
       "      <td>1792933.0</td>\n",
       "      <td>54181</td>\n",
       "      <td>Health</td>\n",
       "      <td>115385</td>\n",
       "    </tr>\n",
       "    <tr>\n",
       "      <td>2</td>\n",
       "      <td>10945309</td>\n",
       "      <td>201712</td>\n",
       "      <td>CFO</td>\n",
       "      <td>40.0</td>\n",
       "      <td>NaN</td>\n",
       "      <td>NaN</td>\n",
       "      <td>True</td>\n",
       "      <td>NaN</td>\n",
       "      <td>NaN</td>\n",
       "      <td>101486.0</td>\n",
       "      <td>Jane Pauley Community Health Center Inc</td>\n",
       "      <td>501(c)(3)</td>\n",
       "      <td>E32</td>\n",
       "      <td>Ambulatory Health Center, Community Clinic</td>\n",
       "      <td>IN</td>\n",
       "      <td>2009</td>\n",
       "      <td>20015611</td>\n",
       "      <td>20848801.0</td>\n",
       "      <td>24155447.0</td>\n",
       "      <td>22357380.0</td>\n",
       "      <td>54181</td>\n",
       "      <td>Health</td>\n",
       "      <td>741963</td>\n",
       "    </tr>\n",
       "    <tr>\n",
       "      <td>3</td>\n",
       "      <td>10945309</td>\n",
       "      <td>201712</td>\n",
       "      <td>Director of IS &amp; Quality I</td>\n",
       "      <td>40.0</td>\n",
       "      <td>NaN</td>\n",
       "      <td>NaN</td>\n",
       "      <td>True</td>\n",
       "      <td>NaN</td>\n",
       "      <td>NaN</td>\n",
       "      <td>103819.0</td>\n",
       "      <td>Jane Pauley Community Health Center Inc</td>\n",
       "      <td>501(c)(3)</td>\n",
       "      <td>E32</td>\n",
       "      <td>Ambulatory Health Center, Community Clinic</td>\n",
       "      <td>IN</td>\n",
       "      <td>2009</td>\n",
       "      <td>20015611</td>\n",
       "      <td>20848801.0</td>\n",
       "      <td>24155447.0</td>\n",
       "      <td>22357380.0</td>\n",
       "      <td>54181</td>\n",
       "      <td>Health</td>\n",
       "      <td>741963</td>\n",
       "    </tr>\n",
       "    <tr>\n",
       "      <td>4</td>\n",
       "      <td>10945309</td>\n",
       "      <td>201712</td>\n",
       "      <td>Medical Director</td>\n",
       "      <td>40.0</td>\n",
       "      <td>NaN</td>\n",
       "      <td>NaN</td>\n",
       "      <td>True</td>\n",
       "      <td>NaN</td>\n",
       "      <td>NaN</td>\n",
       "      <td>256928.0</td>\n",
       "      <td>Jane Pauley Community Health Center Inc</td>\n",
       "      <td>501(c)(3)</td>\n",
       "      <td>E32</td>\n",
       "      <td>Ambulatory Health Center, Community Clinic</td>\n",
       "      <td>IN</td>\n",
       "      <td>2009</td>\n",
       "      <td>20015611</td>\n",
       "      <td>20848801.0</td>\n",
       "      <td>24155447.0</td>\n",
       "      <td>22357380.0</td>\n",
       "      <td>54181</td>\n",
       "      <td>Health</td>\n",
       "      <td>741963</td>\n",
       "    </tr>\n",
       "  </tbody>\n",
       "</table>\n",
       "</div>"
      ],
      "text/plain": [
       "        ein  period                       title  hours trustee_or_director  \\\n",
       "0  10877614  201712     BOARD MEMBER/MANAGING D   65.0                True   \n",
       "1  10877614  201712                BOARD MEMBER   40.0                True   \n",
       "2  10945309  201712                         CFO   40.0                 NaN   \n",
       "3  10945309  201712  Director of IS & Quality I   40.0                 NaN   \n",
       "4  10945309  201712            Medical Director   40.0                 NaN   \n",
       "\n",
       "  institutional_trustee officer key_employee highest_compensated  \\\n",
       "0                   NaN     NaN          NaN                 NaN   \n",
       "1                   NaN     NaN          NaN                 NaN   \n",
       "2                   NaN    True          NaN                 NaN   \n",
       "3                   NaN    True          NaN                 NaN   \n",
       "4                   NaN    True          NaN                 NaN   \n",
       "\n",
       "   reportable_comp                                 org_name subsection  \\\n",
       "0          55385.0              HEART CHANGE MINISTRIES INC  501(c)(3)   \n",
       "1          60000.0              HEART CHANGE MINISTRIES INC  501(c)(3)   \n",
       "2         101486.0  Jane Pauley Community Health Center Inc  501(c)(3)   \n",
       "3         103819.0  Jane Pauley Community Health Center Inc  501(c)(3)   \n",
       "4         256928.0  Jane Pauley Community Health Center Inc  501(c)(3)   \n",
       "\n",
       "  ntee_code                                  ntee_description state  \\\n",
       "0       G43  Heart and Circulatory System Diseases, Disorders    IN   \n",
       "1       G43  Heart and Circulatory System Diseases, Disorders    IN   \n",
       "2       E32        Ambulatory Health Center, Community Clinic    IN   \n",
       "3       E32        Ambulatory Health Center, Community Clinic    IN   \n",
       "4       E32        Ambulatory Health Center, Community Clinic    IN   \n",
       "\n",
       "   formation_yr    assets  liabilities    expenses     revenue  \\\n",
       "0          2006   2112293      92283.0    500749.0   1792933.0   \n",
       "1          2006   2112293      92283.0    500749.0   1792933.0   \n",
       "2          2009  20015611   20848801.0  24155447.0  22357380.0   \n",
       "3          2009  20015611   20848801.0  24155447.0  22357380.0   \n",
       "4          2009  20015611   20848801.0  24155447.0  22357380.0   \n",
       "\n",
       "   state_median_income ntee_categories  total_ex_comp_per_company  \n",
       "0                54181          Health                     115385  \n",
       "1                54181          Health                     115385  \n",
       "2                54181          Health                     741963  \n",
       "3                54181          Health                     741963  \n",
       "4                54181          Health                     741963  "
      ]
     },
     "execution_count": 248,
     "metadata": {},
     "output_type": "execute_result"
    }
   ],
   "source": [
    "df.head()"
   ]
  },
  {
   "cell_type": "code",
   "execution_count": 251,
   "metadata": {},
   "outputs": [
    {
     "data": {
      "image/png": "[encoded data removed]",
      "text/plain": [
       "<Figure size 432x288 with 1 Axes>"
      ]
     },
     "metadata": {},
     "output_type": "display_data"
    }
   ],
   "source": [
    "plt.hist(df.reportable_comp/df.total_ex_comp_per_company)\n",
    "plt.xlabel('Percent of total executive compensation')\n",
    "plt.ylabel('Count')\n",
    "plt.title('Executive Compensation Percent')\n",
    "plt.tight_layout()\n",
    "plt.savefig('03.visualizations/execs_per_company.png');"
   ]
  },
  {
   "cell_type": "markdown",
   "metadata": {},
   "source": [
    "Executives are clearly bifurcated between those who are the only executive with that organization and those who are part of a larger organization with lots of executives."
   ]
  },
  {
   "cell_type": "markdown",
   "metadata": {},
   "source": [
    "### EXPORT DATASET FOR MODELING"
   ]
  },
  {
   "cell_type": "markdown",
   "metadata": {},
   "source": [
    "cleaned/organized dataset with added features - export for modeling"
   ]
  },
  {
   "cell_type": "code",
   "execution_count": 282,
   "metadata": {},
   "outputs": [
    {
     "data": {
      "text/plain": [
       "[(0, 'ein'),\n",
       " (1, 'period'),\n",
       " (2, 'title'),\n",
       " (3, 'hours'),\n",
       " (4, 'trustee_or_director'),\n",
       " (5, 'institutional_trustee'),\n",
       " (6, 'officer'),\n",
       " (7, 'key_employee'),\n",
       " (8, 'highest_compensated'),\n",
       " (9, 'reportable_comp'),\n",
       " (10, 'org_name'),\n",
       " (11, 'subsection'),\n",
       " (12, 'ntee_code'),\n",
       " (13, 'ntee_description'),\n",
       " (14, 'state'),\n",
       " (15, 'formation_yr'),\n",
       " (16, 'assets'),\n",
       " (17, 'liabilities'),\n",
       " (18, 'expenses'),\n",
       " (19, 'revenue'),\n",
       " (20, 'state_median_income'),\n",
       " (21, 'ntee_categories'),\n",
       " (22, 'total_ex_comp_per_company')]"
      ]
     },
     "execution_count": 282,
     "metadata": {},
     "output_type": "execute_result"
    }
   ],
   "source": [
    "# select columns to use for modeling\n",
    "list(enumerate(df.columns))"
   ]
  },
  {
   "cell_type": "code",
   "execution_count": 136,
   "metadata": {},
   "outputs": [
    {
     "data": {
      "text/plain": [
       "(133262, 22)"
      ]
     },
     "execution_count": 136,
     "metadata": {},
     "output_type": "execute_result"
    }
   ],
   "source": [
    "df.shape"
   ]
  },
  {
   "cell_type": "code",
   "execution_count": 281,
   "metadata": {},
   "outputs": [
    {
     "data": {
      "text/html": [
       "<div>\n",
       "<style scoped>\n",
       "    .dataframe tbody tr th:only-of-type {\n",
       "        vertical-align: middle;\n",
       "    }\n",
       "\n",
       "    .dataframe tbody tr th {\n",
       "        vertical-align: top;\n",
       "    }\n",
       "\n",
       "    .dataframe thead th {\n",
       "        text-align: right;\n",
       "    }\n",
       "</style>\n",
       "<table border=\"1\" class=\"dataframe\">\n",
       "  <thead>\n",
       "    <tr style=\"text-align: right;\">\n",
       "      <th></th>\n",
       "      <th>ein</th>\n",
       "      <th>reportable_comp</th>\n",
       "      <th>subsection</th>\n",
       "      <th>state</th>\n",
       "      <th>formation_yr</th>\n",
       "      <th>assets</th>\n",
       "      <th>liabilities</th>\n",
       "      <th>expenses</th>\n",
       "      <th>revenue</th>\n",
       "      <th>state_median_income</th>\n",
       "      <th>ntee_categories</th>\n",
       "      <th>total_ex_comp_per_company</th>\n",
       "    </tr>\n",
       "  </thead>\n",
       "  <tbody>\n",
       "    <tr>\n",
       "      <td>0</td>\n",
       "      <td>10877614</td>\n",
       "      <td>55385.0</td>\n",
       "      <td>501(c)(3)</td>\n",
       "      <td>IN</td>\n",
       "      <td>2006</td>\n",
       "      <td>2112293</td>\n",
       "      <td>92283.0</td>\n",
       "      <td>500749.0</td>\n",
       "      <td>1792933.0</td>\n",
       "      <td>54181</td>\n",
       "      <td>Health</td>\n",
       "      <td>115385</td>\n",
       "    </tr>\n",
       "    <tr>\n",
       "      <td>1</td>\n",
       "      <td>10877614</td>\n",
       "      <td>60000.0</td>\n",
       "      <td>501(c)(3)</td>\n",
       "      <td>IN</td>\n",
       "      <td>2006</td>\n",
       "      <td>2112293</td>\n",
       "      <td>92283.0</td>\n",
       "      <td>500749.0</td>\n",
       "      <td>1792933.0</td>\n",
       "      <td>54181</td>\n",
       "      <td>Health</td>\n",
       "      <td>115385</td>\n",
       "    </tr>\n",
       "    <tr>\n",
       "      <td>2</td>\n",
       "      <td>10945309</td>\n",
       "      <td>101486.0</td>\n",
       "      <td>501(c)(3)</td>\n",
       "      <td>IN</td>\n",
       "      <td>2009</td>\n",
       "      <td>20015611</td>\n",
       "      <td>20848801.0</td>\n",
       "      <td>24155447.0</td>\n",
       "      <td>22357380.0</td>\n",
       "      <td>54181</td>\n",
       "      <td>Health</td>\n",
       "      <td>741963</td>\n",
       "    </tr>\n",
       "    <tr>\n",
       "      <td>3</td>\n",
       "      <td>10945309</td>\n",
       "      <td>103819.0</td>\n",
       "      <td>501(c)(3)</td>\n",
       "      <td>IN</td>\n",
       "      <td>2009</td>\n",
       "      <td>20015611</td>\n",
       "      <td>20848801.0</td>\n",
       "      <td>24155447.0</td>\n",
       "      <td>22357380.0</td>\n",
       "      <td>54181</td>\n",
       "      <td>Health</td>\n",
       "      <td>741963</td>\n",
       "    </tr>\n",
       "    <tr>\n",
       "      <td>4</td>\n",
       "      <td>10945309</td>\n",
       "      <td>256928.0</td>\n",
       "      <td>501(c)(3)</td>\n",
       "      <td>IN</td>\n",
       "      <td>2009</td>\n",
       "      <td>20015611</td>\n",
       "      <td>20848801.0</td>\n",
       "      <td>24155447.0</td>\n",
       "      <td>22357380.0</td>\n",
       "      <td>54181</td>\n",
       "      <td>Health</td>\n",
       "      <td>741963</td>\n",
       "    </tr>\n",
       "    <tr>\n",
       "      <td>...</td>\n",
       "      <td>...</td>\n",
       "      <td>...</td>\n",
       "      <td>...</td>\n",
       "      <td>...</td>\n",
       "      <td>...</td>\n",
       "      <td>...</td>\n",
       "      <td>...</td>\n",
       "      <td>...</td>\n",
       "      <td>...</td>\n",
       "      <td>...</td>\n",
       "      <td>...</td>\n",
       "      <td>...</td>\n",
       "    </tr>\n",
       "    <tr>\n",
       "      <td>133257</td>\n",
       "      <td>836007730</td>\n",
       "      <td>95045.0</td>\n",
       "      <td>501(c)(3)</td>\n",
       "      <td>WY</td>\n",
       "      <td>1968</td>\n",
       "      <td>4061232</td>\n",
       "      <td>19348.0</td>\n",
       "      <td>696375.0</td>\n",
       "      <td>759348.0</td>\n",
       "      <td>60434</td>\n",
       "      <td>Human Services</td>\n",
       "      <td>95045</td>\n",
       "    </tr>\n",
       "    <tr>\n",
       "      <td>133258</td>\n",
       "      <td>841414521</td>\n",
       "      <td>100815.0</td>\n",
       "      <td>501(c)(12)</td>\n",
       "      <td>WY</td>\n",
       "      <td>1998</td>\n",
       "      <td>144242443</td>\n",
       "      <td>55771556.0</td>\n",
       "      <td>79772147.0</td>\n",
       "      <td>82262479.0</td>\n",
       "      <td>60434</td>\n",
       "      <td>Public, Societal Benefit</td>\n",
       "      <td>340665</td>\n",
       "    </tr>\n",
       "    <tr>\n",
       "      <td>133259</td>\n",
       "      <td>841414521</td>\n",
       "      <td>86100.0</td>\n",
       "      <td>501(c)(12)</td>\n",
       "      <td>WY</td>\n",
       "      <td>1998</td>\n",
       "      <td>144242443</td>\n",
       "      <td>55771556.0</td>\n",
       "      <td>79772147.0</td>\n",
       "      <td>82262479.0</td>\n",
       "      <td>60434</td>\n",
       "      <td>Public, Societal Benefit</td>\n",
       "      <td>340665</td>\n",
       "    </tr>\n",
       "    <tr>\n",
       "      <td>133260</td>\n",
       "      <td>841414521</td>\n",
       "      <td>153750.0</td>\n",
       "      <td>501(c)(12)</td>\n",
       "      <td>WY</td>\n",
       "      <td>1998</td>\n",
       "      <td>144242443</td>\n",
       "      <td>55771556.0</td>\n",
       "      <td>79772147.0</td>\n",
       "      <td>82262479.0</td>\n",
       "      <td>60434</td>\n",
       "      <td>Public, Societal Benefit</td>\n",
       "      <td>340665</td>\n",
       "    </tr>\n",
       "    <tr>\n",
       "      <td>133261</td>\n",
       "      <td>841561923</td>\n",
       "      <td>66346.0</td>\n",
       "      <td>501(c)(3)</td>\n",
       "      <td>WY</td>\n",
       "      <td>2007</td>\n",
       "      <td>4114239</td>\n",
       "      <td>91144.0</td>\n",
       "      <td>896614.0</td>\n",
       "      <td>859617.0</td>\n",
       "      <td>60434</td>\n",
       "      <td>Environment and Animals</td>\n",
       "      <td>66346</td>\n",
       "    </tr>\n",
       "  </tbody>\n",
       "</table>\n",
       "<p>133262 rows × 12 columns</p>\n",
       "</div>"
      ],
      "text/plain": [
       "              ein  reportable_comp  subsection state  formation_yr     assets  \\\n",
       "0        10877614          55385.0   501(c)(3)    IN          2006    2112293   \n",
       "1        10877614          60000.0   501(c)(3)    IN          2006    2112293   \n",
       "2        10945309         101486.0   501(c)(3)    IN          2009   20015611   \n",
       "3        10945309         103819.0   501(c)(3)    IN          2009   20015611   \n",
       "4        10945309         256928.0   501(c)(3)    IN          2009   20015611   \n",
       "...           ...              ...         ...   ...           ...        ...   \n",
       "133257  836007730          95045.0   501(c)(3)    WY          1968    4061232   \n",
       "133258  841414521         100815.0  501(c)(12)    WY          1998  144242443   \n",
       "133259  841414521          86100.0  501(c)(12)    WY          1998  144242443   \n",
       "133260  841414521         153750.0  501(c)(12)    WY          1998  144242443   \n",
       "133261  841561923          66346.0   501(c)(3)    WY          2007    4114239   \n",
       "\n",
       "        liabilities    expenses     revenue  state_median_income  \\\n",
       "0           92283.0    500749.0   1792933.0                54181   \n",
       "1           92283.0    500749.0   1792933.0                54181   \n",
       "2        20848801.0  24155447.0  22357380.0                54181   \n",
       "3        20848801.0  24155447.0  22357380.0                54181   \n",
       "4        20848801.0  24155447.0  22357380.0                54181   \n",
       "...             ...         ...         ...                  ...   \n",
       "133257      19348.0    696375.0    759348.0                60434   \n",
       "133258   55771556.0  79772147.0  82262479.0                60434   \n",
       "133259   55771556.0  79772147.0  82262479.0                60434   \n",
       "133260   55771556.0  79772147.0  82262479.0                60434   \n",
       "133261      91144.0    896614.0    859617.0                60434   \n",
       "\n",
       "                 ntee_categories  total_ex_comp_per_company  \n",
       "0                         Health                     115385  \n",
       "1                         Health                     115385  \n",
       "2                         Health                     741963  \n",
       "3                         Health                     741963  \n",
       "4                         Health                     741963  \n",
       "...                          ...                        ...  \n",
       "133257            Human Services                      95045  \n",
       "133258  Public, Societal Benefit                     340665  \n",
       "133259  Public, Societal Benefit                     340665  \n",
       "133260  Public, Societal Benefit                     340665  \n",
       "133261   Environment and Animals                      66346  \n",
       "\n",
       "[133262 rows x 12 columns]"
      ]
     },
     "execution_count": 281,
     "metadata": {},
     "output_type": "execute_result"
    }
   ],
   "source": [
    "pd.concat([df.loc[:,['ein',\n",
    "      'reportable_comp',\n",
    "      'subsection']],\n",
    "      df.iloc[:,14:]], axis=1)"
   ]
  },
  {
   "cell_type": "code",
   "execution_count": 283,
   "metadata": {},
   "outputs": [],
   "source": [
    "# export features for modeling\n",
    "pd.concat([df.loc[:,['ein',\n",
    "      'reportable_comp',\n",
    "      'subsection']],\n",
    "      df.iloc[:,13:]], axis=1).to_csv('02.data/executive_comp_features.csv', index=False)"
   ]
  },
  {
   "cell_type": "code",
   "execution_count": null,
   "metadata": {},
   "outputs": [],
   "source": []
  },
  {
   "cell_type": "code",
   "execution_count": null,
   "metadata": {},
   "outputs": [],
   "source": []
  },
  {
   "cell_type": "code",
   "execution_count": null,
   "metadata": {},
   "outputs": [],
   "source": []
  },
  {
   "cell_type": "code",
   "execution_count": null,
   "metadata": {},
   "outputs": [],
   "source": []
  },
  {
   "cell_type": "code",
   "execution_count": null,
   "metadata": {},
   "outputs": [],
   "source": []
  },
  {
   "cell_type": "code",
   "execution_count": null,
   "metadata": {},
   "outputs": [],
   "source": []
  },
  {
   "cell_type": "code",
   "execution_count": null,
   "metadata": {},
   "outputs": [],
   "source": []
  },
  {
   "cell_type": "code",
   "execution_count": null,
   "metadata": {},
   "outputs": [],
   "source": []
  },
  {
   "cell_type": "code",
   "execution_count": null,
   "metadata": {},
   "outputs": [],
   "source": []
  },
  {
   "cell_type": "markdown",
   "metadata": {},
   "source": [
    "## SPARE PARTS"
   ]
  },
  {
   "cell_type": "markdown",
   "metadata": {},
   "source": [
    "### Title analysis\n",
    "This is a fill in the blank field, as a result there are a huge number of unique values."
   ]
  },
  {
   "cell_type": "code",
   "execution_count": 73,
   "metadata": {},
   "outputs": [
    {
     "data": {
      "text/plain": [
       "7035"
      ]
     },
     "execution_count": 73,
     "metadata": {},
     "output_type": "execute_result"
    }
   ],
   "source": [
    "df.title.nunique()"
   ]
  },
  {
   "cell_type": "code",
   "execution_count": 357,
   "metadata": {},
   "outputs": [
    {
     "data": {
      "text/plain": [
       "DIRECTOR              5518\n",
       "PRESIDENT             2353\n",
       "Director              2170\n",
       "TRUSTEE               1702\n",
       "BOARD MEMBER          1507\n",
       "EXECUTIVE DIRECTOR    1452\n",
       "SECRETARY             1115\n",
       "TREASURER             1057\n",
       "President             1009\n",
       "VICE PRESIDENT         832\n",
       "Name: title, dtype: int64"
      ]
     },
     "execution_count": 357,
     "metadata": {},
     "output_type": "execute_result"
    }
   ],
   "source": [
    "df.title.value_counts().head(10)"
   ]
  },
  {
   "cell_type": "code",
   "execution_count": 356,
   "metadata": {},
   "outputs": [
    {
     "data": {
      "text/plain": [
       "(4140, 16)"
      ]
     },
     "execution_count": 356,
     "metadata": {},
     "output_type": "execute_result"
    }
   ],
   "source": [
    "# how many trustees/directors\n",
    "# have multiple roles listed within their title?\n",
    "df[(~df.title.isna()) &\n",
    "  (df.title.str.contains('/'))].shape"
   ]
  }
 ],
 "metadata": {
  "kernelspec": {
   "display_name": "Python 3",
   "language": "python",
   "name": "python3"
  },
  "language_info": {
   "codemirror_mode": {
    "name": "ipython",
    "version": 3
   },
   "file_extension": ".py",
   "mimetype": "text/x-python",
   "name": "python",
   "nbconvert_exporter": "python",
   "pygments_lexer": "ipython3",
   "version": "3.7.3"
  }
 },
 "nbformat": 4,
 "nbformat_minor": 4
}
