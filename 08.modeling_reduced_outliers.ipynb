{
 "cells": [
  {
   "cell_type": "markdown",
   "metadata": {},
   "source": [
    "## Model Data:\n",
    "\n",
    "### Trimmed Outliers"
   ]
  },
  {
   "cell_type": "code",
   "execution_count": 1,
   "metadata": {},
   "outputs": [],
   "source": [
    "import numpy as np\n",
    "import pandas as pd\n",
    "pd.set_option('display.max_columns', None)\n",
    "\n",
    "import matplotlib.pyplot as plt\n",
    "import seaborn as sns\n",
    "plt.style.use('ggplot')\n",
    "import plotly.express as px\n",
    "# plt.style.use('bmh')\n",
    "import warnings\n",
    "# from pandas.core.common import SettingWithCopyWarning\n",
    "# warnings.simplefilter(action=\"ignore\", category=[SettingWithCopyWarning, FutureWarning])\n",
    "\n",
    "import jenkspy\n",
    "\n",
    "from sklearn.linear_model import LinearRegression\n",
    "from sklearn.model_selection import train_test_split\n",
    "from sklearn.metrics import mean_absolute_error\n",
    "from statsmodels.tools.eval_measures import mse, rmse\n",
    "import statsmodels.api as sm\n",
    "from sklearn import linear_model\n",
    "\n",
    "from sklearn import ensemble\n",
    "from sklearn.model_selection import cross_val_score\n",
    "from sklearn.model_selection import GridSearchCV\n",
    "from sklearn.preprocessing import power_transform\n",
    "\n",
    "from sklearn.linear_model import RidgeCV\n",
    "from sklearn.linear_model import LassoCV\n",
    "from sklearn.preprocessing import StandardScaler\n",
    "from sklearn.linear_model import ElasticNetCV"
   ]
  },
  {
   "cell_type": "markdown",
   "metadata": {},
   "source": [
    "## IMPORT DATA"
   ]
  },
  {
   "cell_type": "code",
   "execution_count": 30,
   "metadata": {},
   "outputs": [],
   "source": [
    "# import executive compensation data\n",
    "df = pd.read_csv('02.data/executive_comp_data.csv')"
   ]
  },
  {
   "cell_type": "code",
   "execution_count": 31,
   "metadata": {},
   "outputs": [],
   "source": [
    "# fillna for formation_year\n",
    "# I may want to do this with random forest instead\n",
    "df.formation_yr.fillna(df.formation_yr.mean(), inplace=True)"
   ]
  },
  {
   "cell_type": "code",
   "execution_count": 6,
   "metadata": {},
   "outputs": [
    {
     "data": {
      "text/plain": [
       "ein                          0\n",
       "period                       0\n",
       "title                      268\n",
       "trustee_or_director          0\n",
       "institutional_trustee    40051\n",
       "officer                  21102\n",
       "key_employee             39207\n",
       "highest_compensated      39470\n",
       "reportable_comp              0\n",
       "org_name                     0\n",
       "subsection                   0\n",
       "ntee_code                    0\n",
       "ntee_description             0\n",
       "state                      115\n",
       "formation_yr                 0\n",
       "assets                       0\n",
       "liabilities                  0\n",
       "expenses                     0\n",
       "revenue                      0\n",
       "ntee_letter                  0\n",
       "dtype: int64"
      ]
     },
     "execution_count": 6,
     "metadata": {},
     "output_type": "execute_result"
    }
   ],
   "source": [
    "df.isna().sum()"
   ]
  },
  {
   "cell_type": "code",
   "execution_count": 8,
   "metadata": {},
   "outputs": [
    {
     "data": {
      "text/plain": [
       "(array([   17.,    44.,   521.,  3152.,  7626., 10617., 13059.,  4524.,\n",
       "          510.,    27.]),\n",
       " array([ 0.        ,  1.68895881,  3.37791762,  5.06687643,  6.75583524,\n",
       "         8.44479405, 10.13375286, 11.82271167, 13.51167048, 15.20062929,\n",
       "        16.8895881 ]),\n",
       " <a list of 10 Patch objects>)"
      ]
     },
     "execution_count": 8,
     "metadata": {},
     "output_type": "execute_result"
    },
    {
     "data": {
      "image/png": "[encoded data removed]",
      "text/plain": [
       "<Figure size 432x288 with 1 Axes>"
      ]
     },
     "metadata": {
      "needs_background": "light"
     },
     "output_type": "display_data"
    }
   ],
   "source": [
    "plt.hist(df.reportable_comp.transform(np.log))"
   ]
  },
  {
   "cell_type": "code",
   "execution_count": 9,
   "metadata": {},
   "outputs": [],
   "source": [
    "df.reportable_comp = df.reportable_comp.transform(np.log)"
   ]
  },
  {
   "cell_type": "code",
   "execution_count": 10,
   "metadata": {},
   "outputs": [],
   "source": [
    "# assign X and y variables\n",
    "y = df.reportable_comp.transform(np.log)\n",
    "X = pd.get_dummies(df[['subsection',\n",
    "     'state',\n",
    "      'formation_yr',\n",
    "      'assets',\n",
    "      'liabilities',\n",
    "      'expenses',\n",
    "      'revenue',\n",
    "      'ntee_letter']])"
   ]
  },
  {
   "cell_type": "code",
   "execution_count": 109,
   "metadata": {},
   "outputs": [],
   "source": [
    "X_train, X_test, y_train, y_test = train_test_split(X, y, test_size = 0.2, random_state = 42)"
   ]
  },
  {
   "cell_type": "code",
   "execution_count": 11,
   "metadata": {},
   "outputs": [
    {
     "name": "stderr",
     "output_type": "stream",
     "text": [
      "C:\\Users\\mrkjh\\Miniconda3\\lib\\site-packages\\sklearn\\ensemble\\forest.py:245: FutureWarning:\n",
      "\n",
      "The default value of n_estimators will change from 10 in version 0.20 to 100 in 0.22.\n",
      "\n"
     ]
    },
    {
     "data": {
      "text/plain": [
       "array([0.156922  , 0.15537804, 0.16659893, 0.02644972, 0.10696747])"
      ]
     },
     "execution_count": 11,
     "metadata": {},
     "output_type": "execute_result"
    }
   ],
   "source": [
    "rfr = ensemble.RandomForestRegressor()\n",
    "\n",
    "rfr.fit(X, y)\n",
    "\n",
    "cross_val_score(rfr, X, y, cv=5)"
   ]
  },
  {
   "cell_type": "markdown",
   "metadata": {},
   "source": [
    "Using log transform to remove outliers from compensation only helped a little bit."
   ]
  },
  {
   "cell_type": "code",
   "execution_count": null,
   "metadata": {},
   "outputs": [],
   "source": []
  },
  {
   "cell_type": "markdown",
   "metadata": {},
   "source": [
    "### Remove outliers on the small end of the spectrum"
   ]
  },
  {
   "cell_type": "code",
   "execution_count": 36,
   "metadata": {},
   "outputs": [
    {
     "data": {
      "text/plain": [
       "0    1000.0\n",
       "dtype: float64"
      ]
     },
     "execution_count": 36,
     "metadata": {},
     "output_type": "execute_result"
    }
   ],
   "source": [
    "df.reportable_comp.mode()"
   ]
  },
  {
   "cell_type": "code",
   "execution_count": 41,
   "metadata": {},
   "outputs": [
    {
     "data": {
      "text/plain": [
       "19200.0"
      ]
     },
     "execution_count": 41,
     "metadata": {},
     "output_type": "execute_result"
    }
   ],
   "source": [
    "df.reportable_comp.quantile(.5)"
   ]
  },
  {
   "cell_type": "code",
   "execution_count": 35,
   "metadata": {},
   "outputs": [
    {
     "data": {
      "text/plain": [
       "0        55385.0\n",
       "1        60000.0\n",
       "2        71062.0\n",
       "3         9010.0\n",
       "4        87452.0\n",
       "          ...   \n",
       "40092    12000.0\n",
       "40093    39880.0\n",
       "40094    50288.0\n",
       "40095    48188.0\n",
       "40096     9000.0\n",
       "Name: reportable_comp, Length: 40097, dtype: float64"
      ]
     },
     "execution_count": 35,
     "metadata": {},
     "output_type": "execute_result"
    }
   ],
   "source": [
    "df.reportable_comp.clip(lower=df.reportable_comp.quantile(.1))"
   ]
  },
  {
   "cell_type": "code",
   "execution_count": 373,
   "metadata": {},
   "outputs": [],
   "source": [
    "# trim at 90th percentile\n",
    "# for column in df_eda.iloc[:,-5:]:\n",
    "#     df_eda[column].clip(upper=df_eda[column].quantile(.9), inplace=True)"
   ]
  },
  {
   "cell_type": "code",
   "execution_count": 42,
   "metadata": {},
   "outputs": [],
   "source": [
    "# assign X and y variables\n",
    "y = df.reportable_comp.clip(lower=df.reportable_comp.quantile(.5))\n",
    "X = pd.get_dummies(df[['subsection',\n",
    "     'state',\n",
    "      'formation_yr',\n",
    "      'assets',\n",
    "      'liabilities',\n",
    "      'expenses',\n",
    "      'revenue',\n",
    "      'ntee_letter']])"
   ]
  },
  {
   "cell_type": "code",
   "execution_count": 109,
   "metadata": {},
   "outputs": [],
   "source": [
    "# X_train, X_test, y_train, y_test = train_test_split(X, y, test_size = 0.2, random_state = 42)"
   ]
  },
  {
   "cell_type": "code",
   "execution_count": 38,
   "metadata": {},
   "outputs": [
    {
     "data": {
      "text/plain": [
       "(40097,)"
      ]
     },
     "execution_count": 38,
     "metadata": {},
     "output_type": "execute_result"
    }
   ],
   "source": [
    "y.shape"
   ]
  },
  {
   "cell_type": "code",
   "execution_count": 25,
   "metadata": {},
   "outputs": [
    {
     "data": {
      "text/plain": [
       "(40097, 105)"
      ]
     },
     "execution_count": 25,
     "metadata": {},
     "output_type": "execute_result"
    }
   ],
   "source": [
    "X.shape"
   ]
  },
  {
   "cell_type": "code",
   "execution_count": 44,
   "metadata": {},
   "outputs": [
    {
     "name": "stderr",
     "output_type": "stream",
     "text": [
      "C:\\Users\\mrkjh\\Miniconda3\\lib\\site-packages\\sklearn\\ensemble\\forest.py:245: FutureWarning:\n",
      "\n",
      "The default value of n_estimators will change from 10 in version 0.20 to 100 in 0.22.\n",
      "\n"
     ]
    },
    {
     "data": {
      "text/plain": [
       "array([ 0.31929251,  0.06124194, -0.25014639, -0.06289318, -0.05428664,\n",
       "        0.01644177,  0.05698841, -0.10274868, -0.39182427, -0.10742395])"
      ]
     },
     "execution_count": 44,
     "metadata": {},
     "output_type": "execute_result"
    }
   ],
   "source": [
    "rfr = ensemble.RandomForestRegressor()\n",
    "\n",
    "rfr.fit(X, y)\n",
    "\n",
    "cross_val_score(rfr, X, y, cv=10)"
   ]
  },
  {
   "cell_type": "markdown",
   "metadata": {},
   "source": [
    "Trimming outliers on the low side seems to help to some extent."
   ]
  },
  {
   "cell_type": "code",
   "execution_count": 45,
   "metadata": {},
   "outputs": [
    {
     "data": {
      "image/png": "[encoded data removed]",
      "text/plain": [
       "<Figure size 720x1080 with 1 Axes>"
      ]
     },
     "metadata": {
      "needs_background": "light"
     },
     "output_type": "display_data"
    }
   ],
   "source": [
    "# visualize feature importances\n",
    "plt.figure(figsize=(10, 15))\n",
    "\n",
    "feature_importance = 100.0 * (rfr.feature_importances_ / rfr.feature_importances_.max())\n",
    "sorted_idx = np.argsort(feature_importance)\n",
    "pos = np.arange(sorted_idx.shape[0]) + .5\n",
    "plt.subplot(1, 2, 2)\n",
    "plt.barh(pos, feature_importance[sorted_idx], align='center')\n",
    "plt.yticks(pos, X.columns[sorted_idx])\n",
    "plt.xlabel('Relative Importance')\n",
    "plt.title('Variable Importance');"
   ]
  },
  {
   "cell_type": "code",
   "execution_count": null,
   "metadata": {},
   "outputs": [],
   "source": []
  }
 ],
 "metadata": {
  "kernelspec": {
   "display_name": "Python 3",
   "language": "python",
   "name": "python3"
  },
  "language_info": {
   "codemirror_mode": {
    "name": "ipython",
    "version": 3
   },
   "file_extension": ".py",
   "mimetype": "text/x-python",
   "name": "python",
   "nbconvert_exporter": "python",
   "pygments_lexer": "ipython3",
   "version": "3.7.3"
  }
 },
 "nbformat": 4,
 "nbformat_minor": 4
}
